{
 "metadata": {
  "language_info": {
   "codemirror_mode": {
    "name": "ipython",
    "version": 3
   },
   "file_extension": ".py",
   "mimetype": "text/x-python",
   "name": "python",
   "nbconvert_exporter": "python",
   "pygments_lexer": "ipython3",
   "version": "3.8.5-final"
  },
  "orig_nbformat": 2,
  "kernelspec": {
   "name": "python3",
   "display_name": "Python 3",
   "language": "python"
  }
 },
 "nbformat": 4,
 "nbformat_minor": 2,
 "cells": [
  {
   "cell_type": "code",
   "execution_count": 18,
   "metadata": {},
   "outputs": [],
   "source": [
    "def print_lines():\n",
    "    print('\\n')\n",
    "    print('='*20)\n",
    "    print('\\n')\n"
   ]
  },
  {
   "cell_type": "code",
   "execution_count": 19,
   "metadata": {},
   "outputs": [
    {
     "output_type": "stream",
     "name": "stdout",
     "text": [
      "<class 'pandas.core.series.Series'>\n\na    1\nb    2\nc    3\ndtype: int64\n"
     ]
    }
   ],
   "source": [
    "# 예제 1-1  딕셔너리 -> 시리즈\n",
    "import pandas as pd\n",
    "\n",
    "dict_data = {\n",
    "    'a': 1,\n",
    "    'b': 2,\n",
    "    'c': 3\n",
    "}\n",
    "\n",
    "sr = pd.Series(dict_data)\n",
    "print(str(type(sr)) + '\\n')\n",
    "print(sr)"
   ]
  },
  {
   "cell_type": "code",
   "execution_count": 20,
   "metadata": {},
   "outputs": [
    {
     "output_type": "stream",
     "name": "stdout",
     "text": [
      "시리즈\n0         test1\n1          3.12\n2    2020-01-01\n3          1000\n4          True\ndtype: object\n\n\n====================\n\n\n인덱스\nRangeIndex(start=0, stop=5, step=1)\n<class 'pandas.core.indexes.range.RangeIndex'>\n\n\n====================\n\n\n데이터 값\n['test1' 3.12 '2020-01-01' 1000 True]\n<class 'numpy.ndarray'>\n\n\n====================\n\n\n"
     ]
    }
   ],
   "source": [
    "# 예제 1-2  리스트 -> 시리즈\n",
    "import pandas as pd\n",
    "\n",
    "list_data = ['test1', 3.12, '2020-01-01', 1000, True]\n",
    "sr = pd.Series(list_data)\n",
    "\n",
    "print('시리즈')\n",
    "print(sr)\n",
    "print_lines()\n",
    "\n",
    "sr_index = sr.index\n",
    "sr_values = sr.values\n",
    "\n",
    "print('인덱스')\n",
    "print(sr_index)\n",
    "print(type(sr_index))\n",
    "print_lines()\n",
    "\n",
    "print('데이터 값')\n",
    "print(sr_values)\n",
    "print(type(sr_values))\n",
    "print_lines()"
   ]
  },
  {
   "cell_type": "code",
   "execution_count": 35,
   "metadata": {},
   "outputs": [
    {
     "output_type": "stream",
     "name": "stdout",
     "text": [
      "시리즈\n이름             버부\n날짜     2020-01-02\n참트루          True\n소수점          12.3\n정수            234\ndtype: object\n\n\n====================\n\n\nby 정수형 위치 인덱스    : 버부\nby 인덱스 이름       : 버부\n\n\n====================\n\n\nby 정수형 슬라이스   :    날짜    2020-01-02\ndtype: object\nby 정수형 위치 인덱스    : 버부\nby 인덱스 이름       : 버부\n\n\n====================\n\n\nby 정수형 슬라이스   :    날짜    2020-01-02\ndtype: object\nby 이름 슬라이스    :   \n 날짜     2020-01-02\n참트루          True\n소수점          12.3\n정수            234\ndtype: object\n"
     ]
    }
   ],
   "source": [
    "# 예제 1-3  시리즈 원소 선택\n",
    "import pandas as pd\n",
    "\n",
    "tup_data = ('버부', '2020-01-02', True, 12.3, 234)\n",
    "list_index = ['이름', '날짜', '참트루', '소수점', '정수']\n",
    "sr = pd.Series(tup_data, list_index)\n",
    "\n",
    "print('시리즈')\n",
    "print(sr)\n",
    "print_lines()\n",
    "\n",
    "print('by 정수형 위치 인덱스    :',sr[0])\n",
    "print('by 인덱스 이름       :',sr['이름'])\n",
    "print_lines()\n",
    "\n",
    "print('by 정수형 슬라이스   :   ',sr[1:2])\n",
    "print('by 정수형 위치 인덱스    :',sr[0])\n",
    "print('by 인덱스 이름       :',sr['이름'])\n",
    "print_lines()\n",
    "\n",
    "print('by 정수형 슬라이스   :   ',sr[1:2])\n",
    "print('by 이름 슬라이스    :  ','\\n',sr['날짜':'정수'])\n"
   ]
  },
  {
   "cell_type": "code",
   "execution_count": 38,
   "metadata": {},
   "outputs": [
    {
     "output_type": "stream",
     "name": "stdout",
     "text": [
      "데이터 프레임\n<class 'pandas.core.frame.DataFrame'>\n   c0  c1  c2  c3  c4\n0   0   5  10  15  20\n1   1   6  11  16  21\n2   2   7  12  17  22\n3   3   8  13  18  23\n4   4   9  14  19  24\n"
     ]
    }
   ],
   "source": [
    "# 예제 1-4  딕셔너리 -> 데이터 프레임\n",
    "import pandas as pd\n",
    "\n",
    "dict_data = {\n",
    "    'c0':list(range(0,5)),\n",
    "    'c1':list(range(5,10)),\n",
    "    'c2':list(range(10,15)),\n",
    "    'c3':list(range(15,20)),\n",
    "    'c4':list(range(20,25)),\n",
    "}\n",
    "\n",
    "df = pd.DataFrame(dict_data)\n",
    "\n",
    "print('데이터 프레임')\n",
    "print(type(df))\n",
    "print(df)"
   ]
  },
  {
   "cell_type": "code",
   "execution_count": 49,
   "metadata": {},
   "outputs": [
    {
     "output_type": "stream",
     "name": "stdout",
     "text": [
      "    0  1    2\n0  25  남  컴공과\n1  23  여  사복과\n\n\n====================\n\n\n    나이 성별   학과\n법우  25  남  컴공과\n혜림  23  여  사복과\nIndex(['법우', '혜림'], dtype='object')\nIndex(['나이', '성별', '학과'], dtype='object')\n\n\n====================\n\n\n     age sex major\nKBW   25   남   컴공과\nYHR   23   여   사복과\nIndex(['KBW', 'YHR'], dtype='object')\nIndex(['age', 'sex', 'major'], dtype='object')\n\n\n====================\n\n\n     age sex major\n김법우   25   남   컴공과\n윤혜림   23   여   사복과\nIndex(['김법우', '윤혜림'], dtype='object')\nIndex(['age', 'sex', 'major'], dtype='object')\n\n\n====================\n\n\n     나이 성별 소속 학과\n김법우  25  남   컴공과\n윤혜림  23  여   사복과\nIndex(['김법우', '윤혜림'], dtype='object')\nIndex(['나이', '성별', '소속 학과'], dtype='object')\n\n\n====================\n\n\n"
     ]
    }
   ],
   "source": [
    "# 예제 1-5  행 인덱스/열 이름 설정\n",
    "import pandas as pd\n",
    "\n",
    "list_2d = [\n",
    "    [25, '남', '컴공과'],\n",
    "    [23, '여', '사복과']    \n",
    "]\n",
    "\n",
    "df = pd.DataFrame(list_2d)\n",
    "print(df)\n",
    "print_lines()\n",
    "\n",
    "df = pd.DataFrame(\n",
    "    list_2d,\n",
    "    index=['법우','혜림'],\n",
    "    columns=['나이','성별','학과']\n",
    "    )\n",
    "print(df)\n",
    "print(df.index)\n",
    "print(df.columns)\n",
    "print_lines()\n",
    "\n",
    "df.index = ['KBW', 'YHR']\n",
    "df.columns = ['age', 'sex', 'major']\n",
    "print(df)\n",
    "print(df.index)\n",
    "print(df.columns)\n",
    "print_lines()\n",
    "\n",
    "# 예제 1-6  행 인덱스/열 이름 변경\n",
    "df.rename(index={'KBW':'김법우', 'YHR':'윤혜림'}, inplace=True)\n",
    "print(df)\n",
    "print(df.index)\n",
    "print(df.columns)\n",
    "print_lines()\n",
    "\n",
    "df.rename(columns={'age':'나이', 'sex':'성별', 'major':'소속 학과'}, inplace=True)\n",
    "print(df)\n",
    "print(df.index)\n",
    "print(df.columns)\n",
    "print_lines()\n",
    "\n"
   ]
  },
  {
   "cell_type": "code",
   "execution_count": 54,
   "metadata": {},
   "outputs": [
    {
     "output_type": "stream",
     "name": "stdout",
     "text": [
      "    math  kor  eng  com\nA씨    80   88   89   86\nB씨    60   66   57   77\nC씨    70   90   98   44\n\n\n====================\n\n\n    math  kor  eng  com\nB씨    60   66   57   77\nC씨    70   90   98   44\n\n\n====================\n\n\n    math  kor  eng  com\nA씨    80   88   89   86\n\n\n====================\n\n\n"
     ]
    }
   ],
   "source": [
    "# 예제 1-7  행 삭제\n",
    "import pandas as pd\n",
    "\n",
    "exam_data = {\n",
    "    'math':[80,60,70],\n",
    "    'kor':[88,66,90],\n",
    "    'eng':[89,57,98],\n",
    "    'com':[86,77,44]\n",
    "}\n",
    "\n",
    "exam_index = ['A씨','B씨','C씨']\n",
    "\n",
    "df = pd.DataFrame(exam_data, index=exam_index)\n",
    "print(df)\n",
    "print_lines()\n",
    "\n",
    "df2 = df[:]\n",
    "df2.drop('A씨', inplace=True)\n",
    "print(df2)\n",
    "print_lines()\n",
    "\n",
    "df3 = df[:]\n",
    "df3.drop(['C씨','B씨'], inplace=True)\n",
    "print(df3)\n",
    "print_lines()\n"
   ]
  },
  {
   "cell_type": "code",
   "execution_count": 59,
   "metadata": {},
   "outputs": [
    {
     "output_type": "stream",
     "name": "stdout",
     "text": [
      "    math  kor  eng  com\nA씨    80   88   89   86\nB씨    60   66   57   77\nC씨    70   90   98   44\n\n\n====================\n\n\n    kor  eng  com\nA씨   88   89   86\nB씨   66   57   77\nC씨   90   98   44\n\n\n====================\n\n\n"
     ]
    },
    {
     "output_type": "error",
     "ename": "KeyError",
     "evalue": "\"['kor' 'eng'] not found in axis\"",
     "traceback": [
      "\u001b[0;31m---------------------------------------------------------------------------\u001b[0m",
      "\u001b[0;31mKeyError\u001b[0m                                  Traceback (most recent call last)",
      "\u001b[0;32m<ipython-input-59-a642f1b78c39>\u001b[0m in \u001b[0;36m<module>\u001b[0;34m\u001b[0m\n\u001b[1;32m     20\u001b[0m \u001b[0;34m\u001b[0m\u001b[0m\n\u001b[1;32m     21\u001b[0m \u001b[0mdf3\u001b[0m \u001b[0;34m=\u001b[0m \u001b[0mdf\u001b[0m\u001b[0;34m[\u001b[0m\u001b[0;34m:\u001b[0m\u001b[0;34m]\u001b[0m\u001b[0;34m\u001b[0m\u001b[0;34m\u001b[0m\u001b[0m\n\u001b[0;32m---> 22\u001b[0;31m \u001b[0mdf3\u001b[0m\u001b[0;34m.\u001b[0m\u001b[0mdrop\u001b[0m\u001b[0;34m(\u001b[0m\u001b[0;34m[\u001b[0m\u001b[0;34m'kor'\u001b[0m\u001b[0;34m,\u001b[0m\u001b[0;34m'eng'\u001b[0m\u001b[0;34m]\u001b[0m\u001b[0;34m,\u001b[0m \u001b[0maxis\u001b[0m\u001b[0;34m=\u001b[0m\u001b[0;36m0\u001b[0m\u001b[0;34m,\u001b[0m \u001b[0minplace\u001b[0m\u001b[0;34m=\u001b[0m\u001b[0;32mTrue\u001b[0m\u001b[0;34m)\u001b[0m\u001b[0;34m\u001b[0m\u001b[0;34m\u001b[0m\u001b[0m\n\u001b[0m\u001b[1;32m     23\u001b[0m \u001b[0mprint\u001b[0m\u001b[0;34m(\u001b[0m\u001b[0mdf3\u001b[0m\u001b[0;34m)\u001b[0m\u001b[0;34m\u001b[0m\u001b[0;34m\u001b[0m\u001b[0m\n\u001b[1;32m     24\u001b[0m \u001b[0mprint_lines\u001b[0m\u001b[0;34m(\u001b[0m\u001b[0;34m)\u001b[0m\u001b[0;34m\u001b[0m\u001b[0;34m\u001b[0m\u001b[0m\n",
      "\u001b[0;32m~/anaconda3/lib/python3.8/site-packages/pandas/core/frame.py\u001b[0m in \u001b[0;36mdrop\u001b[0;34m(self, labels, axis, index, columns, level, inplace, errors)\u001b[0m\n\u001b[1;32m   4161\u001b[0m                 \u001b[0mweight\u001b[0m  \u001b[0;36m1.0\u001b[0m     \u001b[0;36m0.8\u001b[0m\u001b[0;34m\u001b[0m\u001b[0;34m\u001b[0m\u001b[0m\n\u001b[1;32m   4162\u001b[0m         \"\"\"\n\u001b[0;32m-> 4163\u001b[0;31m         return super().drop(\n\u001b[0m\u001b[1;32m   4164\u001b[0m             \u001b[0mlabels\u001b[0m\u001b[0;34m=\u001b[0m\u001b[0mlabels\u001b[0m\u001b[0;34m,\u001b[0m\u001b[0;34m\u001b[0m\u001b[0;34m\u001b[0m\u001b[0m\n\u001b[1;32m   4165\u001b[0m             \u001b[0maxis\u001b[0m\u001b[0;34m=\u001b[0m\u001b[0maxis\u001b[0m\u001b[0;34m,\u001b[0m\u001b[0;34m\u001b[0m\u001b[0;34m\u001b[0m\u001b[0m\n",
      "\u001b[0;32m~/anaconda3/lib/python3.8/site-packages/pandas/core/generic.py\u001b[0m in \u001b[0;36mdrop\u001b[0;34m(self, labels, axis, index, columns, level, inplace, errors)\u001b[0m\n\u001b[1;32m   3885\u001b[0m         \u001b[0;32mfor\u001b[0m \u001b[0maxis\u001b[0m\u001b[0;34m,\u001b[0m \u001b[0mlabels\u001b[0m \u001b[0;32min\u001b[0m \u001b[0maxes\u001b[0m\u001b[0;34m.\u001b[0m\u001b[0mitems\u001b[0m\u001b[0;34m(\u001b[0m\u001b[0;34m)\u001b[0m\u001b[0;34m:\u001b[0m\u001b[0;34m\u001b[0m\u001b[0;34m\u001b[0m\u001b[0m\n\u001b[1;32m   3886\u001b[0m             \u001b[0;32mif\u001b[0m \u001b[0mlabels\u001b[0m \u001b[0;32mis\u001b[0m \u001b[0;32mnot\u001b[0m \u001b[0;32mNone\u001b[0m\u001b[0;34m:\u001b[0m\u001b[0;34m\u001b[0m\u001b[0;34m\u001b[0m\u001b[0m\n\u001b[0;32m-> 3887\u001b[0;31m                 \u001b[0mobj\u001b[0m \u001b[0;34m=\u001b[0m \u001b[0mobj\u001b[0m\u001b[0;34m.\u001b[0m\u001b[0m_drop_axis\u001b[0m\u001b[0;34m(\u001b[0m\u001b[0mlabels\u001b[0m\u001b[0;34m,\u001b[0m \u001b[0maxis\u001b[0m\u001b[0;34m,\u001b[0m \u001b[0mlevel\u001b[0m\u001b[0;34m=\u001b[0m\u001b[0mlevel\u001b[0m\u001b[0;34m,\u001b[0m \u001b[0merrors\u001b[0m\u001b[0;34m=\u001b[0m\u001b[0merrors\u001b[0m\u001b[0;34m)\u001b[0m\u001b[0;34m\u001b[0m\u001b[0;34m\u001b[0m\u001b[0m\n\u001b[0m\u001b[1;32m   3888\u001b[0m \u001b[0;34m\u001b[0m\u001b[0m\n\u001b[1;32m   3889\u001b[0m         \u001b[0;32mif\u001b[0m \u001b[0minplace\u001b[0m\u001b[0;34m:\u001b[0m\u001b[0;34m\u001b[0m\u001b[0;34m\u001b[0m\u001b[0m\n",
      "\u001b[0;32m~/anaconda3/lib/python3.8/site-packages/pandas/core/generic.py\u001b[0m in \u001b[0;36m_drop_axis\u001b[0;34m(self, labels, axis, level, errors)\u001b[0m\n\u001b[1;32m   3919\u001b[0m                 \u001b[0mnew_axis\u001b[0m \u001b[0;34m=\u001b[0m \u001b[0maxis\u001b[0m\u001b[0;34m.\u001b[0m\u001b[0mdrop\u001b[0m\u001b[0;34m(\u001b[0m\u001b[0mlabels\u001b[0m\u001b[0;34m,\u001b[0m \u001b[0mlevel\u001b[0m\u001b[0;34m=\u001b[0m\u001b[0mlevel\u001b[0m\u001b[0;34m,\u001b[0m \u001b[0merrors\u001b[0m\u001b[0;34m=\u001b[0m\u001b[0merrors\u001b[0m\u001b[0;34m)\u001b[0m\u001b[0;34m\u001b[0m\u001b[0;34m\u001b[0m\u001b[0m\n\u001b[1;32m   3920\u001b[0m             \u001b[0;32melse\u001b[0m\u001b[0;34m:\u001b[0m\u001b[0;34m\u001b[0m\u001b[0;34m\u001b[0m\u001b[0m\n\u001b[0;32m-> 3921\u001b[0;31m                 \u001b[0mnew_axis\u001b[0m \u001b[0;34m=\u001b[0m \u001b[0maxis\u001b[0m\u001b[0;34m.\u001b[0m\u001b[0mdrop\u001b[0m\u001b[0;34m(\u001b[0m\u001b[0mlabels\u001b[0m\u001b[0;34m,\u001b[0m \u001b[0merrors\u001b[0m\u001b[0;34m=\u001b[0m\u001b[0merrors\u001b[0m\u001b[0;34m)\u001b[0m\u001b[0;34m\u001b[0m\u001b[0;34m\u001b[0m\u001b[0m\n\u001b[0m\u001b[1;32m   3922\u001b[0m             \u001b[0mresult\u001b[0m \u001b[0;34m=\u001b[0m \u001b[0mself\u001b[0m\u001b[0;34m.\u001b[0m\u001b[0mreindex\u001b[0m\u001b[0;34m(\u001b[0m\u001b[0;34m**\u001b[0m\u001b[0;34m{\u001b[0m\u001b[0maxis_name\u001b[0m\u001b[0;34m:\u001b[0m \u001b[0mnew_axis\u001b[0m\u001b[0;34m}\u001b[0m\u001b[0;34m)\u001b[0m\u001b[0;34m\u001b[0m\u001b[0;34m\u001b[0m\u001b[0m\n\u001b[1;32m   3923\u001b[0m \u001b[0;34m\u001b[0m\u001b[0m\n",
      "\u001b[0;32m~/anaconda3/lib/python3.8/site-packages/pandas/core/indexes/base.py\u001b[0m in \u001b[0;36mdrop\u001b[0;34m(self, labels, errors)\u001b[0m\n\u001b[1;32m   5280\u001b[0m         \u001b[0;32mif\u001b[0m \u001b[0mmask\u001b[0m\u001b[0;34m.\u001b[0m\u001b[0many\u001b[0m\u001b[0;34m(\u001b[0m\u001b[0;34m)\u001b[0m\u001b[0;34m:\u001b[0m\u001b[0;34m\u001b[0m\u001b[0;34m\u001b[0m\u001b[0m\n\u001b[1;32m   5281\u001b[0m             \u001b[0;32mif\u001b[0m \u001b[0merrors\u001b[0m \u001b[0;34m!=\u001b[0m \u001b[0;34m\"ignore\"\u001b[0m\u001b[0;34m:\u001b[0m\u001b[0;34m\u001b[0m\u001b[0;34m\u001b[0m\u001b[0m\n\u001b[0;32m-> 5282\u001b[0;31m                 \u001b[0;32mraise\u001b[0m \u001b[0mKeyError\u001b[0m\u001b[0;34m(\u001b[0m\u001b[0;34mf\"{labels[mask]} not found in axis\"\u001b[0m\u001b[0;34m)\u001b[0m\u001b[0;34m\u001b[0m\u001b[0;34m\u001b[0m\u001b[0m\n\u001b[0m\u001b[1;32m   5283\u001b[0m             \u001b[0mindexer\u001b[0m \u001b[0;34m=\u001b[0m \u001b[0mindexer\u001b[0m\u001b[0;34m[\u001b[0m\u001b[0;34m~\u001b[0m\u001b[0mmask\u001b[0m\u001b[0;34m]\u001b[0m\u001b[0;34m\u001b[0m\u001b[0;34m\u001b[0m\u001b[0m\n\u001b[1;32m   5284\u001b[0m         \u001b[0;32mreturn\u001b[0m \u001b[0mself\u001b[0m\u001b[0;34m.\u001b[0m\u001b[0mdelete\u001b[0m\u001b[0;34m(\u001b[0m\u001b[0mindexer\u001b[0m\u001b[0;34m)\u001b[0m\u001b[0;34m\u001b[0m\u001b[0;34m\u001b[0m\u001b[0m\n",
      "\u001b[0;31mKeyError\u001b[0m: \"['kor' 'eng'] not found in axis\""
     ]
    }
   ],
   "source": [
    "# 예제 1-8  열 삭제\n",
    "import pandas as pd\n",
    "\n",
    "exam_data = {\n",
    "    'math':[80,60,70],\n",
    "    'kor':[88,66,90],\n",
    "    'eng':[89,57,98],\n",
    "    'com':[86,77,44]\n",
    "}\n",
    "\n",
    "exam_index = ['A씨','B씨','C씨']\n",
    "\n",
    "print(df)\n",
    "print_lines()\n",
    "\n",
    "df2 = df[:]\n",
    "df2.drop('math', axis=1, inplace=True)\n",
    "print(df2)\n",
    "print_lines()\n",
    "\n",
    "df3 = df[:]\n",
    "df3.drop(['kor','eng'], axis=0, inplace=True)\n",
    "print(df3)\n",
    "print_lines()\n"
   ]
  },
  {
   "cell_type": "code",
   "execution_count": null,
   "metadata": {},
   "outputs": [],
   "source": []
  }
 ]
}