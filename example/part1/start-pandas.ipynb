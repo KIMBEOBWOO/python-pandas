{
 "cells": [
  {
   "cell_type": "code",
   "execution_count": 18,
   "metadata": {},
   "outputs": [],
   "source": [
    "def print_lines():\n",
    "    print('\\n')\n",
    "    print('='*20)\n",
    "    print('\\n')\n"
   ]
  },
  {
   "cell_type": "code",
   "execution_count": 19,
   "metadata": {},
   "outputs": [
    {
     "name": "stdout",
     "output_type": "stream",
     "text": [
      "<class 'pandas.core.series.Series'>\n",
      "\n",
      "a    1\n",
      "b    2\n",
      "c    3\n",
      "dtype: int64\n"
     ]
    }
   ],
   "source": [
    "# 예제 1-1  딕셔너리 -> 시리즈\n",
    "import pandas as pd\n",
    "\n",
    "dict_data = {\n",
    "    'a': 1,\n",
    "    'b': 2,\n",
    "    'c': 3\n",
    "}\n",
    "\n",
    "sr = pd.Series(dict_data)\n",
    "print(str(type(sr)) + '\\n')\n",
    "print(sr)"
   ]
  },
  {
   "cell_type": "code",
   "execution_count": 20,
   "metadata": {},
   "outputs": [
    {
     "name": "stdout",
     "output_type": "stream",
     "text": [
      "시리즈\n",
      "0         test1\n",
      "1          3.12\n",
      "2    2020-01-01\n",
      "3          1000\n",
      "4          True\n",
      "dtype: object\n",
      "\n",
      "\n",
      "====================\n",
      "\n",
      "\n",
      "인덱스\n",
      "RangeIndex(start=0, stop=5, step=1)\n",
      "<class 'pandas.core.indexes.range.RangeIndex'>\n",
      "\n",
      "\n",
      "====================\n",
      "\n",
      "\n",
      "데이터 값\n",
      "['test1' 3.12 '2020-01-01' 1000 True]\n",
      "<class 'numpy.ndarray'>\n",
      "\n",
      "\n",
      "====================\n",
      "\n",
      "\n"
     ]
    }
   ],
   "source": [
    "# 예제 1-2  리스트 -> 시리즈\n",
    "import pandas as pd\n",
    "\n",
    "list_data = ['test1', 3.12, '2020-01-01', 1000, True]\n",
    "sr = pd.Series(list_data)\n",
    "\n",
    "print('시리즈')\n",
    "print(sr)\n",
    "print_lines()\n",
    "\n",
    "sr_index = sr.index\n",
    "sr_values = sr.values\n",
    "\n",
    "print('인덱스')\n",
    "print(sr_index)\n",
    "print(type(sr_index))\n",
    "print_lines()\n",
    "\n",
    "print('데이터 값')\n",
    "print(sr_values)\n",
    "print(type(sr_values))\n",
    "print_lines()"
   ]
  },
  {
   "cell_type": "code",
   "execution_count": 35,
   "metadata": {},
   "outputs": [
    {
     "name": "stdout",
     "output_type": "stream",
     "text": [
      "시리즈\n",
      "이름             버부\n",
      "날짜     2020-01-02\n",
      "참트루          True\n",
      "소수점          12.3\n",
      "정수            234\n",
      "dtype: object\n",
      "\n",
      "\n",
      "====================\n",
      "\n",
      "\n",
      "by 정수형 위치 인덱스    : 버부\n",
      "by 인덱스 이름       : 버부\n",
      "\n",
      "\n",
      "====================\n",
      "\n",
      "\n",
      "by 정수형 슬라이스   :    날짜    2020-01-02\n",
      "dtype: object\n",
      "by 정수형 위치 인덱스    : 버부\n",
      "by 인덱스 이름       : 버부\n",
      "\n",
      "\n",
      "====================\n",
      "\n",
      "\n",
      "by 정수형 슬라이스   :    날짜    2020-01-02\n",
      "dtype: object\n",
      "by 이름 슬라이스    :   \n",
      " 날짜     2020-01-02\n",
      "참트루          True\n",
      "소수점          12.3\n",
      "정수            234\n",
      "dtype: object\n"
     ]
    }
   ],
   "source": [
    "# 예제 1-3  시리즈 원소 선택\n",
    "import pandas as pd\n",
    "\n",
    "tup_data = ('버부', '2020-01-02', True, 12.3, 234)\n",
    "list_index = ['이름', '날짜', '참트루', '소수점', '정수']\n",
    "sr = pd.Series(tup_data, list_index)\n",
    "\n",
    "print('시리즈')\n",
    "print(sr)\n",
    "print_lines()\n",
    "\n",
    "print('by 정수형 위치 인덱스    :',sr[0])\n",
    "print('by 인덱스 이름       :',sr['이름'])\n",
    "print_lines()\n",
    "\n",
    "print('by 정수형 슬라이스   :   ',sr[1:2])\n",
    "print('by 정수형 위치 인덱스    :',sr[0])\n",
    "print('by 인덱스 이름       :',sr['이름'])\n",
    "print_lines()\n",
    "\n",
    "print('by 정수형 슬라이스   :   ',sr[1:2])\n",
    "print('by 이름 슬라이스    :  ','\\n',sr['날짜':'정수'])\n"
   ]
  },
  {
   "cell_type": "code",
   "execution_count": 38,
   "metadata": {},
   "outputs": [
    {
     "name": "stdout",
     "output_type": "stream",
     "text": [
      "데이터 프레임\n",
      "<class 'pandas.core.frame.DataFrame'>\n",
      "   c0  c1  c2  c3  c4\n",
      "0   0   5  10  15  20\n",
      "1   1   6  11  16  21\n",
      "2   2   7  12  17  22\n",
      "3   3   8  13  18  23\n",
      "4   4   9  14  19  24\n"
     ]
    }
   ],
   "source": [
    "# 예제 1-4  딕셔너리 -> 데이터 프레임\n",
    "import pandas as pd\n",
    "\n",
    "dict_data = {\n",
    "    'c0':list(range(0,5)),\n",
    "    'c1':list(range(5,10)),\n",
    "    'c2':list(range(10,15)),\n",
    "    'c3':list(range(15,20)),\n",
    "    'c4':list(range(20,25)),\n",
    "}\n",
    "\n",
    "df = pd.DataFrame(dict_data)\n",
    "\n",
    "print('데이터 프레임')\n",
    "print(type(df))\n",
    "print(df)"
   ]
  },
  {
   "cell_type": "code",
   "execution_count": 49,
   "metadata": {},
   "outputs": [
    {
     "name": "stdout",
     "output_type": "stream",
     "text": [
      "0  1    2\n",
      "0  25  남  컴공과\n",
      "1  23  여  사복과\n",
      "\n",
      "\n",
      "====================\n",
      "\n",
      "\n",
      "    나이 성별   학과\n",
      "법우  25  남  컴공과\n",
      "혜림  23  여  사복과\n",
      "Index(['법우', '혜림'], dtype='object')\n",
      "Index(['나이', '성별', '학과'], dtype='object')\n",
      "\n",
      "\n",
      "====================\n",
      "\n",
      "\n",
      "     age sex major\n",
      "KBW   25   남   컴공과\n",
      "YHR   23   여   사복과\n",
      "Index(['KBW', 'YHR'], dtype='object')\n",
      "Index(['age', 'sex', 'major'], dtype='object')\n",
      "\n",
      "\n",
      "====================\n",
      "\n",
      "\n",
      "     age sex major\n",
      "김법우   25   남   컴공과\n",
      "윤혜림   23   여   사복과\n",
      "Index(['김법우', '윤혜림'], dtype='object')\n",
      "Index(['age', 'sex', 'major'], dtype='object')\n",
      "\n",
      "\n",
      "====================\n",
      "\n",
      "\n",
      "     나이 성별 소속 학과\n",
      "김법우  25  남   컴공과\n",
      "윤혜림  23  여   사복과\n",
      "Index(['김법우', '윤혜림'], dtype='object')\n",
      "Index(['나이', '성별', '소속 학과'], dtype='object')\n",
      "\n",
      "\n",
      "====================\n",
      "\n",
      "\n"
     ]
    }
   ],
   "source": [
    "# 예제 1-5  행 인덱스/열 이름 설정\n",
    "import pandas as pd\n",
    "\n",
    "list_2d = [\n",
    "    [25, '남', '컴공과'],\n",
    "    [23, '여', '사복과']    \n",
    "]\n",
    "\n",
    "df = pd.DataFrame(list_2d)\n",
    "print(df)\n",
    "print_lines()\n",
    "\n",
    "df = pd.DataFrame(\n",
    "    list_2d,\n",
    "    index=['법우','혜림'],\n",
    "    columns=['나이','성별','학과']\n",
    "    )\n",
    "print(df)\n",
    "print(df.index)\n",
    "print(df.columns)\n",
    "print_lines()\n",
    "\n",
    "df.index = ['KBW', 'YHR']\n",
    "df.columns = ['age', 'sex', 'major']\n",
    "print(df)\n",
    "print(df.index)\n",
    "print(df.columns)\n",
    "print_lines()\n",
    "\n",
    "# 예제 1-6  행 인덱스/열 이름 변경\n",
    "df.rename(index={'KBW':'김법우', 'YHR':'윤혜림'}, inplace=True)\n",
    "print(df)\n",
    "print(df.index)\n",
    "print(df.columns)\n",
    "print_lines()\n",
    "\n",
    "df.rename(columns={'age':'나이', 'sex':'성별', 'major':'소속 학과'}, inplace=True)\n",
    "print(df)\n",
    "print(df.index)\n",
    "print(df.columns)\n",
    "print_lines()\n",
    "\n"
   ]
  },
  {
   "cell_type": "code",
   "execution_count": 54,
   "metadata": {},
   "outputs": [
    {
     "name": "stdout",
     "output_type": "stream",
     "text": [
      "math  kor  eng  com\n",
      "A씨    80   88   89   86\n",
      "B씨    60   66   57   77\n",
      "C씨    70   90   98   44\n",
      "\n",
      "\n",
      "====================\n",
      "\n",
      "\n",
      "    math  kor  eng  com\n",
      "B씨    60   66   57   77\n",
      "C씨    70   90   98   44\n",
      "\n",
      "\n",
      "====================\n",
      "\n",
      "\n",
      "    math  kor  eng  com\n",
      "A씨    80   88   89   86\n",
      "\n",
      "\n",
      "====================\n",
      "\n",
      "\n"
     ]
    }
   ],
   "source": [
    "# 예제 1-7  행 삭제\n",
    "import pandas as pd\n",
    "\n",
    "exam_data = {\n",
    "    'math':[80,60,70],\n",
    "    'kor':[88,66,90],\n",
    "    'eng':[89,57,98],\n",
    "    'com':[86,77,44]\n",
    "}\n",
    "\n",
    "exam_index = ['A씨','B씨','C씨']\n",
    "\n",
    "df = pd.DataFrame(exam_data, index=exam_index)\n",
    "print(df)\n",
    "print_lines()\n",
    "\n",
    "df2 = df[:]\n",
    "df2.drop('A씨', inplace=True)\n",
    "print(df2)\n",
    "print_lines()\n",
    "\n",
    "df3 = df[:]\n",
    "df3.drop(['C씨','B씨'], inplace=True)\n",
    "print(df3)\n",
    "print_lines()\n"
   ]
  },
  {
   "cell_type": "code",
   "execution_count": 2,
   "metadata": {},
   "outputs": [],
   "source": [
    "# # 예제 1-8  열 삭제\n",
    "# import pandas as pd\n",
    "\n",
    "# exam_data = {\n",
    "#     'math':[80,60,70],\n",
    "#     'kor':[88,66,90],\n",
    "#     'eng':[89,57,98],\n",
    "#     'com':[86,77,44]\n",
    "# }\n",
    "\n",
    "# exam_index = ['A씨','B씨','C씨']\n",
    "\n",
    "# print(df)\n",
    "# print_lines()\n",
    "\n",
    "# df2 = df[:]\n",
    "# df2.drop('math', axis=1, inplace=True)\n",
    "# print(df2)\n",
    "# print_lines()\n",
    "\n",
    "# df3 = df[:]\n",
    "# df3.drop(['kor','eng'], axis=0, inplace=True)\n",
    "# print(df3)\n",
    "# print_lines()\n"
   ]
  },
  {
   "cell_type": "code",
   "execution_count": 11,
   "metadata": {},
   "outputs": [
    {
     "data": {
      "text/html": "<div>\n<style scoped>\n    .dataframe tbody tr th:only-of-type {\n        vertical-align: middle;\n    }\n\n    .dataframe tbody tr th {\n        vertical-align: top;\n    }\n\n    .dataframe thead th {\n        text-align: right;\n    }\n</style>\n<table border=\"1\" class=\"dataframe\">\n  <thead>\n    <tr style=\"text-align: right;\">\n      <th></th>\n      <th>이름</th>\n      <th>나이</th>\n      <th>학교</th>\n    </tr>\n  </thead>\n  <tbody>\n    <tr>\n      <th>0</th>\n      <td>김법우</td>\n      <td>25</td>\n      <td>금양중</td>\n    </tr>\n    <tr>\n      <th>1</th>\n      <td>이종현</td>\n      <td>25</td>\n      <td>금양중</td>\n    </tr>\n    <tr>\n      <th>2</th>\n      <td>김영화</td>\n      <td>25</td>\n      <td>동현중</td>\n    </tr>\n  </tbody>\n</table>\n</div>",
      "text/plain": "    이름  나이   학교\n0  김법우  25  금양중\n1  이종현  25  금양중\n2  김영화  25  동현중"
     },
     "execution_count": 11,
     "metadata": {},
     "output_type": "execute_result"
    }
   ],
   "source": [
    "import pandas as pd\n",
    "\n",
    "# 딕셔너리의 경우에는 키 -> 열 이름 , 값 (리스트) -> 열의 값 (시리즈)\n",
    "# 별도의 키값을 지정 할 필요 없이 딕셔너리의 키값이 적용되고 행에는 정수형 인덱스가 자동으로 부여된다.\n",
    "\n",
    "dict_test = {\n",
    "    '이름' : ['김법우', '이종현', '김영화'],\n",
    "    '나이' : [25,25,25],\n",
    "    '학교' : ['금양중', '금양중', '동현중']\n",
    "}\n",
    "\n",
    "df = pd.DataFrame(dict_test)\n",
    "df.rename(index={'이름': 'a'})\n",
    "df.head()"
   ]
  },
  {
   "cell_type": "code",
   "execution_count": 3,
   "metadata": {},
   "outputs": [
    {
     "data": {
      "text/html": "<div>\n<style scoped>\n    .dataframe tbody tr th:only-of-type {\n        vertical-align: middle;\n    }\n\n    .dataframe tbody tr th {\n        vertical-align: top;\n    }\n\n    .dataframe thead th {\n        text-align: right;\n    }\n</style>\n<table border=\"1\" class=\"dataframe\">\n  <thead>\n    <tr style=\"text-align: right;\">\n      <th></th>\n      <th>0</th>\n      <th>1</th>\n      <th>2</th>\n    </tr>\n  </thead>\n  <tbody>\n    <tr>\n      <th>0</th>\n      <td>김법우</td>\n      <td>이종현</td>\n      <td>김영화</td>\n    </tr>\n    <tr>\n      <th>1</th>\n      <td>25</td>\n      <td>25</td>\n      <td>25</td>\n    </tr>\n    <tr>\n      <th>2</th>\n      <td>금양중</td>\n      <td>금양중</td>\n      <td>동현중</td>\n    </tr>\n  </tbody>\n</table>\n</div>",
      "text/plain": "     0    1    2\n0  김법우  이종현  김영화\n1   25   25   25\n2  금양중  금양중  동현중"
     },
     "execution_count": 3,
     "metadata": {},
     "output_type": "execute_result"
    }
   ],
   "source": [
    "import pandas as pd\n",
    "\n",
    "# 이중 배열의 경우에는 하나의 2차원 배열의 row 가 데이터 프레임의 열로 들어가는 것을 알 수 있다.\n",
    "\n",
    "list_test = [\n",
    "    ['김법우', '이종현', '김영화'],\n",
    "    [25,25,25],\n",
    "    ['금양중', '금양중', '동현중']\n",
    "]\n",
    "   \n",
    "\n",
    "df = pd.DataFrame(list_test)\n",
    "df.head()"
   ]
  },
  {
   "cell_type": "code",
   "execution_count": 17,
   "metadata": {},
   "outputs": [
    {
     "name": "stdout",
     "output_type": "stream",
     "text": [
      "name  math  kor  eng  com\n",
      "0    a    80   88   89   86\n",
      "1    b    60   66   57   77\n",
      "2    c    70   90   98   44\n",
      "      math  kor  eng  com\n",
      "name                     \n",
      "a       80   88   89   86\n",
      "b       60   66   57   77\n",
      "c       70   90   98   44\n"
     ]
    }
   ],
   "source": [
    "# 예제 1-11  열 -> 행 인덱스로 변경\n",
    "import pandas as pd\n",
    "\n",
    "exam_data = {\n",
    "    'name':['a','b','c'],\n",
    "    'math':[80,60,70],\n",
    "    'kor':[88,66,90],\n",
    "    'eng':[89,57,98],\n",
    "    'com':[86,77,44]\n",
    "}\n",
    "\n",
    "df = pd.DataFrame(exam_data)\n",
    "print(df)\n",
    "df.set_index('name', inplace=True)\n",
    "print(df)"
   ]
  },
  {
   "cell_type": "code",
   "execution_count": 20,
   "metadata": {},
   "outputs": [
    {
     "data": {
      "text/html": "<div>\n<style scoped>\n    .dataframe tbody tr th:only-of-type {\n        vertical-align: middle;\n    }\n\n    .dataframe tbody tr th {\n        vertical-align: top;\n    }\n\n    .dataframe thead th {\n        text-align: right;\n    }\n</style>\n<table border=\"1\" class=\"dataframe\">\n  <thead>\n    <tr style=\"text-align: right;\">\n      <th></th>\n      <th>name</th>\n      <th>math</th>\n      <th>kor</th>\n      <th>eng</th>\n      <th>com</th>\n      <th>test</th>\n    </tr>\n  </thead>\n  <tbody>\n    <tr>\n      <th>0</th>\n      <td>a</td>\n      <td>80</td>\n      <td>88</td>\n      <td>89</td>\n      <td>86</td>\n      <td>39</td>\n    </tr>\n    <tr>\n      <th>1</th>\n      <td>b</td>\n      <td>60</td>\n      <td>66</td>\n      <td>57</td>\n      <td>77</td>\n      <td>39</td>\n    </tr>\n    <tr>\n      <th>2</th>\n      <td>c</td>\n      <td>70</td>\n      <td>90</td>\n      <td>98</td>\n      <td>44</td>\n      <td>39</td>\n    </tr>\n  </tbody>\n</table>\n</div>",
      "text/plain": "  name  math  kor  eng  com  test\n0    a    80   88   89   86    39\n1    b    60   66   57   77    39\n2    c    70   90   98   44    39"
     },
     "execution_count": 20,
     "metadata": {},
     "output_type": "execute_result"
    }
   ],
   "source": [
    "# 예제 1-12 열 추가\n",
    "import pandas as pd\n",
    "\n",
    "exam_data = {\n",
    "    'name':['a','b','c'],\n",
    "    'math':[80,60,70],\n",
    "    'kor':[88,66,90],\n",
    "    'eng':[89,57,98],\n",
    "    'com':[86,77,44]\n",
    "}\n",
    "\n",
    "df = pd.DataFrame(exam_data)\n",
    "df['test'] = 39\n",
    "df.head()"
   ]
  },
  {
   "cell_type": "code",
   "execution_count": 21,
   "metadata": {},
   "outputs": [
    {
     "data": {
      "text/html": "<div>\n<style scoped>\n    .dataframe tbody tr th:only-of-type {\n        vertical-align: middle;\n    }\n\n    .dataframe tbody tr th {\n        vertical-align: top;\n    }\n\n    .dataframe thead th {\n        text-align: right;\n    }\n</style>\n<table border=\"1\" class=\"dataframe\">\n  <thead>\n    <tr style=\"text-align: right;\">\n      <th></th>\n      <th>name</th>\n      <th>math</th>\n      <th>kor</th>\n      <th>eng</th>\n      <th>com</th>\n    </tr>\n  </thead>\n  <tbody>\n    <tr>\n      <th>0</th>\n      <td>a</td>\n      <td>80</td>\n      <td>88</td>\n      <td>89</td>\n      <td>86</td>\n    </tr>\n    <tr>\n      <th>1</th>\n      <td>b</td>\n      <td>60</td>\n      <td>66</td>\n      <td>57</td>\n      <td>77</td>\n    </tr>\n    <tr>\n      <th>2</th>\n      <td>c</td>\n      <td>70</td>\n      <td>90</td>\n      <td>98</td>\n      <td>44</td>\n    </tr>\n    <tr>\n      <th>test</th>\n      <td>39</td>\n      <td>39</td>\n      <td>39</td>\n      <td>39</td>\n      <td>39</td>\n    </tr>\n  </tbody>\n</table>\n</div>",
      "text/plain": "     name  math  kor  eng  com\n0       a    80   88   89   86\n1       b    60   66   57   77\n2       c    70   90   98   44\ntest   39    39   39   39   39"
     },
     "execution_count": 21,
     "metadata": {},
     "output_type": "execute_result"
    }
   ],
   "source": [
    "# 예제 1-13 행 추가\n",
    "import pandas as pd\n",
    "\n",
    "exam_data = {\n",
    "    'name':['a','b','c'],\n",
    "    'math':[80,60,70],\n",
    "    'kor':[88,66,90],\n",
    "    'eng':[89,57,98],\n",
    "    'com':[86,77,44]\n",
    "}\n",
    "\n",
    "df = pd.DataFrame(exam_data)\n",
    "df.loc['test'] = 39\n",
    "df.head()"
   ]
  },
  {
   "cell_type": "code",
   "execution_count": 23,
   "metadata": {},
   "outputs": [
    {
     "data": {
      "text/html": "<div>\n<style scoped>\n    .dataframe tbody tr th:only-of-type {\n        vertical-align: middle;\n    }\n\n    .dataframe tbody tr th {\n        vertical-align: top;\n    }\n\n    .dataframe thead th {\n        text-align: right;\n    }\n</style>\n<table border=\"1\" class=\"dataframe\">\n  <thead>\n    <tr style=\"text-align: right;\">\n      <th></th>\n      <th>name</th>\n      <th>math</th>\n      <th>kor</th>\n      <th>eng</th>\n      <th>com</th>\n    </tr>\n  </thead>\n  <tbody>\n    <tr>\n      <th>0</th>\n      <td>a</td>\n      <td>80</td>\n      <td>88</td>\n      <td>89</td>\n      <td>86</td>\n    </tr>\n    <tr>\n      <th>1</th>\n      <td>b</td>\n      <td>60</td>\n      <td>66</td>\n      <td>57</td>\n      <td>77</td>\n    </tr>\n    <tr>\n      <th>2</th>\n      <td>c</td>\n      <td>70</td>\n      <td>90</td>\n      <td>98</td>\n      <td>44</td>\n    </tr>\n  </tbody>\n</table>\n</div>",
      "text/plain": "  name math kor eng com\n0    a   80  88  89  86\n1    b   60  66  57  77\n2    c   70  90  98  44"
     },
     "execution_count": 23,
     "metadata": {},
     "output_type": "execute_result"
    }
   ],
   "source": [
    "# 예제 1-15 전치 행렬\n",
    "import pandas as pd\n",
    "\n",
    "exam_data = {\n",
    "    'name':['a','b','c'],\n",
    "    'math':[80,60,70],\n",
    "    'kor':[88,66,90],\n",
    "    'eng':[89,57,98],\n",
    "    'com':[86,77,44]\n",
    "}\n",
    "\n",
    "df = pd.DataFrame(exam_data)\n",
    "\n",
    "df = df.transpose()\n",
    "df.head()\n",
    "\n",
    "df = df.transpose()\n",
    "df.head()"
   ]
  },
  {
   "cell_type": "code",
   "execution_count": 26,
   "metadata": {},
   "outputs": [
    {
     "data": {
      "text/html": "<div>\n<style scoped>\n    .dataframe tbody tr th:only-of-type {\n        vertical-align: middle;\n    }\n\n    .dataframe tbody tr th {\n        vertical-align: top;\n    }\n\n    .dataframe thead th {\n        text-align: right;\n    }\n</style>\n<table border=\"1\" class=\"dataframe\">\n  <thead>\n    <tr style=\"text-align: right;\">\n      <th></th>\n      <th>math</th>\n      <th>kor</th>\n      <th>eng</th>\n      <th>com</th>\n    </tr>\n    <tr>\n      <th>name</th>\n      <th></th>\n      <th></th>\n      <th></th>\n      <th></th>\n    </tr>\n  </thead>\n  <tbody>\n    <tr>\n      <th>a</th>\n      <td>80</td>\n      <td>88</td>\n      <td>89</td>\n      <td>86</td>\n    </tr>\n    <tr>\n      <th>b</th>\n      <td>60</td>\n      <td>66</td>\n      <td>57</td>\n      <td>77</td>\n    </tr>\n    <tr>\n      <th>c</th>\n      <td>70</td>\n      <td>90</td>\n      <td>98</td>\n      <td>44</td>\n    </tr>\n  </tbody>\n</table>\n</div>",
      "text/plain": "      math  kor  eng  com\nname                     \na       80   88   89   86\nb       60   66   57   77\nc       70   90   98   44"
     },
     "execution_count": 26,
     "metadata": {},
     "output_type": "execute_result"
    }
   ],
   "source": [
    "# 예제 1-16 열 -> 행 인덱스로 변경\n",
    "import pandas as pd\n",
    "\n",
    "exam_data = {\n",
    "    'name':['a','b','c'],\n",
    "    'math':[80,60,70],\n",
    "    'kor':[88,66,90],\n",
    "    'eng':[89,57,98],\n",
    "    'com':[86,77,44]\n",
    "}\n",
    "\n",
    "df = pd.DataFrame(exam_data)\n",
    "\n",
    "ndf = df.set_index(['name'])\n",
    "ndf.head()\n"
   ]
  },
  {
   "cell_type": "code",
   "execution_count": 29,
   "metadata": {},
   "outputs": [
    {
     "data": {
      "text/html": "<div>\n<style scoped>\n    .dataframe tbody tr th:only-of-type {\n        vertical-align: middle;\n    }\n\n    .dataframe tbody tr th {\n        vertical-align: top;\n    }\n\n    .dataframe thead th {\n        text-align: right;\n    }\n</style>\n<table border=\"1\" class=\"dataframe\">\n  <thead>\n    <tr style=\"text-align: right;\">\n      <th></th>\n      <th>index</th>\n      <th>math</th>\n      <th>kor</th>\n      <th>eng</th>\n      <th>com</th>\n    </tr>\n  </thead>\n  <tbody>\n    <tr>\n      <th>0</th>\n      <td>a</td>\n      <td>80</td>\n      <td>88</td>\n      <td>89</td>\n      <td>86</td>\n    </tr>\n    <tr>\n      <th>1</th>\n      <td>b</td>\n      <td>60</td>\n      <td>66</td>\n      <td>57</td>\n      <td>77</td>\n    </tr>\n    <tr>\n      <th>2</th>\n      <td>c</td>\n      <td>70</td>\n      <td>90</td>\n      <td>98</td>\n      <td>44</td>\n    </tr>\n  </tbody>\n</table>\n</div>",
      "text/plain": "  index  math  kor  eng  com\n0     a    80   88   89   86\n1     b    60   66   57   77\n2     c    70   90   98   44"
     },
     "execution_count": 29,
     "metadata": {},
     "output_type": "execute_result"
    }
   ],
   "source": [
    "# 예제 1-18 행 인덱스의 정수형 초기화\n",
    "# 예제 1-16 열 -> 행 인덱스로 변경\n",
    "import pandas as pd\n",
    "\n",
    "exam_data = {\n",
    "    # 'name':['a','b','c'],\n",
    "    'math':[80,60,70],\n",
    "    'kor':[88,66,90],\n",
    "    'eng':[89,57,98],\n",
    "    'com':[86,77,44]\n",
    "}\n",
    "\n",
    "df = pd.DataFrame(exam_data, index=['a','b','c'])\n",
    "df.head()\n",
    "\n",
    "ndf = df.reset_index()\n",
    "ndf.head()\n",
    "\n",
    "\n"
   ]
  },
  {
   "cell_type": "code",
   "execution_count": 33,
   "metadata": {},
   "outputs": [
    {
     "data": {
      "text/html": "<div>\n<style scoped>\n    .dataframe tbody tr th:only-of-type {\n        vertical-align: middle;\n    }\n\n    .dataframe tbody tr th {\n        vertical-align: top;\n    }\n\n    .dataframe thead th {\n        text-align: right;\n    }\n</style>\n<table border=\"1\" class=\"dataframe\">\n  <thead>\n    <tr style=\"text-align: right;\">\n      <th></th>\n      <th>index</th>\n      <th>math</th>\n      <th>kor</th>\n      <th>eng</th>\n      <th>com</th>\n    </tr>\n  </thead>\n  <tbody>\n    <tr>\n      <th>0</th>\n      <td>a</td>\n      <td>80</td>\n      <td>88</td>\n      <td>89</td>\n      <td>86</td>\n    </tr>\n    <tr>\n      <th>1</th>\n      <td>b</td>\n      <td>60</td>\n      <td>66</td>\n      <td>57</td>\n      <td>77</td>\n    </tr>\n    <tr>\n      <th>2</th>\n      <td>c</td>\n      <td>70</td>\n      <td>90</td>\n      <td>98</td>\n      <td>44</td>\n    </tr>\n  </tbody>\n</table>\n</div>",
      "text/plain": "  index  math  kor  eng  com\n0     a    80   88   89   86\n1     b    60   66   57   77\n2     c    70   90   98   44"
     },
     "execution_count": 33,
     "metadata": {},
     "output_type": "execute_result"
    }
   ],
   "source": [
    "# 예제 1-19 행 인덱스 기준 데이터 프레임 정렬\n",
    "import pandas as pd\n",
    "\n",
    "exam_data = {\n",
    "    # 'name':['a','b','c'],\n",
    "    'math':[80,60,70],\n",
    "    'kor':[88,66,90],\n",
    "    'eng':[89,57,98],\n",
    "    'com':[86,77,44]\n",
    "}\n",
    "\n",
    "df = pd.DataFrame(exam_data, index=['a','b','c'])\n",
    "df.head()\n",
    "\n",
    "ndf = df.reset_index()\n",
    "ndf.head()\n",
    "\n",
    "sortdf = ndf.sort_index(ascending=True)\n",
    "sortdf.head()\n"
   ]
  },
  {
   "cell_type": "code",
   "execution_count": 40,
   "metadata": {},
   "outputs": [
    {
     "data": {
      "text/html": "<div>\n<style scoped>\n    .dataframe tbody tr th:only-of-type {\n        vertical-align: middle;\n    }\n\n    .dataframe tbody tr th {\n        vertical-align: top;\n    }\n\n    .dataframe thead th {\n        text-align: right;\n    }\n</style>\n<table border=\"1\" class=\"dataframe\">\n  <thead>\n    <tr style=\"text-align: right;\">\n      <th></th>\n      <th>index</th>\n      <th>math</th>\n      <th>kor</th>\n      <th>eng</th>\n      <th>com</th>\n    </tr>\n  </thead>\n  <tbody>\n    <tr>\n      <th>1</th>\n      <td>b</td>\n      <td>60</td>\n      <td>66</td>\n      <td>57</td>\n      <td>77</td>\n    </tr>\n    <tr>\n      <th>2</th>\n      <td>c</td>\n      <td>70</td>\n      <td>90</td>\n      <td>98</td>\n      <td>44</td>\n    </tr>\n    <tr>\n      <th>0</th>\n      <td>a</td>\n      <td>80</td>\n      <td>88</td>\n      <td>89</td>\n      <td>86</td>\n    </tr>\n  </tbody>\n</table>\n</div>",
      "text/plain": "  index  math  kor  eng  com\n1     b    60   66   57   77\n2     c    70   90   98   44\n0     a    80   88   89   86"
     },
     "execution_count": 40,
     "metadata": {},
     "output_type": "execute_result"
    }
   ],
   "source": [
    "# 예제 1-20 특정 열의 데이터값을 기준으로 데이터프레임 정렬\n",
    "import pandas as pd\n",
    "\n",
    "exam_data = {\n",
    "    # 'name':['a','b','c'],\n",
    "    'math':[80,60,70],\n",
    "    'kor':[88,66,90],\n",
    "    'eng':[89,57,98],\n",
    "    'com':[86,77,44]\n",
    "}\n",
    "\n",
    "df = pd.DataFrame(exam_data, index=['a','b','c'])\n",
    "df.head()\n",
    "\n",
    "ndf = df.reset_index()\n",
    "ndf.head()\n",
    "\n",
    "sortdf = ndf.sort_index(ascending=True)\n",
    "sortdf.head()\n",
    "\n",
    "sortByMath = sortdf.sort_values(by='math', ascending=True)\n",
    "sortByMath.head()\n"
   ]
  },
  {
   "cell_type": "code",
   "execution_count": 2,
   "metadata": {},
   "outputs": [
    {
     "name": "stdout",
     "output_type": "stream",
     "text": [
      "0  1  2  3\n",
      "0  1  2  3  4\n",
      "1  1  2  3  4\n",
      "2  1  2  3  4\n",
      "3  1  2  3  4\n",
      "4  1  2  3  4\n",
      "   index  0  1  2  3\n",
      "0      0  1  2  3  4\n",
      "1      1  1  2  3  4\n",
      "2      2  1  2  3  4\n",
      "3      3  1  2  3  4\n",
      "4      4  1  2  3  4\n"
     ]
    }
   ],
   "source": [
    "# 예제 1-18\n",
    "import pandas as pd\n",
    "list_data = [\n",
    "    [1,2,3,4],\n",
    "    [1,2,3,4],\n",
    "    [1,2,3,4],\n",
    "    [1,2,3,4],\n",
    "    [1,2,3,4],\n",
    "]\n",
    "\n",
    "df = pd.DataFrame(list_data)\n",
    "print(df)\n",
    "\n",
    "df = df.reset_index()\n",
    "print(df)"
   ]
  },
  {
   "cell_type": "code",
   "execution_count": 6,
   "metadata": {},
   "outputs": [
    {
     "name": "stdout",
     "output_type": "stream",
     "text": [
      "c0  c1  c2  c3\n",
      "r0   1   1   1   1\n",
      "r1   2   2   2   2\n",
      "r2   3   3   3   3\n",
      "r3   4   4   4   4\n",
      "r4   5   5   5   5\n",
      "\n",
      "\n",
      "    c0  c1  c2  c3\n",
      "r4   5   5   5   5\n",
      "r3   4   4   4   4\n",
      "r2   3   3   3   3\n",
      "r1   2   2   2   2\n",
      "r0   1   1   1   1\n"
     ]
    }
   ],
   "source": [
    "# 예제 20\n",
    "import pandas as pd\n",
    "\n",
    "dict_data = {\n",
    "    'c0': [1,2,3,4,5],\n",
    "    'c1': [1,2,3,4,5],\n",
    "    'c2': [1,2,3,4,5],\n",
    "    'c3': [1,2,3,4,5],\n",
    "}\n",
    "\n",
    "df = pd.DataFrame(dict_data, index=['r0','r1','r2','r3','r4'])\n",
    "print(df)\n",
    "print('\\n')\n",
    "\n",
    "### 열 c2 를 기준으로 정렬\n",
    "ndf = df.sort_values(by='c2', ascending=False)\n",
    "print(ndf)"
   ]
  },
  {
   "cell_type": "markdown",
   "metadata": {},
   "source": [
    "## 시리즈 산술 연산\n",
    "1. Series 연산자(+,-,/,*) 실수\n",
    "2. Series1 연산자 Series2\n",
    "3. 연산 메소드 Series.add/sub/mul/div"
   ]
  },
  {
   "cell_type": "code",
   "execution_count": 10,
   "metadata": {},
   "outputs": [
    {
     "name": "stdout",
     "output_type": "stream",
     "text": [
      "a    0.5\n",
      "b    1.0\n",
      "c    1.5\n",
      "dtype: float64\n"
     ]
    }
   ],
   "source": [
    "# 1-21\n",
    "import pandas as pd\n",
    "\n",
    "st1 = pd.Series({\n",
    "    'a': 100,\n",
    "    'b': 200,\n",
    "    'c': 300\n",
    "})\n",
    "\n",
    "div_st1 = st1/200\n",
    "\n",
    "print(div_st1)"
   ]
  },
  {
   "cell_type": "code",
   "execution_count": 15,
   "metadata": {},
   "outputs": [
    {
     "data": {
      "text/html": "<div>\n<style scoped>\n    .dataframe tbody tr th:only-of-type {\n        vertical-align: middle;\n    }\n\n    .dataframe tbody tr th {\n        vertical-align: top;\n    }\n\n    .dataframe thead th {\n        text-align: right;\n    }\n</style>\n<table border=\"1\" class=\"dataframe\">\n  <thead>\n    <tr style=\"text-align: right;\">\n      <th></th>\n      <th>a</th>\n      <th>b</th>\n      <th>c</th>\n    </tr>\n  </thead>\n  <tbody>\n    <tr>\n      <th>덧셈</th>\n      <td>135.000000</td>\n      <td>89.000000</td>\n      <td>378.000000</td>\n    </tr>\n    <tr>\n      <th>뺄셈</th>\n      <td>69.000000</td>\n      <td>-21.000000</td>\n      <td>-66.000000</td>\n    </tr>\n    <tr>\n      <th>곱셈</th>\n      <td>3366.000000</td>\n      <td>1870.000000</td>\n      <td>34632.000000</td>\n    </tr>\n    <tr>\n      <th>나눗셈</th>\n      <td>3.090909</td>\n      <td>0.618182</td>\n      <td>0.702703</td>\n    </tr>\n  </tbody>\n</table>\n</div>",
      "text/plain": "               a            b             c\n덧셈    135.000000    89.000000    378.000000\n뺄셈     69.000000   -21.000000    -66.000000\n곱셈   3366.000000  1870.000000  34632.000000\n나눗셈     3.090909     0.618182      0.702703"
     },
     "execution_count": 15,
     "metadata": {},
     "output_type": "execute_result"
    }
   ],
   "source": [
    "# 1-22\n",
    "import pandas as pd\n",
    "\n",
    "st1 = pd.Series({\n",
    "    'a': 102,\n",
    "    'b': 34,\n",
    "    'c': 156,\n",
    "})\n",
    "\n",
    "st2 = pd.Series({\n",
    "    'a': 33,\n",
    "    'b': 55,\n",
    "    'c': 222,\n",
    "})\n",
    "\n",
    "add_result = st1 + st2\n",
    "sub_result = st1 - st2\n",
    "mul_result = st1 * st2\n",
    "div_result = st1 / st2\n",
    "\n",
    "total = pd.DataFrame([add_result, sub_result, mul_result, div_result], \n",
    "    index=['덧셈', '뺄셈', '곱셈', '나눗셈'])\n",
    "\n",
    "total.head()\n",
    "\n"
   ]
  },
  {
   "cell_type": "code",
   "execution_count": 16,
   "metadata": {},
   "outputs": [
    {
     "data": {
      "text/html": "<div>\n<style scoped>\n    .dataframe tbody tr th:only-of-type {\n        vertical-align: middle;\n    }\n\n    .dataframe tbody tr th {\n        vertical-align: top;\n    }\n\n    .dataframe thead th {\n        text-align: right;\n    }\n</style>\n<table border=\"1\" class=\"dataframe\">\n  <thead>\n    <tr style=\"text-align: right;\">\n      <th></th>\n      <th>a</th>\n      <th>b</th>\n      <th>c</th>\n    </tr>\n  </thead>\n  <tbody>\n    <tr>\n      <th>덧셈</th>\n      <td>NaN</td>\n      <td>NaN</td>\n      <td>378.000000</td>\n    </tr>\n    <tr>\n      <th>뺄셈</th>\n      <td>NaN</td>\n      <td>NaN</td>\n      <td>-66.000000</td>\n    </tr>\n    <tr>\n      <th>곱셈</th>\n      <td>NaN</td>\n      <td>NaN</td>\n      <td>34632.000000</td>\n    </tr>\n    <tr>\n      <th>나눗셈</th>\n      <td>NaN</td>\n      <td>NaN</td>\n      <td>0.702703</td>\n    </tr>\n  </tbody>\n</table>\n</div>",
      "text/plain": "      a   b             c\n덧셈  NaN NaN    378.000000\n뺄셈  NaN NaN    -66.000000\n곱셈  NaN NaN  34632.000000\n나눗셈 NaN NaN      0.702703"
     },
     "execution_count": 16,
     "metadata": {},
     "output_type": "execute_result"
    }
   ],
   "source": [
    "# 1-23\n",
    "import pandas as pd\n",
    "import numpy as np\n",
    "\n",
    "st1 = pd.Series({\n",
    "    'a': np.nan,\n",
    "    'b': 34,\n",
    "    'c': 156,\n",
    "})\n",
    "\n",
    "st2 = pd.Series({\n",
    "    'a': 33,\n",
    "    'c': 222,\n",
    "})\n",
    "\n",
    "add_result = st1 + st2\n",
    "sub_result = st1 - st2\n",
    "mul_result = st1 * st2\n",
    "div_result = st1 / st2\n",
    "\n",
    "total = pd.DataFrame([add_result, sub_result, mul_result, div_result], \n",
    "    index=['덧셈', '뺄셈', '곱셈', '나눗셈'])\n",
    "\n",
    "total.head()\n",
    "\n"
   ]
  },
  {
   "cell_type": "code",
   "execution_count": 18,
   "metadata": {},
   "outputs": [
    {
     "data": {
      "text/html": "<div>\n<style scoped>\n    .dataframe tbody tr th:only-of-type {\n        vertical-align: middle;\n    }\n\n    .dataframe tbody tr th {\n        vertical-align: top;\n    }\n\n    .dataframe thead th {\n        text-align: right;\n    }\n</style>\n<table border=\"1\" class=\"dataframe\">\n  <thead>\n    <tr style=\"text-align: right;\">\n      <th></th>\n      <th>a</th>\n      <th>b</th>\n      <th>c</th>\n    </tr>\n  </thead>\n  <tbody>\n    <tr>\n      <th>r1</th>\n      <td>33.0</td>\n      <td>34.0</td>\n      <td>378.000000</td>\n    </tr>\n    <tr>\n      <th>r2</th>\n      <td>-33.0</td>\n      <td>34.0</td>\n      <td>-66.000000</td>\n    </tr>\n    <tr>\n      <th>r3</th>\n      <td>0.0</td>\n      <td>0.0</td>\n      <td>34632.000000</td>\n    </tr>\n    <tr>\n      <th>r4</th>\n      <td>0.0</td>\n      <td>inf</td>\n      <td>0.702703</td>\n    </tr>\n  </tbody>\n</table>\n</div>",
      "text/plain": "       a     b             c\nr1  33.0  34.0    378.000000\nr2 -33.0  34.0    -66.000000\nr3   0.0   0.0  34632.000000\nr4   0.0   inf      0.702703"
     },
     "execution_count": 18,
     "metadata": {},
     "output_type": "execute_result"
    }
   ],
   "source": [
    "# 1-24\n",
    "import pandas as pd\n",
    "import numpy as np\n",
    "\n",
    "st1 = pd.Series({\n",
    "    'a': np.nan,\n",
    "    'b': 34,\n",
    "    'c': 156,\n",
    "})\n",
    "\n",
    "st2 = pd.Series({\n",
    "    'a': 33,\n",
    "    'c': 222,\n",
    "})\n",
    "\n",
    "add_result = st1.add(st2, fill_value=0)\n",
    "sub_result = st1.sub(st2, fill_value=0)\n",
    "mul_result = st1.mul(st2, fill_value=0)\n",
    "div_result = st1.div(st2, fill_value=0)\n",
    "\n",
    "total_result = pd.DataFrame([add_result, sub_result, mul_result, div_result], index=['r1', 'r2', 'r3', 'r4'])\n",
    "\n",
    "total_result.head()"
   ]
  },
  {
   "cell_type": "code",
   "execution_count": null,
   "metadata": {},
   "outputs": [],
   "source": []
  },
  {
   "cell_type": "markdown",
   "metadata": {},
   "source": [
    "## 데이터 프레임 산술 연산"
   ]
  },
  {
   "cell_type": "code",
   "execution_count": 22,
   "metadata": {},
   "outputs": [
    {
     "data": {
      "text/html": "<div>\n<style scoped>\n    .dataframe tbody tr th:only-of-type {\n        vertical-align: middle;\n    }\n\n    .dataframe tbody tr th {\n        vertical-align: top;\n    }\n\n    .dataframe thead th {\n        text-align: right;\n    }\n</style>\n<table border=\"1\" class=\"dataframe\">\n  <thead>\n    <tr style=\"text-align: right;\">\n      <th></th>\n      <th>age</th>\n      <th>fare</th>\n    </tr>\n  </thead>\n  <tbody>\n    <tr>\n      <th>0</th>\n      <td>222.0</td>\n      <td>207.2500</td>\n    </tr>\n    <tr>\n      <th>1</th>\n      <td>238.0</td>\n      <td>271.2833</td>\n    </tr>\n    <tr>\n      <th>2</th>\n      <td>226.0</td>\n      <td>207.9250</td>\n    </tr>\n    <tr>\n      <th>3</th>\n      <td>235.0</td>\n      <td>253.1000</td>\n    </tr>\n    <tr>\n      <th>4</th>\n      <td>235.0</td>\n      <td>208.0500</td>\n    </tr>\n  </tbody>\n</table>\n</div>",
      "text/plain": "     age      fare\n0  222.0  207.2500\n1  238.0  271.2833\n2  226.0  207.9250\n3  235.0  253.1000\n4  235.0  208.0500"
     },
     "execution_count": 22,
     "metadata": {},
     "output_type": "execute_result"
    }
   ],
   "source": [
    "import pandas as pd\n",
    "import seaborn as sns\n",
    "\n",
    "titanic = sns.load_dataset('titanic')\n",
    "df = titanic.loc[:,['age', 'fare']]\n",
    "# df.head()\n",
    "\n",
    "df_add = df + 200\n",
    "df_add.head()"
   ]
  },
  {
   "cell_type": "code",
   "execution_count": 26,
   "metadata": {},
   "outputs": [
    {
     "data": {
      "text/html": "<div>\n<style scoped>\n    .dataframe tbody tr th:only-of-type {\n        vertical-align: middle;\n    }\n\n    .dataframe tbody tr th {\n        vertical-align: top;\n    }\n\n    .dataframe thead th {\n        text-align: right;\n    }\n</style>\n<table border=\"1\" class=\"dataframe\">\n  <thead>\n    <tr style=\"text-align: right;\">\n      <th></th>\n      <th>age</th>\n      <th>fare</th>\n    </tr>\n  </thead>\n  <tbody>\n    <tr>\n      <th>886</th>\n      <td>10.0</td>\n      <td>10.0</td>\n    </tr>\n    <tr>\n      <th>887</th>\n      <td>10.0</td>\n      <td>10.0</td>\n    </tr>\n    <tr>\n      <th>888</th>\n      <td>NaN</td>\n      <td>10.0</td>\n    </tr>\n    <tr>\n      <th>889</th>\n      <td>10.0</td>\n      <td>10.0</td>\n    </tr>\n    <tr>\n      <th>890</th>\n      <td>10.0</td>\n      <td>10.0</td>\n    </tr>\n  </tbody>\n</table>\n</div>",
      "text/plain": "      age  fare\n886  10.0  10.0\n887  10.0  10.0\n888   NaN  10.0\n889  10.0  10.0\n890  10.0  10.0"
     },
     "execution_count": 26,
     "metadata": {},
     "output_type": "execute_result"
    }
   ],
   "source": [
    "import pandas as pd\n",
    "import seaborn as sns\n",
    "\n",
    "tit = sns.load_dataset('titanic')\n",
    "df = tit.loc[:, ['age','fare']]\n",
    "# df.tail()\n",
    "\n",
    "add_df = df + 10\n",
    "\n",
    "ndf = add_df - df\n",
    "ndf.tail()\n",
    "\n"
   ]
  },
  {
   "cell_type": "code",
   "execution_count": 58,
   "metadata": {},
   "outputs": [
    {
     "data": {
      "text/html": "<div>\n<style scoped>\n    .dataframe tbody tr th:only-of-type {\n        vertical-align: middle;\n    }\n\n    .dataframe tbody tr th {\n        vertical-align: top;\n    }\n\n    .dataframe thead th {\n        text-align: right;\n    }\n</style>\n<table border=\"1\" class=\"dataframe\">\n  <thead>\n    <tr style=\"text-align: right;\">\n      <th></th>\n      <th>a</th>\n      <th>b</th>\n      <th>c</th>\n    </tr>\n  </thead>\n  <tbody>\n    <tr>\n      <th>ra</th>\n      <td>1</td>\n      <td>2</td>\n      <td>3</td>\n    </tr>\n    <tr>\n      <th>rb</th>\n      <td>4</td>\n      <td>5</td>\n      <td>6</td>\n    </tr>\n    <tr>\n      <th>rc</th>\n      <td>7</td>\n      <td>8</td>\n      <td>9</td>\n    </tr>\n  </tbody>\n</table>\n</div>",
      "text/plain": "    a  b  c\nra  1  2  3\nrb  4  5  6\nrc  7  8  9"
     },
     "execution_count": 58,
     "metadata": {},
     "output_type": "execute_result"
    }
   ],
   "source": [
    "import pandas as pd\n",
    "\n",
    "dataframe = pd.DataFrame([\n",
    "    [1,2,3],\n",
    "    [4,5,6],\n",
    "    [7,8,9]\n",
    "], columns=['a','b','c'], index=['ra','rb','rc'])\n",
    "\n",
    "dataframe.head()"
   ]
  },
  {
   "cell_type": "code",
   "execution_count": 44,
   "metadata": {},
   "outputs": [
    {
     "data": {
      "text/html": "<div>\n<style scoped>\n    .dataframe tbody tr th:only-of-type {\n        vertical-align: middle;\n    }\n\n    .dataframe tbody tr th {\n        vertical-align: top;\n    }\n\n    .dataframe thead th {\n        text-align: right;\n    }\n</style>\n<table border=\"1\" class=\"dataframe\">\n  <thead>\n    <tr style=\"text-align: right;\">\n      <th></th>\n      <th>a</th>\n      <th>b</th>\n      <th>c</th>\n    </tr>\n  </thead>\n  <tbody>\n    <tr>\n      <th>ra</th>\n      <td>1</td>\n      <td>2</td>\n      <td>3</td>\n    </tr>\n    <tr>\n      <th>rb</th>\n      <td>4</td>\n      <td>5</td>\n      <td>6</td>\n    </tr>\n  </tbody>\n</table>\n</div>",
      "text/plain": "    a  b  c\nra  1  2  3\nrb  4  5  6"
     },
     "execution_count": 44,
     "metadata": {},
     "output_type": "execute_result"
    }
   ],
   "source": [
    "dataframe.loc['ra':'rb','a':'c']"
   ]
  },
  {
   "cell_type": "code",
   "execution_count": 45,
   "metadata": {},
   "outputs": [
    {
     "data": {
      "text/html": "<div>\n<style scoped>\n    .dataframe tbody tr th:only-of-type {\n        vertical-align: middle;\n    }\n\n    .dataframe tbody tr th {\n        vertical-align: top;\n    }\n\n    .dataframe thead th {\n        text-align: right;\n    }\n</style>\n<table border=\"1\" class=\"dataframe\">\n  <thead>\n    <tr style=\"text-align: right;\">\n      <th></th>\n      <th>a</th>\n      <th>b</th>\n      <th>c</th>\n    </tr>\n  </thead>\n  <tbody>\n    <tr>\n      <th>ra</th>\n      <td>1</td>\n      <td>2</td>\n      <td>3</td>\n    </tr>\n    <tr>\n      <th>rb</th>\n      <td>4</td>\n      <td>5</td>\n      <td>6</td>\n    </tr>\n    <tr>\n      <th>rc</th>\n      <td>7</td>\n      <td>8</td>\n      <td>9</td>\n    </tr>\n  </tbody>\n</table>\n</div>",
      "text/plain": "    a  b  c\nra  1  2  3\nrb  4  5  6\nrc  7  8  9"
     },
     "execution_count": 45,
     "metadata": {},
     "output_type": "execute_result"
    }
   ],
   "source": [
    "dataframe.head()"
   ]
  },
  {
   "cell_type": "code",
   "execution_count": 60,
   "metadata": {},
   "outputs": [],
   "source": [
    "dataframe.loc[['ra','rb']]['a'] = 1,2"
   ]
  },
  {
   "cell_type": "code",
   "execution_count": 61,
   "metadata": {},
   "outputs": [
    {
     "data": {
      "text/html": "<div>\n<style scoped>\n    .dataframe tbody tr th:only-of-type {\n        vertical-align: middle;\n    }\n\n    .dataframe tbody tr th {\n        vertical-align: top;\n    }\n\n    .dataframe thead th {\n        text-align: right;\n    }\n</style>\n<table border=\"1\" class=\"dataframe\">\n  <thead>\n    <tr style=\"text-align: right;\">\n      <th></th>\n      <th>a</th>\n      <th>c</th>\n    </tr>\n  </thead>\n  <tbody>\n    <tr>\n      <th>ra</th>\n      <td>1</td>\n      <td>3</td>\n    </tr>\n    <tr>\n      <th>rb</th>\n      <td>4</td>\n      <td>6</td>\n    </tr>\n  </tbody>\n</table>\n</div>",
      "text/plain": "    a  c\nra  1  3\nrb  4  6"
     },
     "execution_count": 61,
     "metadata": {},
     "output_type": "execute_result"
    }
   ],
   "source": [
    "dataframe.loc[['ra','rb']][['a','c']]"
   ]
  },
  {
   "cell_type": "code",
   "execution_count": 63,
   "metadata": {},
   "outputs": [
    {
     "data": {
      "text/html": "<div>\n<style scoped>\n    .dataframe tbody tr th:only-of-type {\n        vertical-align: middle;\n    }\n\n    .dataframe tbody tr th {\n        vertical-align: top;\n    }\n\n    .dataframe thead th {\n        text-align: right;\n    }\n</style>\n<table border=\"1\" class=\"dataframe\">\n  <thead>\n    <tr style=\"text-align: right;\">\n      <th></th>\n      <th>a</th>\n      <th>b</th>\n      <th>c</th>\n    </tr>\n  </thead>\n  <tbody>\n    <tr>\n      <th>ra</th>\n      <td>n1</td>\n      <td>2</td>\n      <td>3</td>\n    </tr>\n    <tr>\n      <th>rb</th>\n      <td>n2</td>\n      <td>5</td>\n      <td>6</td>\n    </tr>\n    <tr>\n      <th>rc</th>\n      <td>n3</td>\n      <td>8</td>\n      <td>9</td>\n    </tr>\n  </tbody>\n</table>\n</div>",
      "text/plain": "     a  b  c\nra  n1  2  3\nrb  n2  5  6\nrc  n3  8  9"
     },
     "execution_count": 63,
     "metadata": {},
     "output_type": "execute_result"
    }
   ],
   "source": [
    "import pandas as pd\n",
    "\n",
    "dataframe = pd.DataFrame([\n",
    "    ['n1',2,3],\n",
    "    ['n2',5,6],\n",
    "    ['n3',8,9]\n",
    "])\n",
    "\n",
    "dataframe.head()"
   ]
  },
  {
   "cell_type": "code",
   "execution_count": 66,
   "metadata": {},
   "outputs": [],
   "source": [
    "dataframe.set_index('a', inplace=True)\n",
    "dataframe = dataframe.set_index('b')"
   ]
  },
  {
   "cell_type": "code",
   "execution_count": 70,
   "metadata": {},
   "outputs": [
    {
     "name": "stdout",
     "output_type": "stream",
     "text": [
      "c\n",
      "b   \n",
      "2  3\n",
      "5  6\n",
      "8  9\n"
     ]
    }
   ],
   "source": [
    "print(dataframe)"
   ]
  },
  {
   "cell_type": "code",
   "execution_count": 71,
   "metadata": {},
   "outputs": [
    {
     "data": {
      "text/html": "<div>\n<style scoped>\n    .dataframe tbody tr th:only-of-type {\n        vertical-align: middle;\n    }\n\n    .dataframe tbody tr th {\n        vertical-align: top;\n    }\n\n    .dataframe thead th {\n        text-align: right;\n    }\n</style>\n<table border=\"1\" class=\"dataframe\">\n  <thead>\n    <tr style=\"text-align: right;\">\n      <th></th>\n      <th>c</th>\n    </tr>\n    <tr>\n      <th>b</th>\n      <th></th>\n    </tr>\n  </thead>\n  <tbody>\n    <tr>\n      <th>2</th>\n      <td>3</td>\n    </tr>\n    <tr>\n      <th>5</th>\n      <td>6</td>\n    </tr>\n    <tr>\n      <th>8</th>\n      <td>9</td>\n    </tr>\n  </tbody>\n</table>\n</div>",
      "text/plain": "   c\nb   \n2  3\n5  6\n8  9"
     },
     "execution_count": 71,
     "metadata": {},
     "output_type": "execute_result"
    }
   ],
   "source": [
    "dataframe.loc[0:]"
   ]
  },
  {
   "cell_type": "code",
   "execution_count": 81,
   "metadata": {},
   "outputs": [
    {
     "data": {
      "text/html": "<div>\n<style scoped>\n    .dataframe tbody tr th:only-of-type {\n        vertical-align: middle;\n    }\n\n    .dataframe tbody tr th {\n        vertical-align: top;\n    }\n\n    .dataframe thead th {\n        text-align: right;\n    }\n</style>\n<table border=\"1\" class=\"dataframe\">\n  <thead>\n    <tr style=\"text-align: right;\">\n      <th></th>\n      <th>0</th>\n      <th>1</th>\n      <th>2</th>\n    </tr>\n  </thead>\n  <tbody>\n    <tr>\n      <th>0</th>\n      <td>n1</td>\n      <td>2</td>\n      <td>3</td>\n    </tr>\n    <tr>\n      <th>1</th>\n      <td>n2</td>\n      <td>5</td>\n      <td>6</td>\n    </tr>\n    <tr>\n      <th>2</th>\n      <td>n3</td>\n      <td>8</td>\n      <td>9</td>\n    </tr>\n  </tbody>\n</table>\n</div>",
      "text/plain": "    0  1  2\n0  n1  2  3\n1  n2  5  6\n2  n3  8  9"
     },
     "execution_count": 81,
     "metadata": {},
     "output_type": "execute_result"
    }
   ],
   "source": [
    "import pandas as pd\n",
    "\n",
    "dataframe = pd.DataFrame([\n",
    "    [1,2,3],\n",
    "    [2,5,6],\n",
    "    [3,8,9]\n",
    "])\n",
    "\n",
    "dataframe.head()"
   ]
  },
  {
   "cell_type": "code",
   "execution_count": 82,
   "metadata": {},
   "outputs": [
    {
     "data": {
      "text/html": "<div>\n<style scoped>\n    .dataframe tbody tr th:only-of-type {\n        vertical-align: middle;\n    }\n\n    .dataframe tbody tr th {\n        vertical-align: top;\n    }\n\n    .dataframe thead th {\n        text-align: right;\n    }\n</style>\n<table border=\"1\" class=\"dataframe\">\n  <thead>\n    <tr style=\"text-align: right;\">\n      <th></th>\n      <th>1</th>\n      <th>2</th>\n    </tr>\n    <tr>\n      <th>0</th>\n      <th></th>\n      <th></th>\n    </tr>\n  </thead>\n  <tbody>\n    <tr>\n      <th>n1</th>\n      <td>2</td>\n      <td>3</td>\n    </tr>\n    <tr>\n      <th>n2</th>\n      <td>5</td>\n      <td>6</td>\n    </tr>\n    <tr>\n      <th>n3</th>\n      <td>8</td>\n      <td>9</td>\n    </tr>\n  </tbody>\n</table>\n</div>",
      "text/plain": "    1  2\n0       \nn1  2  3\nn2  5  6\nn3  8  9"
     },
     "execution_count": 82,
     "metadata": {},
     "output_type": "execute_result"
    }
   ],
   "source": [
    "dataframe.set_index(0, inplace=True)\n",
    "dataframe.head()"
   ]
  },
  {
   "cell_type": "code",
   "execution_count": 84,
   "metadata": {},
   "outputs": [
    {
     "data": {
      "text/html": "<div>\n<style scoped>\n    .dataframe tbody tr th:only-of-type {\n        vertical-align: middle;\n    }\n\n    .dataframe tbody tr th {\n        vertical-align: top;\n    }\n\n    .dataframe thead th {\n        text-align: right;\n    }\n</style>\n<table border=\"1\" class=\"dataframe\">\n  <thead>\n    <tr style=\"text-align: right;\">\n      <th></th>\n      <th>1</th>\n      <th>2</th>\n    </tr>\n    <tr>\n      <th>0</th>\n      <th></th>\n      <th></th>\n    </tr>\n  </thead>\n  <tbody>\n    <tr>\n      <th>n3</th>\n      <td>8</td>\n      <td>9</td>\n    </tr>\n    <tr>\n      <th>n2</th>\n      <td>5</td>\n      <td>6</td>\n    </tr>\n    <tr>\n      <th>n1</th>\n      <td>2</td>\n      <td>3</td>\n    </tr>\n  </tbody>\n</table>\n</div>",
      "text/plain": "    1  2\n0       \nn3  8  9\nn2  5  6\nn1  2  3"
     },
     "execution_count": 84,
     "metadata": {},
     "output_type": "execute_result"
    }
   ],
   "source": [
    "dataframe.sort_index(ascending=False)"
   ]
  },
  {
   "cell_type": "code",
   "execution_count": null,
   "metadata": {},
   "outputs": [],
   "source": []
  }
 ],
 "metadata": {
  "kernelspec": {
   "display_name": "Python 3.8.5 64-bit ('base': conda)",
   "metadata": {
    "interpreter": {
     "hash": "89beebe5323518da79794454cf5aaa0b72d1b66dab1a5767aadc79dbe2dbf368"
    }
   },
   "name": "python3"
  },
  "language_info": {
   "codemirror_mode": {
    "name": "ipython",
    "version": 3
   },
   "file_extension": ".py",
   "mimetype": "text/x-python",
   "name": "python",
   "nbconvert_exporter": "python",
   "pygments_lexer": "ipython3",
   "version": "3.8.5"
  },
  "orig_nbformat": 2
 },
 "nbformat": 4,
 "nbformat_minor": 2
}