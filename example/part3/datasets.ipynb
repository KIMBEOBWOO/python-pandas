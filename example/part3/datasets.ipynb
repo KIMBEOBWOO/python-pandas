{
 "cells": [
  {
   "cell_type": "markdown",
   "metadata": {},
   "source": [
    "### 1-1 데이터 내용 미리보기"
   ]
  },
  {
   "cell_type": "code",
   "execution_count": 22,
   "metadata": {},
   "outputs": [],
   "source": [
    "import pandas as pd\n",
    "\n",
    "df = pd.read_csv('../../data/auto-mpg.csv', header=None)\n",
    "\n",
    "df.columns = ['mpg', 'cylinders', 'displacement', 'horsepower', 'weight', 'acceleration', 'model year', 'origin', 'name']"
   ]
  },
  {
   "cell_type": "code",
   "execution_count": 23,
   "metadata": {},
   "outputs": [
    {
     "data": {
      "text/html": "<div>\n<style scoped>\n    .dataframe tbody tr th:only-of-type {\n        vertical-align: middle;\n    }\n\n    .dataframe tbody tr th {\n        vertical-align: top;\n    }\n\n    .dataframe thead th {\n        text-align: right;\n    }\n</style>\n<table border=\"1\" class=\"dataframe\">\n  <thead>\n    <tr style=\"text-align: right;\">\n      <th></th>\n      <th>mpg</th>\n      <th>cylinders</th>\n      <th>displacement</th>\n      <th>horsepower</th>\n      <th>weight</th>\n      <th>acceleration</th>\n      <th>model year</th>\n      <th>origin</th>\n      <th>name</th>\n    </tr>\n  </thead>\n  <tbody>\n    <tr>\n      <th>0</th>\n      <td>18.0</td>\n      <td>8</td>\n      <td>307.0</td>\n      <td>130.0</td>\n      <td>3504.0</td>\n      <td>12.0</td>\n      <td>70</td>\n      <td>1</td>\n      <td>chevrolet chevelle malibu</td>\n    </tr>\n    <tr>\n      <th>1</th>\n      <td>15.0</td>\n      <td>8</td>\n      <td>350.0</td>\n      <td>165.0</td>\n      <td>3693.0</td>\n      <td>11.5</td>\n      <td>70</td>\n      <td>1</td>\n      <td>buick skylark 320</td>\n    </tr>\n    <tr>\n      <th>2</th>\n      <td>18.0</td>\n      <td>8</td>\n      <td>318.0</td>\n      <td>150.0</td>\n      <td>3436.0</td>\n      <td>11.0</td>\n      <td>70</td>\n      <td>1</td>\n      <td>plymouth satellite</td>\n    </tr>\n    <tr>\n      <th>3</th>\n      <td>16.0</td>\n      <td>8</td>\n      <td>304.0</td>\n      <td>150.0</td>\n      <td>3433.0</td>\n      <td>12.0</td>\n      <td>70</td>\n      <td>1</td>\n      <td>amc rebel sst</td>\n    </tr>\n    <tr>\n      <th>4</th>\n      <td>17.0</td>\n      <td>8</td>\n      <td>302.0</td>\n      <td>140.0</td>\n      <td>3449.0</td>\n      <td>10.5</td>\n      <td>70</td>\n      <td>1</td>\n      <td>ford torino</td>\n    </tr>\n    <tr>\n      <th>5</th>\n      <td>15.0</td>\n      <td>8</td>\n      <td>429.0</td>\n      <td>198.0</td>\n      <td>4341.0</td>\n      <td>10.0</td>\n      <td>70</td>\n      <td>1</td>\n      <td>ford galaxie 500</td>\n    </tr>\n    <tr>\n      <th>6</th>\n      <td>14.0</td>\n      <td>8</td>\n      <td>454.0</td>\n      <td>220.0</td>\n      <td>4354.0</td>\n      <td>9.0</td>\n      <td>70</td>\n      <td>1</td>\n      <td>chevrolet impala</td>\n    </tr>\n    <tr>\n      <th>7</th>\n      <td>14.0</td>\n      <td>8</td>\n      <td>440.0</td>\n      <td>215.0</td>\n      <td>4312.0</td>\n      <td>8.5</td>\n      <td>70</td>\n      <td>1</td>\n      <td>plymouth fury iii</td>\n    </tr>\n    <tr>\n      <th>8</th>\n      <td>14.0</td>\n      <td>8</td>\n      <td>455.0</td>\n      <td>225.0</td>\n      <td>4425.0</td>\n      <td>10.0</td>\n      <td>70</td>\n      <td>1</td>\n      <td>pontiac catalina</td>\n    </tr>\n    <tr>\n      <th>9</th>\n      <td>15.0</td>\n      <td>8</td>\n      <td>390.0</td>\n      <td>190.0</td>\n      <td>3850.0</td>\n      <td>8.5</td>\n      <td>70</td>\n      <td>1</td>\n      <td>amc ambassador dpl</td>\n    </tr>\n  </tbody>\n</table>\n</div>",
      "text/plain": "    mpg  cylinders  displacement horsepower  weight  acceleration  model year  \\\n0  18.0          8         307.0      130.0  3504.0          12.0          70   \n1  15.0          8         350.0      165.0  3693.0          11.5          70   \n2  18.0          8         318.0      150.0  3436.0          11.0          70   \n3  16.0          8         304.0      150.0  3433.0          12.0          70   \n4  17.0          8         302.0      140.0  3449.0          10.5          70   \n5  15.0          8         429.0      198.0  4341.0          10.0          70   \n6  14.0          8         454.0      220.0  4354.0           9.0          70   \n7  14.0          8         440.0      215.0  4312.0           8.5          70   \n8  14.0          8         455.0      225.0  4425.0          10.0          70   \n9  15.0          8         390.0      190.0  3850.0           8.5          70   \n\n   origin                       name  \n0       1  chevrolet chevelle malibu  \n1       1          buick skylark 320  \n2       1         plymouth satellite  \n3       1              amc rebel sst  \n4       1                ford torino  \n5       1           ford galaxie 500  \n6       1           chevrolet impala  \n7       1          plymouth fury iii  \n8       1           pontiac catalina  \n9       1         amc ambassador dpl  "
     },
     "execution_count": 23,
     "metadata": {},
     "output_type": "execute_result"
    }
   ],
   "source": [
    "# 앞부분 일부 정보를 확인\n",
    "df.head(10)"
   ]
  },
  {
   "cell_type": "code",
   "execution_count": 24,
   "metadata": {},
   "outputs": [
    {
     "data": {
      "text/html": "<div>\n<style scoped>\n    .dataframe tbody tr th:only-of-type {\n        vertical-align: middle;\n    }\n\n    .dataframe tbody tr th {\n        vertical-align: top;\n    }\n\n    .dataframe thead th {\n        text-align: right;\n    }\n</style>\n<table border=\"1\" class=\"dataframe\">\n  <thead>\n    <tr style=\"text-align: right;\">\n      <th></th>\n      <th>mpg</th>\n      <th>cylinders</th>\n      <th>displacement</th>\n      <th>horsepower</th>\n      <th>weight</th>\n      <th>acceleration</th>\n      <th>model year</th>\n      <th>origin</th>\n      <th>name</th>\n    </tr>\n  </thead>\n  <tbody>\n    <tr>\n      <th>388</th>\n      <td>26.0</td>\n      <td>4</td>\n      <td>156.0</td>\n      <td>92.00</td>\n      <td>2585.0</td>\n      <td>14.5</td>\n      <td>82</td>\n      <td>1</td>\n      <td>chrysler lebaron medallion</td>\n    </tr>\n    <tr>\n      <th>389</th>\n      <td>22.0</td>\n      <td>6</td>\n      <td>232.0</td>\n      <td>112.0</td>\n      <td>2835.0</td>\n      <td>14.7</td>\n      <td>82</td>\n      <td>1</td>\n      <td>ford granada l</td>\n    </tr>\n    <tr>\n      <th>390</th>\n      <td>32.0</td>\n      <td>4</td>\n      <td>144.0</td>\n      <td>96.00</td>\n      <td>2665.0</td>\n      <td>13.9</td>\n      <td>82</td>\n      <td>3</td>\n      <td>toyota celica gt</td>\n    </tr>\n    <tr>\n      <th>391</th>\n      <td>36.0</td>\n      <td>4</td>\n      <td>135.0</td>\n      <td>84.00</td>\n      <td>2370.0</td>\n      <td>13.0</td>\n      <td>82</td>\n      <td>1</td>\n      <td>dodge charger 2.2</td>\n    </tr>\n    <tr>\n      <th>392</th>\n      <td>27.0</td>\n      <td>4</td>\n      <td>151.0</td>\n      <td>90.00</td>\n      <td>2950.0</td>\n      <td>17.3</td>\n      <td>82</td>\n      <td>1</td>\n      <td>chevrolet camaro</td>\n    </tr>\n    <tr>\n      <th>393</th>\n      <td>27.0</td>\n      <td>4</td>\n      <td>140.0</td>\n      <td>86.00</td>\n      <td>2790.0</td>\n      <td>15.6</td>\n      <td>82</td>\n      <td>1</td>\n      <td>ford mustang gl</td>\n    </tr>\n    <tr>\n      <th>394</th>\n      <td>44.0</td>\n      <td>4</td>\n      <td>97.0</td>\n      <td>52.00</td>\n      <td>2130.0</td>\n      <td>24.6</td>\n      <td>82</td>\n      <td>2</td>\n      <td>vw pickup</td>\n    </tr>\n    <tr>\n      <th>395</th>\n      <td>32.0</td>\n      <td>4</td>\n      <td>135.0</td>\n      <td>84.00</td>\n      <td>2295.0</td>\n      <td>11.6</td>\n      <td>82</td>\n      <td>1</td>\n      <td>dodge rampage</td>\n    </tr>\n    <tr>\n      <th>396</th>\n      <td>28.0</td>\n      <td>4</td>\n      <td>120.0</td>\n      <td>79.00</td>\n      <td>2625.0</td>\n      <td>18.6</td>\n      <td>82</td>\n      <td>1</td>\n      <td>ford ranger</td>\n    </tr>\n    <tr>\n      <th>397</th>\n      <td>31.0</td>\n      <td>4</td>\n      <td>119.0</td>\n      <td>82.00</td>\n      <td>2720.0</td>\n      <td>19.4</td>\n      <td>82</td>\n      <td>1</td>\n      <td>chevy s-10</td>\n    </tr>\n  </tbody>\n</table>\n</div>",
      "text/plain": "      mpg  cylinders  displacement horsepower  weight  acceleration  \\\n388  26.0          4         156.0      92.00  2585.0          14.5   \n389  22.0          6         232.0      112.0  2835.0          14.7   \n390  32.0          4         144.0      96.00  2665.0          13.9   \n391  36.0          4         135.0      84.00  2370.0          13.0   \n392  27.0          4         151.0      90.00  2950.0          17.3   \n393  27.0          4         140.0      86.00  2790.0          15.6   \n394  44.0          4          97.0      52.00  2130.0          24.6   \n395  32.0          4         135.0      84.00  2295.0          11.6   \n396  28.0          4         120.0      79.00  2625.0          18.6   \n397  31.0          4         119.0      82.00  2720.0          19.4   \n\n     model year  origin                        name  \n388          82       1  chrysler lebaron medallion  \n389          82       1              ford granada l  \n390          82       3            toyota celica gt  \n391          82       1           dodge charger 2.2  \n392          82       1            chevrolet camaro  \n393          82       1             ford mustang gl  \n394          82       2                   vw pickup  \n395          82       1               dodge rampage  \n396          82       1                 ford ranger  \n397          82       1                  chevy s-10  "
     },
     "execution_count": 24,
     "metadata": {},
     "output_type": "execute_result"
    }
   ],
   "source": [
    "# 뒷 부분 정보 일부 확인\n",
    "df.tail(10)"
   ]
  },
  {
   "cell_type": "markdown",
   "metadata": {},
   "source": [
    "### 1-2 데이터 요약 정보 확인하기"
   ]
  },
  {
   "cell_type": "code",
   "execution_count": 31,
   "metadata": {},
   "outputs": [
    {
     "data": {
      "text/plain": "(398, 9)"
     },
     "execution_count": 31,
     "metadata": {},
     "output_type": "execute_result"
    }
   ],
   "source": [
    "# 크기 확인 (행의 개수, 열의 개수)\n",
    "import pandas as pd\n",
    "\n",
    "df = pd.read_csv('../../data/auto-mpg.csv', header=None)\n",
    "\n",
    "df.columns = ['mpg', 'cylinders', 'displacement', 'horsepower', 'weight', 'acceleration', 'model year', 'origin', 'name']\n",
    "df.shape "
   ]
  },
  {
   "cell_type": "code",
   "execution_count": 26,
   "metadata": {},
   "outputs": [
    {
     "name": "stdout",
     "output_type": "stream",
     "text": [
      "<class 'pandas.core.frame.DataFrame'>\n",
      "RangeIndex: 398 entries, 0 to 397\n",
      "Data columns (total 9 columns):\n",
      " #   Column        Non-Null Count  Dtype  \n",
      "---  ------        --------------  -----  \n",
      " 0   mpg           398 non-null    float64\n",
      " 1   cylinders     398 non-null    int64  \n",
      " 2   displacement  398 non-null    float64\n",
      " 3   horsepower    398 non-null    object \n",
      " 4   weight        398 non-null    float64\n",
      " 5   acceleration  398 non-null    float64\n",
      " 6   model year    398 non-null    int64  \n",
      " 7   origin        398 non-null    int64  \n",
      " 8   name          398 non-null    object \n",
      "dtypes: float64(4), int64(3), object(2)\n",
      "memory usage: 28.1+ KB\n"
     ]
    }
   ],
   "source": [
    "# 기본 정보 출력 (클래스 유형, 각 컬럼별 타입, 널개수, 메모리 할당에 대한 정보 등)\n",
    "df.info()"
   ]
  },
  {
   "cell_type": "code",
   "execution_count": 27,
   "metadata": {},
   "outputs": [
    {
     "data": {
      "text/plain": "mpg             float64\ncylinders         int64\ndisplacement    float64\nhorsepower       object\nweight          float64\nacceleration    float64\nmodel year        int64\norigin            int64\nname             object\ndtype: object"
     },
     "execution_count": 27,
     "metadata": {},
     "output_type": "execute_result"
    }
   ],
   "source": [
    "# 각 열의 타입 확인\n",
    "df.dtypes"
   ]
  },
  {
   "cell_type": "code",
   "execution_count": 28,
   "metadata": {},
   "outputs": [
    {
     "data": {
      "text/plain": "dtype('float64')"
     },
     "execution_count": 28,
     "metadata": {},
     "output_type": "execute_result"
    }
   ],
   "source": [
    "# 특정 열의 타입 확인\n",
    "df.mpg.dtypes"
   ]
  },
  {
   "cell_type": "code",
   "execution_count": 29,
   "metadata": {},
   "outputs": [
    {
     "data": {
      "text/html": "<div>\n<style scoped>\n    .dataframe tbody tr th:only-of-type {\n        vertical-align: middle;\n    }\n\n    .dataframe tbody tr th {\n        vertical-align: top;\n    }\n\n    .dataframe thead th {\n        text-align: right;\n    }\n</style>\n<table border=\"1\" class=\"dataframe\">\n  <thead>\n    <tr style=\"text-align: right;\">\n      <th></th>\n      <th>mpg</th>\n      <th>cylinders</th>\n      <th>displacement</th>\n      <th>weight</th>\n      <th>acceleration</th>\n      <th>model year</th>\n      <th>origin</th>\n    </tr>\n  </thead>\n  <tbody>\n    <tr>\n      <th>count</th>\n      <td>398.000000</td>\n      <td>398.000000</td>\n      <td>398.000000</td>\n      <td>398.000000</td>\n      <td>398.000000</td>\n      <td>398.000000</td>\n      <td>398.000000</td>\n    </tr>\n    <tr>\n      <th>mean</th>\n      <td>23.514573</td>\n      <td>5.454774</td>\n      <td>193.425879</td>\n      <td>2970.424623</td>\n      <td>15.568090</td>\n      <td>76.010050</td>\n      <td>1.572864</td>\n    </tr>\n    <tr>\n      <th>std</th>\n      <td>7.815984</td>\n      <td>1.701004</td>\n      <td>104.269838</td>\n      <td>846.841774</td>\n      <td>2.757689</td>\n      <td>3.697627</td>\n      <td>0.802055</td>\n    </tr>\n    <tr>\n      <th>min</th>\n      <td>9.000000</td>\n      <td>3.000000</td>\n      <td>68.000000</td>\n      <td>1613.000000</td>\n      <td>8.000000</td>\n      <td>70.000000</td>\n      <td>1.000000</td>\n    </tr>\n    <tr>\n      <th>25%</th>\n      <td>17.500000</td>\n      <td>4.000000</td>\n      <td>104.250000</td>\n      <td>2223.750000</td>\n      <td>13.825000</td>\n      <td>73.000000</td>\n      <td>1.000000</td>\n    </tr>\n    <tr>\n      <th>50%</th>\n      <td>23.000000</td>\n      <td>4.000000</td>\n      <td>148.500000</td>\n      <td>2803.500000</td>\n      <td>15.500000</td>\n      <td>76.000000</td>\n      <td>1.000000</td>\n    </tr>\n    <tr>\n      <th>75%</th>\n      <td>29.000000</td>\n      <td>8.000000</td>\n      <td>262.000000</td>\n      <td>3608.000000</td>\n      <td>17.175000</td>\n      <td>79.000000</td>\n      <td>2.000000</td>\n    </tr>\n    <tr>\n      <th>max</th>\n      <td>46.600000</td>\n      <td>8.000000</td>\n      <td>455.000000</td>\n      <td>5140.000000</td>\n      <td>24.800000</td>\n      <td>82.000000</td>\n      <td>3.000000</td>\n    </tr>\n  </tbody>\n</table>\n</div>",
      "text/plain": "              mpg   cylinders  displacement       weight  acceleration  \\\ncount  398.000000  398.000000    398.000000   398.000000    398.000000   \nmean    23.514573    5.454774    193.425879  2970.424623     15.568090   \nstd      7.815984    1.701004    104.269838   846.841774      2.757689   \nmin      9.000000    3.000000     68.000000  1613.000000      8.000000   \n25%     17.500000    4.000000    104.250000  2223.750000     13.825000   \n50%     23.000000    4.000000    148.500000  2803.500000     15.500000   \n75%     29.000000    8.000000    262.000000  3608.000000     17.175000   \nmax     46.600000    8.000000    455.000000  5140.000000     24.800000   \n\n       model year      origin  \ncount  398.000000  398.000000  \nmean    76.010050    1.572864  \nstd      3.697627    0.802055  \nmin     70.000000    1.000000  \n25%     73.000000    1.000000  \n50%     76.000000    1.000000  \n75%     79.000000    2.000000  \nmax     82.000000    3.000000  "
     },
     "execution_count": 29,
     "metadata": {},
     "output_type": "execute_result"
    }
   ],
   "source": [
    "# 산술 데이터(숫자)를 갖는 열에 대한 주요 기술 통계 정보(평균, 표준편차, 최대값, 최소값, 중간값 등) 을 확인\n",
    "df.describe()"
   ]
  },
  {
   "cell_type": "code",
   "execution_count": 30,
   "metadata": {},
   "outputs": [
    {
     "data": {
      "text/html": "<div>\n<style scoped>\n    .dataframe tbody tr th:only-of-type {\n        vertical-align: middle;\n    }\n\n    .dataframe tbody tr th {\n        vertical-align: top;\n    }\n\n    .dataframe thead th {\n        text-align: right;\n    }\n</style>\n<table border=\"1\" class=\"dataframe\">\n  <thead>\n    <tr style=\"text-align: right;\">\n      <th></th>\n      <th>mpg</th>\n      <th>cylinders</th>\n      <th>displacement</th>\n      <th>horsepower</th>\n      <th>weight</th>\n      <th>acceleration</th>\n      <th>model year</th>\n      <th>origin</th>\n      <th>name</th>\n    </tr>\n  </thead>\n  <tbody>\n    <tr>\n      <th>count</th>\n      <td>398.000000</td>\n      <td>398.000000</td>\n      <td>398.000000</td>\n      <td>398</td>\n      <td>398.000000</td>\n      <td>398.000000</td>\n      <td>398.000000</td>\n      <td>398.000000</td>\n      <td>398</td>\n    </tr>\n    <tr>\n      <th>unique</th>\n      <td>NaN</td>\n      <td>NaN</td>\n      <td>NaN</td>\n      <td>94</td>\n      <td>NaN</td>\n      <td>NaN</td>\n      <td>NaN</td>\n      <td>NaN</td>\n      <td>305</td>\n    </tr>\n    <tr>\n      <th>top</th>\n      <td>NaN</td>\n      <td>NaN</td>\n      <td>NaN</td>\n      <td>150.0</td>\n      <td>NaN</td>\n      <td>NaN</td>\n      <td>NaN</td>\n      <td>NaN</td>\n      <td>ford pinto</td>\n    </tr>\n    <tr>\n      <th>freq</th>\n      <td>NaN</td>\n      <td>NaN</td>\n      <td>NaN</td>\n      <td>22</td>\n      <td>NaN</td>\n      <td>NaN</td>\n      <td>NaN</td>\n      <td>NaN</td>\n      <td>6</td>\n    </tr>\n    <tr>\n      <th>mean</th>\n      <td>23.514573</td>\n      <td>5.454774</td>\n      <td>193.425879</td>\n      <td>NaN</td>\n      <td>2970.424623</td>\n      <td>15.568090</td>\n      <td>76.010050</td>\n      <td>1.572864</td>\n      <td>NaN</td>\n    </tr>\n    <tr>\n      <th>std</th>\n      <td>7.815984</td>\n      <td>1.701004</td>\n      <td>104.269838</td>\n      <td>NaN</td>\n      <td>846.841774</td>\n      <td>2.757689</td>\n      <td>3.697627</td>\n      <td>0.802055</td>\n      <td>NaN</td>\n    </tr>\n    <tr>\n      <th>min</th>\n      <td>9.000000</td>\n      <td>3.000000</td>\n      <td>68.000000</td>\n      <td>NaN</td>\n      <td>1613.000000</td>\n      <td>8.000000</td>\n      <td>70.000000</td>\n      <td>1.000000</td>\n      <td>NaN</td>\n    </tr>\n    <tr>\n      <th>25%</th>\n      <td>17.500000</td>\n      <td>4.000000</td>\n      <td>104.250000</td>\n      <td>NaN</td>\n      <td>2223.750000</td>\n      <td>13.825000</td>\n      <td>73.000000</td>\n      <td>1.000000</td>\n      <td>NaN</td>\n    </tr>\n    <tr>\n      <th>50%</th>\n      <td>23.000000</td>\n      <td>4.000000</td>\n      <td>148.500000</td>\n      <td>NaN</td>\n      <td>2803.500000</td>\n      <td>15.500000</td>\n      <td>76.000000</td>\n      <td>1.000000</td>\n      <td>NaN</td>\n    </tr>\n    <tr>\n      <th>75%</th>\n      <td>29.000000</td>\n      <td>8.000000</td>\n      <td>262.000000</td>\n      <td>NaN</td>\n      <td>3608.000000</td>\n      <td>17.175000</td>\n      <td>79.000000</td>\n      <td>2.000000</td>\n      <td>NaN</td>\n    </tr>\n    <tr>\n      <th>max</th>\n      <td>46.600000</td>\n      <td>8.000000</td>\n      <td>455.000000</td>\n      <td>NaN</td>\n      <td>5140.000000</td>\n      <td>24.800000</td>\n      <td>82.000000</td>\n      <td>3.000000</td>\n      <td>NaN</td>\n    </tr>\n  </tbody>\n</table>\n</div>",
      "text/plain": "               mpg   cylinders  displacement horsepower       weight  \\\ncount   398.000000  398.000000    398.000000        398   398.000000   \nunique         NaN         NaN           NaN         94          NaN   \ntop            NaN         NaN           NaN      150.0          NaN   \nfreq           NaN         NaN           NaN         22          NaN   \nmean     23.514573    5.454774    193.425879        NaN  2970.424623   \nstd       7.815984    1.701004    104.269838        NaN   846.841774   \nmin       9.000000    3.000000     68.000000        NaN  1613.000000   \n25%      17.500000    4.000000    104.250000        NaN  2223.750000   \n50%      23.000000    4.000000    148.500000        NaN  2803.500000   \n75%      29.000000    8.000000    262.000000        NaN  3608.000000   \nmax      46.600000    8.000000    455.000000        NaN  5140.000000   \n\n        acceleration  model year      origin        name  \ncount     398.000000  398.000000  398.000000         398  \nunique           NaN         NaN         NaN         305  \ntop              NaN         NaN         NaN  ford pinto  \nfreq             NaN         NaN         NaN           6  \nmean       15.568090   76.010050    1.572864         NaN  \nstd         2.757689    3.697627    0.802055         NaN  \nmin         8.000000   70.000000    1.000000         NaN  \n25%        13.825000   73.000000    1.000000         NaN  \n50%        15.500000   76.000000    1.000000         NaN  \n75%        17.175000   79.000000    2.000000         NaN  \nmax        24.800000   82.000000    3.000000         NaN  "
     },
     "execution_count": 30,
     "metadata": {},
     "output_type": "execute_result"
    }
   ],
   "source": [
    "# 산술 데이터가 아닌 데이터 또한 Nan 으로 확인하기\n",
    "df.describe(include='all')"
   ]
  },
  {
   "cell_type": "markdown",
   "metadata": {},
   "source": [
    "### 1-3 데이터 개수 확인"
   ]
  },
  {
   "cell_type": "code",
   "execution_count": 44,
   "metadata": {},
   "outputs": [],
   "source": [
    "import pandas as pd\n",
    "\n",
    "df = pd.read_csv('../../data/auto-mpg.csv', header=None)\n",
    "\n",
    "df.columns = ['mpg', 'cylinders', 'displacement', 'horsepower', 'weight', 'acceleration', 'model year', 'origin', 'name']"
   ]
  },
  {
   "cell_type": "code",
   "execution_count": 45,
   "metadata": {},
   "outputs": [
    {
     "data": {
      "text/plain": "mpg             398\ncylinders       398\ndisplacement    398\nhorsepower      398\nweight          398\nacceleration    398\nmodel year      398\norigin          398\nname            398\ndtype: int64"
     },
     "execution_count": 45,
     "metadata": {},
     "output_type": "execute_result"
    }
   ],
   "source": [
    "# 각 열이 가지고 있는 원소 개수 확인\n",
    "df.count()"
   ]
  },
  {
   "cell_type": "code",
   "execution_count": 47,
   "metadata": {},
   "outputs": [
    {
     "name": "stdout",
     "output_type": "stream",
     "text": [
      "<class 'pandas.core.series.Series'>\n"
     ]
    }
   ],
   "source": [
    "# df.count() 가 반환하는 객체 타입 출력\n",
    "print(type(df.count()))"
   ]
  },
  {
   "cell_type": "code",
   "execution_count": 42,
   "metadata": {},
   "outputs": [
    {
     "name": "stdout",
     "output_type": "stream",
     "text": [
      "1    249\n",
      "3     79\n",
      "2     70\n",
      "Name: origin, dtype: int64\n"
     ]
    }
   ],
   "source": [
    "# 각 열의 고유값 개수\n",
    "unique_values = df['origin'].value_counts()\n",
    "print(unique_values)\n",
    "\n",
    "# 1(미국) 249개, 3(일본) 70개, 2(유럽) 79개"
   ]
  },
  {
   "cell_type": "markdown",
   "metadata": {},
   "source": [
    "### 2-1 통계 함수 적용"
   ]
  },
  {
   "cell_type": "code",
   "execution_count": 2,
   "metadata": {},
   "outputs": [],
   "source": [
    "import pandas as pd\n",
    "\n",
    "df = pd.read_csv('../../data/auto-mpg.csv', header=None)\n",
    "\n",
    "df.columns = ['mpg', 'cylinders', 'displacement', 'horsepower', 'weight', 'acceleration', 'model year', 'origin', 'name']"
   ]
  },
  {
   "cell_type": "code",
   "execution_count": 6,
   "metadata": {},
   "outputs": [
    {
     "name": "stdout",
     "output_type": "stream",
     "text": [
      "mpg               23.514573\n",
      "cylinders          5.454774\n",
      "displacement     193.425879\n",
      "weight          2970.424623\n",
      "acceleration      15.568090\n",
      "model year        76.010050\n",
      "origin             1.572864\n",
      "dtype: float64\n",
      "\n",
      "\n",
      "<class 'pandas.core.series.Series'>\n",
      "(7,)\n",
      "\n",
      "\n",
      "2970.424623115578\n"
     ]
    }
   ],
   "source": [
    "# 산술 연산이 가능한 모든 열에 대해 평균값을 적용한 시리즈를 반환\n",
    "print(df.mean())\n",
    "print('\\n')\n",
    "print(type(df.mean()))\n",
    "print(df.mean().shape)\n",
    "print('\\n')\n",
    "\n",
    "# 산술 연산이 가능한 특정 열에 대해 평균값을 적용한 시리즈를 반환\n",
    "print(df['weight'].mean())"
   ]
  },
  {
   "cell_type": "code",
   "execution_count": 4,
   "metadata": {},
   "outputs": [
    {
     "name": "stdout",
     "output_type": "stream",
     "text": [
      "mpg               23.0\n",
      "cylinders          4.0\n",
      "displacement     148.5\n",
      "weight          2803.5\n",
      "acceleration      15.5\n",
      "model year        76.0\n",
      "origin             1.0\n",
      "dtype: float64\n",
      "\n",
      "\n",
      "<class 'pandas.core.series.Series'>\n",
      "(7,)\n",
      "\n",
      "\n",
      "2803.5\n"
     ]
    }
   ],
   "source": [
    "# 산술 연산이 가능한 모든 열에 대해 중간값을 적용한 시리즈를 반환\n",
    "print(df.median())\n",
    "print('\\n')\n",
    "print(type(df.median()))\n",
    "print(df.median().shape)\n",
    "print('\\n')\n",
    "\n",
    "# 산술 연산이 가능한 특정 열을 지정해 중간값을 적용한 시리즈 반환\n",
    "print(df['weight'].median())"
   ]
  },
  {
   "cell_type": "code",
   "execution_count": 12,
   "metadata": {},
   "outputs": [
    {
     "name": "stdout",
     "output_type": "stream",
     "text": [
      "mpg                         46.6\n",
      "cylinders                      8\n",
      "displacement                 455\n",
      "horsepower                     ?\n",
      "weight                      5140\n",
      "acceleration                24.8\n",
      "model year                    82\n",
      "origin                         3\n",
      "name            vw rabbit custom\n",
      "dtype: object\n",
      "\n",
      "\n",
      "5140.0\n",
      "\n",
      "\n",
      "mpg                                   9\n",
      "cylinders                             3\n",
      "displacement                         68\n",
      "horsepower                        100.0\n",
      "weight                             1613\n",
      "acceleration                          8\n",
      "model year                           70\n",
      "origin                                1\n",
      "name            amc ambassador brougham\n",
      "dtype: object\n",
      "\n",
      "\n",
      "1613.0\n"
     ]
    }
   ],
   "source": [
    "# 최대값 확인\n",
    "print(df.max()) # 모든 열에 대해 최대값 출력\n",
    "print('\\n')\n",
    "print(df['weight'].max()) # 특정 열에 대해 최대값 출력\n",
    "print('\\n')\n",
    "\n",
    "# 최소값 확인\n",
    "print(df.min()) # 모든 열에 대해 최대값 출력\n",
    "print('\\n')\n",
    "print(df['weight'].min()) # 특정 열에 대해 최대값 출력"
   ]
  },
  {
   "cell_type": "markdown",
   "metadata": {},
   "source": [
    "문자열에 대한 최대/최소의 경우 ASCII 코드값을 비교하게 된다.  \n",
    "여기서 horsepower 열의 경우 ? 와 숫자 데이터가 섞여 전체가 문자열로 인식되게 된다.  \n",
    "따라서 문자열 상 최소인 100.0 이 출력되게 되는것"
   ]
  },
  {
   "cell_type": "code",
   "execution_count": 14,
   "metadata": {},
   "outputs": [
    {
     "name": "stdout",
     "output_type": "stream",
     "text": [
      "mpg               7.815984\n",
      "cylinders         1.701004\n",
      "displacement    104.269838\n",
      "weight          846.841774\n",
      "acceleration      2.757689\n",
      "model year        3.697627\n",
      "origin            0.802055\n",
      "dtype: float64\n",
      "\n",
      "\n",
      "846.8417741973271\n"
     ]
    }
   ],
   "source": [
    "# 모든 열의 표준 편차\n",
    "print(df.std())\n",
    "print('\\n')\n",
    "\n",
    "# 특정 열의 표준 편차\n",
    "print(df['weight'].std())"
   ]
  },
  {
   "cell_type": "code",
   "execution_count": 19,
   "metadata": {},
   "outputs": [
    {
     "data": {
      "text/html": "<div>\n<style scoped>\n    .dataframe tbody tr th:only-of-type {\n        vertical-align: middle;\n    }\n\n    .dataframe tbody tr th {\n        vertical-align: top;\n    }\n\n    .dataframe thead th {\n        text-align: right;\n    }\n</style>\n<table border=\"1\" class=\"dataframe\">\n  <thead>\n    <tr style=\"text-align: right;\">\n      <th></th>\n      <th>mpg</th>\n      <th>cylinders</th>\n      <th>displacement</th>\n      <th>weight</th>\n      <th>acceleration</th>\n      <th>model year</th>\n      <th>origin</th>\n    </tr>\n  </thead>\n  <tbody>\n    <tr>\n      <th>mpg</th>\n      <td>1.000000</td>\n      <td>-0.775396</td>\n      <td>-0.804203</td>\n      <td>-0.831741</td>\n      <td>0.420289</td>\n      <td>0.579267</td>\n      <td>0.563450</td>\n    </tr>\n    <tr>\n      <th>cylinders</th>\n      <td>-0.775396</td>\n      <td>1.000000</td>\n      <td>0.950721</td>\n      <td>0.896017</td>\n      <td>-0.505419</td>\n      <td>-0.348746</td>\n      <td>-0.562543</td>\n    </tr>\n    <tr>\n      <th>displacement</th>\n      <td>-0.804203</td>\n      <td>0.950721</td>\n      <td>1.000000</td>\n      <td>0.932824</td>\n      <td>-0.543684</td>\n      <td>-0.370164</td>\n      <td>-0.609409</td>\n    </tr>\n    <tr>\n      <th>weight</th>\n      <td>-0.831741</td>\n      <td>0.896017</td>\n      <td>0.932824</td>\n      <td>1.000000</td>\n      <td>-0.417457</td>\n      <td>-0.306564</td>\n      <td>-0.581024</td>\n    </tr>\n    <tr>\n      <th>acceleration</th>\n      <td>0.420289</td>\n      <td>-0.505419</td>\n      <td>-0.543684</td>\n      <td>-0.417457</td>\n      <td>1.000000</td>\n      <td>0.288137</td>\n      <td>0.205873</td>\n    </tr>\n    <tr>\n      <th>model year</th>\n      <td>0.579267</td>\n      <td>-0.348746</td>\n      <td>-0.370164</td>\n      <td>-0.306564</td>\n      <td>0.288137</td>\n      <td>1.000000</td>\n      <td>0.180662</td>\n    </tr>\n    <tr>\n      <th>origin</th>\n      <td>0.563450</td>\n      <td>-0.562543</td>\n      <td>-0.609409</td>\n      <td>-0.581024</td>\n      <td>0.205873</td>\n      <td>0.180662</td>\n      <td>1.000000</td>\n    </tr>\n  </tbody>\n</table>\n</div>",
      "text/plain": "                   mpg  cylinders  displacement    weight  acceleration  \\\nmpg           1.000000  -0.775396     -0.804203 -0.831741      0.420289   \ncylinders    -0.775396   1.000000      0.950721  0.896017     -0.505419   \ndisplacement -0.804203   0.950721      1.000000  0.932824     -0.543684   \nweight       -0.831741   0.896017      0.932824  1.000000     -0.417457   \nacceleration  0.420289  -0.505419     -0.543684 -0.417457      1.000000   \nmodel year    0.579267  -0.348746     -0.370164 -0.306564      0.288137   \norigin        0.563450  -0.562543     -0.609409 -0.581024      0.205873   \n\n              model year    origin  \nmpg             0.579267  0.563450  \ncylinders      -0.348746 -0.562543  \ndisplacement   -0.370164 -0.609409  \nweight         -0.306564 -0.581024  \nacceleration    0.288137  0.205873  \nmodel year      1.000000  0.180662  \norigin          0.180662  1.000000  "
     },
     "execution_count": 19,
     "metadata": {},
     "output_type": "execute_result"
    }
   ],
   "source": [
    "# 산술 연산이 가능한 모든 열끼리 2개씩 짝지어 상관계수 계산\n",
    "df.corr().head(10)"
   ]
  },
  {
   "cell_type": "code",
   "execution_count": null,
   "metadata": {},
   "outputs": [],
   "source": []
  }
 ],
 "metadata": {
  "kernelspec": {
   "display_name": "Python 3.8.5 64-bit ('base': conda)",
   "metadata": {
    "interpreter": {
     "hash": "89beebe5323518da79794454cf5aaa0b72d1b66dab1a5767aadc79dbe2dbf368"
    }
   },
   "name": "python3"
  },
  "language_info": {
   "codemirror_mode": {
    "name": "ipython",
    "version": 3
   },
   "file_extension": ".py",
   "mimetype": "text/x-python",
   "name": "python",
   "nbconvert_exporter": "python",
   "pygments_lexer": "ipython3",
   "version": "3.8.5"
  },
  "orig_nbformat": 2
 },
 "nbformat": 4,
 "nbformat_minor": 2
}