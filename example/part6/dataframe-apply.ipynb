{
 "cells": [
  {
   "cell_type": "markdown",
   "metadata": {},
   "source": [
    "### 1-1 개별 원소 함수 맵핑"
   ]
  },
  {
   "cell_type": "markdown",
   "metadata": {},
   "source": [
    "###### 시리즈 원소에 함수 맵핑"
   ]
  },
  {
   "cell_type": "code",
   "execution_count": 65,
   "metadata": {},
   "outputs": [
    {
     "data": {
      "text/html": "<div>\n<style scoped>\n    .dataframe tbody tr th:only-of-type {\n        vertical-align: middle;\n    }\n\n    .dataframe tbody tr th {\n        vertical-align: top;\n    }\n\n    .dataframe thead th {\n        text-align: right;\n    }\n</style>\n<table border=\"1\" class=\"dataframe\">\n  <thead>\n    <tr style=\"text-align: right;\">\n      <th></th>\n      <th>age</th>\n      <th>fare</th>\n      <th>ten</th>\n    </tr>\n  </thead>\n  <tbody>\n    <tr>\n      <th>0</th>\n      <td>22.0</td>\n      <td>7.2500</td>\n      <td>10</td>\n    </tr>\n    <tr>\n      <th>1</th>\n      <td>38.0</td>\n      <td>71.2833</td>\n      <td>10</td>\n    </tr>\n    <tr>\n      <th>2</th>\n      <td>26.0</td>\n      <td>7.9250</td>\n      <td>10</td>\n    </tr>\n    <tr>\n      <th>3</th>\n      <td>35.0</td>\n      <td>53.1000</td>\n      <td>10</td>\n    </tr>\n    <tr>\n      <th>4</th>\n      <td>35.0</td>\n      <td>8.0500</td>\n      <td>10</td>\n    </tr>\n  </tbody>\n</table>\n</div>",
      "text/plain": "    age     fare  ten\n0  22.0   7.2500   10\n1  38.0  71.2833   10\n2  26.0   7.9250   10\n3  35.0  53.1000   10\n4  35.0   8.0500   10"
     },
     "execution_count": 65,
     "metadata": {},
     "output_type": "execute_result"
    }
   ],
   "source": [
    "import seaborn as sns\n",
    "\n",
    "titanic = sns.load_dataset('titanic')\n",
    "df = titanic.loc[:, ['age', 'fare']]\n",
    "df['ten'] = 10\n",
    "df.head()"
   ]
  },
  {
   "cell_type": "code",
   "execution_count": 17,
   "metadata": {},
   "outputs": [],
   "source": [
    "def add_10(n):\n",
    "    return n+10\n",
    "\n",
    "def add_two_obj(a, b, c):\n",
    "    return a+b+c"
   ]
  },
  {
   "cell_type": "code",
   "execution_count": 18,
   "metadata": {},
   "outputs": [
    {
     "data": {
      "text/plain": "0    32.0\n1    48.0\n2    36.0\n3    45.0\n4    45.0\nName: age, dtype: float64"
     },
     "execution_count": 18,
     "metadata": {},
     "output_type": "execute_result"
    }
   ],
   "source": [
    "# 시리즈 객체에 적용\n",
    "sr1 = df['age'].apply(add_10)\n",
    "sr1.head()"
   ]
  },
  {
   "cell_type": "code",
   "execution_count": 23,
   "metadata": {},
   "outputs": [
    {
     "data": {
      "text/plain": "0    42.0\n1    58.0\n2    46.0\n3    55.0\n4    55.0\nName: age, dtype: float64"
     },
     "execution_count": 23,
     "metadata": {},
     "output_type": "execute_result"
    }
   ],
   "source": [
    "# 시리즈 객체와 숫자에 적용 : 2개의 인수 (시리즈 + 숫자)\n",
    "sr2 = df['age'].apply(add_two_obj, args=(10,10)) \n",
    "sr2_2 = df['age'].apply(add_two_obj, b=10, c=10)\n",
    "sr2.head()\n",
    "sr2_2.head()"
   ]
  },
  {
   "cell_type": "code",
   "execution_count": 9,
   "metadata": {},
   "outputs": [
    {
     "data": {
      "text/plain": "0    32.0\n1    48.0\n2    36.0\n3    45.0\n4    45.0\nName: age, dtype: float64"
     },
     "execution_count": 9,
     "metadata": {},
     "output_type": "execute_result"
    }
   ],
   "source": [
    "# lamda 함수 사용 : 시리즈 객체에 적용\n",
    "sr3 = df['age'].apply(lambda x: add_10(x))\n",
    "sr3.head()"
   ]
  },
  {
   "cell_type": "markdown",
   "metadata": {},
   "source": [
    "Series.apply 메소드는 시리즈의 개별 원소에 대해 정의한 함수를 수행하고자 할 때 사용한다.  \n",
    "1. **func**: python function or numpy function to apply\n",
    "2. **convert_type(True)**: 요소별 함수 결과에 대한 더 나은 타입 캐스팅을 수행한다. (if  False, leave at Object type)\n",
    "3. **args**: Tuple, 계열값 뒤에 전달되는 위치 인수\n",
    "4. **\\*\\*kwds**: func 에 전달 될 addtional parmas , 키워드 언팩킹"
   ]
  },
  {
   "cell_type": "markdown",
   "metadata": {},
   "source": [
    "###### 데이터프레임 원소에 함수 맵핑"
   ]
  },
  {
   "cell_type": "code",
   "execution_count": 29,
   "metadata": {},
   "outputs": [
    {
     "data": {
      "text/html": "<div>\n<style scoped>\n    .dataframe tbody tr th:only-of-type {\n        vertical-align: middle;\n    }\n\n    .dataframe tbody tr th {\n        vertical-align: top;\n    }\n\n    .dataframe thead th {\n        text-align: right;\n    }\n</style>\n<table border=\"1\" class=\"dataframe\">\n  <thead>\n    <tr style=\"text-align: right;\">\n      <th></th>\n      <th>age</th>\n      <th>fare</th>\n    </tr>\n  </thead>\n  <tbody>\n    <tr>\n      <th>0</th>\n      <td>22.0</td>\n      <td>7.2500</td>\n    </tr>\n    <tr>\n      <th>1</th>\n      <td>38.0</td>\n      <td>71.2833</td>\n    </tr>\n    <tr>\n      <th>2</th>\n      <td>26.0</td>\n      <td>7.9250</td>\n    </tr>\n    <tr>\n      <th>3</th>\n      <td>35.0</td>\n      <td>53.1000</td>\n    </tr>\n    <tr>\n      <th>4</th>\n      <td>35.0</td>\n      <td>8.0500</td>\n    </tr>\n  </tbody>\n</table>\n</div>",
      "text/plain": "    age     fare\n0  22.0   7.2500\n1  38.0  71.2833\n2  26.0   7.9250\n3  35.0  53.1000\n4  35.0   8.0500"
     },
     "execution_count": 29,
     "metadata": {},
     "output_type": "execute_result"
    }
   ],
   "source": [
    "import seaborn as sns\n",
    "\n",
    "titanic = sns.load_dataset('titanic')\n",
    "df = titanic.loc[:, ['age', 'fare']]\n",
    "\n",
    "\n",
    "def add_10(n):\n",
    "    return n+10\n",
    "df.head()"
   ]
  },
  {
   "cell_type": "code",
   "execution_count": 26,
   "metadata": {},
   "outputs": [
    {
     "data": {
      "text/html": "<div>\n<style scoped>\n    .dataframe tbody tr th:only-of-type {\n        vertical-align: middle;\n    }\n\n    .dataframe tbody tr th {\n        vertical-align: top;\n    }\n\n    .dataframe thead th {\n        text-align: right;\n    }\n</style>\n<table border=\"1\" class=\"dataframe\">\n  <thead>\n    <tr style=\"text-align: right;\">\n      <th></th>\n      <th>age</th>\n      <th>fare</th>\n    </tr>\n  </thead>\n  <tbody>\n    <tr>\n      <th>0</th>\n      <td>32.0</td>\n      <td>17.2500</td>\n    </tr>\n    <tr>\n      <th>1</th>\n      <td>48.0</td>\n      <td>81.2833</td>\n    </tr>\n    <tr>\n      <th>2</th>\n      <td>36.0</td>\n      <td>17.9250</td>\n    </tr>\n    <tr>\n      <th>3</th>\n      <td>45.0</td>\n      <td>63.1000</td>\n    </tr>\n    <tr>\n      <th>4</th>\n      <td>45.0</td>\n      <td>18.0500</td>\n    </tr>\n  </tbody>\n</table>\n</div>",
      "text/plain": "    age     fare\n0  32.0  17.2500\n1  48.0  81.2833\n2  36.0  17.9250\n3  45.0  63.1000\n4  45.0  18.0500"
     },
     "execution_count": 26,
     "metadata": {},
     "output_type": "execute_result"
    }
   ],
   "source": [
    "# 데이터프레임 전체 원소에 add_10 함수 맵핑\n",
    "df_map = df.applymap(add_10)\n",
    "df_map.head()"
   ]
  },
  {
   "cell_type": "markdown",
   "metadata": {},
   "source": [
    "### 1-2 시리즈 객체에 함수 맵핑"
   ]
  },
  {
   "cell_type": "markdown",
   "metadata": {},
   "source": [
    "###### 데이터프레임의 각 열에 함수 맵핑"
   ]
  },
  {
   "cell_type": "code",
   "execution_count": 31,
   "metadata": {},
   "outputs": [
    {
     "data": {
      "text/html": "<div>\n<style scoped>\n    .dataframe tbody tr th:only-of-type {\n        vertical-align: middle;\n    }\n\n    .dataframe tbody tr th {\n        vertical-align: top;\n    }\n\n    .dataframe thead th {\n        text-align: right;\n    }\n</style>\n<table border=\"1\" class=\"dataframe\">\n  <thead>\n    <tr style=\"text-align: right;\">\n      <th></th>\n      <th>age</th>\n      <th>fare</th>\n    </tr>\n  </thead>\n  <tbody>\n    <tr>\n      <th>0</th>\n      <td>22.0</td>\n      <td>7.2500</td>\n    </tr>\n    <tr>\n      <th>1</th>\n      <td>38.0</td>\n      <td>71.2833</td>\n    </tr>\n    <tr>\n      <th>2</th>\n      <td>26.0</td>\n      <td>7.9250</td>\n    </tr>\n    <tr>\n      <th>3</th>\n      <td>35.0</td>\n      <td>53.1000</td>\n    </tr>\n    <tr>\n      <th>4</th>\n      <td>35.0</td>\n      <td>8.0500</td>\n    </tr>\n  </tbody>\n</table>\n</div>",
      "text/plain": "    age     fare\n0  22.0   7.2500\n1  38.0  71.2833\n2  26.0   7.9250\n3  35.0  53.1000\n4  35.0   8.0500"
     },
     "execution_count": 31,
     "metadata": {},
     "output_type": "execute_result"
    }
   ],
   "source": [
    "import seaborn as sns\n",
    "\n",
    "titanic = sns.load_dataset('titanic')\n",
    "df = titanic.loc[:, ['age', 'fare']]\n",
    "df.head()"
   ]
  },
  {
   "cell_type": "code",
   "execution_count": 32,
   "metadata": {},
   "outputs": [],
   "source": [
    "def missing_value(series):\n",
    "    return series.isnull()"
   ]
  },
  {
   "cell_type": "code",
   "execution_count": 36,
   "metadata": {},
   "outputs": [
    {
     "data": {
      "text/html": "<div>\n<style scoped>\n    .dataframe tbody tr th:only-of-type {\n        vertical-align: middle;\n    }\n\n    .dataframe tbody tr th {\n        vertical-align: top;\n    }\n\n    .dataframe thead th {\n        text-align: right;\n    }\n</style>\n<table border=\"1\" class=\"dataframe\">\n  <thead>\n    <tr style=\"text-align: right;\">\n      <th></th>\n      <th>age</th>\n      <th>fare</th>\n    </tr>\n  </thead>\n  <tbody>\n    <tr>\n      <th>0</th>\n      <td>False</td>\n      <td>False</td>\n    </tr>\n    <tr>\n      <th>1</th>\n      <td>False</td>\n      <td>False</td>\n    </tr>\n    <tr>\n      <th>2</th>\n      <td>False</td>\n      <td>False</td>\n    </tr>\n    <tr>\n      <th>3</th>\n      <td>False</td>\n      <td>False</td>\n    </tr>\n    <tr>\n      <th>4</th>\n      <td>False</td>\n      <td>False</td>\n    </tr>\n  </tbody>\n</table>\n</div>",
      "text/plain": "     age   fare\n0  False  False\n1  False  False\n2  False  False\n3  False  False\n4  False  False"
     },
     "execution_count": 36,
     "metadata": {},
     "output_type": "execute_result"
    }
   ],
   "source": [
    "result = df.apply(missing_value, axis=0) # 0 열 단위 집계, 1 행 단위 집계\n",
    "result.head()"
   ]
  },
  {
   "cell_type": "markdown",
   "metadata": {},
   "source": [
    "이부분 중요하다.  \n",
    "정의한 missing_value 함수는 인자로 받은 시리즈 객체에 대해 null 인지를 검사한 진위값 시리즈 (크기 동일)를 리턴하게 된다.  \n",
    "따라서 df.apply() 메소드에 의해 반환된 각 열에 대해 해당 함수를 적용한 시리즈들이  \n",
    "다시 합쳐져 결과값 result 는 데이터프레임이 되는 것이다.  "
   ]
  },
  {
   "cell_type": "code",
   "execution_count": 37,
   "metadata": {},
   "outputs": [],
   "source": [
    "# apply(axis=0) 을 적용해 집계값 구하기\n",
    "def min_max(series):\n",
    "    return series.max() - series.min()"
   ]
  },
  {
   "cell_type": "code",
   "execution_count": 39,
   "metadata": {},
   "outputs": [
    {
     "name": "stdout",
     "output_type": "stream",
     "text": [
      "age      79.5800\n",
      "fare    512.3292\n",
      "dtype: float64\n",
      "\n",
      "\n",
      "<class 'pandas.core.series.Series'>\n"
     ]
    }
   ],
   "source": [
    "result = df.apply(min_max, axis=0)\n",
    "print(result.head())\n",
    "print('\\n')\n",
    "print(type(result))"
   ]
  },
  {
   "cell_type": "markdown",
   "metadata": {},
   "source": [
    "여기서는 정의한 함수의 리턴타입이 시리즈가 아닌 원소이기 때문에,  \n",
    "apply 메소드의 결과가 데이터프레임이 아닌 시리즈가 되었음을 알 수 있다.  \n",
    "즉, 이렇게 열/행 의 집계결과 등을 알 고자 할 때 유용하다.  "
   ]
  },
  {
   "cell_type": "markdown",
   "metadata": {},
   "source": [
    "###### 데이터프레임의 각 행에 함수 맵핑"
   ]
  },
  {
   "cell_type": "code",
   "execution_count": 41,
   "metadata": {},
   "outputs": [
    {
     "data": {
      "text/html": "<div>\n<style scoped>\n    .dataframe tbody tr th:only-of-type {\n        vertical-align: middle;\n    }\n\n    .dataframe tbody tr th {\n        vertical-align: top;\n    }\n\n    .dataframe thead th {\n        text-align: right;\n    }\n</style>\n<table border=\"1\" class=\"dataframe\">\n  <thead>\n    <tr style=\"text-align: right;\">\n      <th></th>\n      <th>age</th>\n      <th>fare</th>\n      <th>ten</th>\n    </tr>\n  </thead>\n  <tbody>\n    <tr>\n      <th>0</th>\n      <td>22.0</td>\n      <td>7.2500</td>\n      <td>10</td>\n    </tr>\n    <tr>\n      <th>1</th>\n      <td>38.0</td>\n      <td>71.2833</td>\n      <td>10</td>\n    </tr>\n    <tr>\n      <th>2</th>\n      <td>26.0</td>\n      <td>7.9250</td>\n      <td>10</td>\n    </tr>\n    <tr>\n      <th>3</th>\n      <td>35.0</td>\n      <td>53.1000</td>\n      <td>10</td>\n    </tr>\n    <tr>\n      <th>4</th>\n      <td>35.0</td>\n      <td>8.0500</td>\n      <td>10</td>\n    </tr>\n  </tbody>\n</table>\n</div>",
      "text/plain": "    age     fare  ten\n0  22.0   7.2500   10\n1  38.0  71.2833   10\n2  26.0   7.9250   10\n3  35.0  53.1000   10\n4  35.0   8.0500   10"
     },
     "execution_count": 41,
     "metadata": {},
     "output_type": "execute_result"
    }
   ],
   "source": [
    "import seaborn as sns\n",
    "\n",
    "titanic = sns.load_dataset('titanic')\n",
    "df = titanic.loc[:, ['age', 'fare']]\n",
    "df['ten'] = 10\n",
    "df.head()"
   ]
  },
  {
   "cell_type": "code",
   "execution_count": 43,
   "metadata": {},
   "outputs": [],
   "source": [
    "def add_two_obj(a, b):\n",
    "    return a+b"
   ]
  },
  {
   "cell_type": "code",
   "execution_count": 47,
   "metadata": {},
   "outputs": [
    {
     "data": {
      "text/html": "<div>\n<style scoped>\n    .dataframe tbody tr th:only-of-type {\n        vertical-align: middle;\n    }\n\n    .dataframe tbody tr th {\n        vertical-align: top;\n    }\n\n    .dataframe thead th {\n        text-align: right;\n    }\n</style>\n<table border=\"1\" class=\"dataframe\">\n  <thead>\n    <tr style=\"text-align: right;\">\n      <th></th>\n      <th>age</th>\n      <th>fare</th>\n      <th>ten</th>\n      <th>add</th>\n    </tr>\n  </thead>\n  <tbody>\n    <tr>\n      <th>0</th>\n      <td>22.0</td>\n      <td>7.2500</td>\n      <td>10</td>\n      <td>32.0</td>\n    </tr>\n    <tr>\n      <th>1</th>\n      <td>38.0</td>\n      <td>71.2833</td>\n      <td>10</td>\n      <td>48.0</td>\n    </tr>\n    <tr>\n      <th>2</th>\n      <td>26.0</td>\n      <td>7.9250</td>\n      <td>10</td>\n      <td>36.0</td>\n    </tr>\n    <tr>\n      <th>3</th>\n      <td>35.0</td>\n      <td>53.1000</td>\n      <td>10</td>\n      <td>45.0</td>\n    </tr>\n    <tr>\n      <th>4</th>\n      <td>35.0</td>\n      <td>8.0500</td>\n      <td>10</td>\n      <td>45.0</td>\n    </tr>\n  </tbody>\n</table>\n</div>",
      "text/plain": "    age     fare  ten   add\n0  22.0   7.2500   10  32.0\n1  38.0  71.2833   10  48.0\n2  26.0   7.9250   10  36.0\n3  35.0  53.1000   10  45.0\n4  35.0   8.0500   10  45.0"
     },
     "execution_count": 47,
     "metadata": {},
     "output_type": "execute_result"
    }
   ],
   "source": [
    "df['add'] = df.apply(lambda x: add_two_obj(x['age'], x['ten']), axis=1)\n",
    "df.head()"
   ]
  },
  {
   "cell_type": "markdown",
   "metadata": {},
   "source": [
    "결론적으로 그냥 기억하면 되는것은 , axis 에 따라 apply 메소드에 들어가는 인자가 달라진다.  \n",
    "한 행씩 들어갈지, 한 열씩 들어갈지를 정하게 되고,  \n",
    "그에 따라 apply 함수는 각 시리즈에 대해 동일하게 작동한다."
   ]
  },
  {
   "cell_type": "markdown",
   "metadata": {},
   "source": [
    "###### 데이터프레임 객체에 함수 맵핑"
   ]
  },
  {
   "cell_type": "code",
   "execution_count": 49,
   "metadata": {},
   "outputs": [
    {
     "data": {
      "text/html": "<div>\n<style scoped>\n    .dataframe tbody tr th:only-of-type {\n        vertical-align: middle;\n    }\n\n    .dataframe tbody tr th {\n        vertical-align: top;\n    }\n\n    .dataframe thead th {\n        text-align: right;\n    }\n</style>\n<table border=\"1\" class=\"dataframe\">\n  <thead>\n    <tr style=\"text-align: right;\">\n      <th></th>\n      <th>age</th>\n      <th>fare</th>\n    </tr>\n  </thead>\n  <tbody>\n    <tr>\n      <th>0</th>\n      <td>22.0</td>\n      <td>7.2500</td>\n    </tr>\n    <tr>\n      <th>1</th>\n      <td>38.0</td>\n      <td>71.2833</td>\n    </tr>\n    <tr>\n      <th>2</th>\n      <td>26.0</td>\n      <td>7.9250</td>\n    </tr>\n    <tr>\n      <th>3</th>\n      <td>35.0</td>\n      <td>53.1000</td>\n    </tr>\n    <tr>\n      <th>4</th>\n      <td>35.0</td>\n      <td>8.0500</td>\n    </tr>\n  </tbody>\n</table>\n</div>",
      "text/plain": "    age     fare\n0  22.0   7.2500\n1  38.0  71.2833\n2  26.0   7.9250\n3  35.0  53.1000\n4  35.0   8.0500"
     },
     "execution_count": 49,
     "metadata": {},
     "output_type": "execute_result"
    }
   ],
   "source": [
    "import seaborn as sns\n",
    "\n",
    "titanic = sns.load_dataset('titanic')\n",
    "df = titanic.loc[:, ['age', 'fare']]\n",
    "df.head()"
   ]
  },
  {
   "cell_type": "code",
   "execution_count": 58,
   "metadata": {},
   "outputs": [],
   "source": [
    "# df to df - 각 열의 NaN 진위값 데이터프레임 반환\n",
    "def missing_value(x):\n",
    "    return x.isnull()\n",
    "\n",
    "# df to series - 각 열의 NaN 개수 시리즈 반환\n",
    "def missing_count(x):\n",
    "    return missing_value(x).sum()\n",
    "\n",
    "# series to value - 데이터 프레임의 총 NaN 개수 값 반환\n",
    "def total_number_missing(x):\n",
    "    return missing_count(x).sum()"
   ]
  },
  {
   "cell_type": "code",
   "execution_count": 59,
   "metadata": {},
   "outputs": [
    {
     "name": "stdout",
     "output_type": "stream",
     "text": [
      "age   fare\n",
      "0  False  False\n",
      "1  False  False\n",
      "2  False  False\n",
      "3  False  False\n",
      "4  False  False\n",
      "<class 'pandas.core.frame.DataFrame'>\n"
     ]
    }
   ],
   "source": [
    "# pipe() 메소드 - 1\n",
    "result_df = df.pipe(missing_value)\n",
    "print(result_df.head())\n",
    "print(type(result_df.head()))"
   ]
  },
  {
   "cell_type": "code",
   "execution_count": 60,
   "metadata": {},
   "outputs": [
    {
     "name": "stdout",
     "output_type": "stream",
     "text": [
      "age     177\n",
      "fare      0\n",
      "dtype: int64\n",
      "<class 'pandas.core.series.Series'>\n"
     ]
    }
   ],
   "source": [
    "# pipe() 메소드 - 2\n",
    "result_series = df.pipe(missing_count)\n",
    "print(result_series.head())\n",
    "print(type(result_series.head()))"
   ]
  },
  {
   "cell_type": "code",
   "execution_count": 64,
   "metadata": {},
   "outputs": [
    {
     "name": "stdout",
     "output_type": "stream",
     "text": [
      "177\n",
      "<class 'numpy.int64'>\n"
     ]
    }
   ],
   "source": [
    "# pipe() 메소드 - 3\n",
    "result_value = df.pipe(total_number_missing)\n",
    "print(result_value)\n",
    "print(type(result_value))"
   ]
  },
  {
   "cell_type": "markdown",
   "metadata": {},
   "source": [
    "### 2-1 열 순서 변경"
   ]
  },
  {
   "cell_type": "code",
   "execution_count": 67,
   "metadata": {},
   "outputs": [
    {
     "data": {
      "text/html": "<div>\n<style scoped>\n    .dataframe tbody tr th:only-of-type {\n        vertical-align: middle;\n    }\n\n    .dataframe tbody tr th {\n        vertical-align: top;\n    }\n\n    .dataframe thead th {\n        text-align: right;\n    }\n</style>\n<table border=\"1\" class=\"dataframe\">\n  <thead>\n    <tr style=\"text-align: right;\">\n      <th></th>\n      <th>survived</th>\n      <th>pclass</th>\n      <th>sex</th>\n      <th>age</th>\n    </tr>\n  </thead>\n  <tbody>\n    <tr>\n      <th>0</th>\n      <td>0</td>\n      <td>3</td>\n      <td>male</td>\n      <td>22.0</td>\n    </tr>\n    <tr>\n      <th>1</th>\n      <td>1</td>\n      <td>1</td>\n      <td>female</td>\n      <td>38.0</td>\n    </tr>\n    <tr>\n      <th>2</th>\n      <td>1</td>\n      <td>3</td>\n      <td>female</td>\n      <td>26.0</td>\n    </tr>\n    <tr>\n      <th>3</th>\n      <td>1</td>\n      <td>1</td>\n      <td>female</td>\n      <td>35.0</td>\n    </tr>\n    <tr>\n      <th>4</th>\n      <td>0</td>\n      <td>3</td>\n      <td>male</td>\n      <td>35.0</td>\n    </tr>\n  </tbody>\n</table>\n</div>",
      "text/plain": "   survived  pclass     sex   age\n0         0       3    male  22.0\n1         1       1  female  38.0\n2         1       3  female  26.0\n3         1       1  female  35.0\n4         0       3    male  35.0"
     },
     "execution_count": 67,
     "metadata": {},
     "output_type": "execute_result"
    }
   ],
   "source": [
    "import seaborn as sns\n",
    "\n",
    "titanic = sns.load_dataset('titanic')\n",
    "df = titanic.loc[0:4, 'survived':'age']\n",
    "df.head()"
   ]
  },
  {
   "cell_type": "code",
   "execution_count": 73,
   "metadata": {},
   "outputs": [
    {
     "name": "stdout",
     "output_type": "stream",
     "text": [
      "['survived', 'pclass', 'sex', 'age']\n"
     ]
    }
   ],
   "source": [
    "# df.columns -> Index(array) , 여기서 values 로 값 추출\n",
    "columns = list(df.columns.values)\n",
    "print(columns)"
   ]
  },
  {
   "cell_type": "code",
   "execution_count": 75,
   "metadata": {},
   "outputs": [
    {
     "name": "stdout",
     "output_type": "stream",
     "text": [
      "['age', 'pclass', 'sex', 'survived']\n"
     ]
    }
   ],
   "source": [
    "# 열 이름 알파벳 순으로 정렬\n",
    "columns_sorted = sorted(columns)\n",
    "print(columns_sorted)"
   ]
  },
  {
   "cell_type": "code",
   "execution_count": 77,
   "metadata": {},
   "outputs": [
    {
     "data": {
      "text/html": "<div>\n<style scoped>\n    .dataframe tbody tr th:only-of-type {\n        vertical-align: middle;\n    }\n\n    .dataframe tbody tr th {\n        vertical-align: top;\n    }\n\n    .dataframe thead th {\n        text-align: right;\n    }\n</style>\n<table border=\"1\" class=\"dataframe\">\n  <thead>\n    <tr style=\"text-align: right;\">\n      <th></th>\n      <th>age</th>\n      <th>pclass</th>\n      <th>sex</th>\n      <th>survived</th>\n    </tr>\n  </thead>\n  <tbody>\n    <tr>\n      <th>0</th>\n      <td>22.0</td>\n      <td>3</td>\n      <td>male</td>\n      <td>0</td>\n    </tr>\n    <tr>\n      <th>1</th>\n      <td>38.0</td>\n      <td>1</td>\n      <td>female</td>\n      <td>1</td>\n    </tr>\n    <tr>\n      <th>2</th>\n      <td>26.0</td>\n      <td>3</td>\n      <td>female</td>\n      <td>1</td>\n    </tr>\n    <tr>\n      <th>3</th>\n      <td>35.0</td>\n      <td>1</td>\n      <td>female</td>\n      <td>1</td>\n    </tr>\n    <tr>\n      <th>4</th>\n      <td>35.0</td>\n      <td>3</td>\n      <td>male</td>\n      <td>0</td>\n    </tr>\n  </tbody>\n</table>\n</div>",
      "text/plain": "    age  pclass     sex  survived\n0  22.0       3    male         0\n1  38.0       1  female         1\n2  26.0       3  female         1\n3  35.0       1  female         1\n4  35.0       3    male         0"
     },
     "execution_count": 77,
     "metadata": {},
     "output_type": "execute_result"
    }
   ],
   "source": [
    "# 정렬된 열 이름 리스트를 통해 df 에서 해당 열 선택\n",
    "df_sorted = df[columns_sorted]\n",
    "df_sorted.head()"
   ]
  },
  {
   "cell_type": "code",
   "execution_count": 78,
   "metadata": {},
   "outputs": [
    {
     "data": {
      "text/html": "<div>\n<style scoped>\n    .dataframe tbody tr th:only-of-type {\n        vertical-align: middle;\n    }\n\n    .dataframe tbody tr th {\n        vertical-align: top;\n    }\n\n    .dataframe thead th {\n        text-align: right;\n    }\n</style>\n<table border=\"1\" class=\"dataframe\">\n  <thead>\n    <tr style=\"text-align: right;\">\n      <th></th>\n      <th>survived</th>\n      <th>sex</th>\n      <th>pclass</th>\n      <th>age</th>\n    </tr>\n  </thead>\n  <tbody>\n    <tr>\n      <th>0</th>\n      <td>0</td>\n      <td>male</td>\n      <td>3</td>\n      <td>22.0</td>\n    </tr>\n    <tr>\n      <th>1</th>\n      <td>1</td>\n      <td>female</td>\n      <td>1</td>\n      <td>38.0</td>\n    </tr>\n    <tr>\n      <th>2</th>\n      <td>1</td>\n      <td>female</td>\n      <td>3</td>\n      <td>26.0</td>\n    </tr>\n    <tr>\n      <th>3</th>\n      <td>1</td>\n      <td>female</td>\n      <td>1</td>\n      <td>35.0</td>\n    </tr>\n    <tr>\n      <th>4</th>\n      <td>0</td>\n      <td>male</td>\n      <td>3</td>\n      <td>35.0</td>\n    </tr>\n  </tbody>\n</table>\n</div>",
      "text/plain": "   survived     sex  pclass   age\n0         0    male       3  22.0\n1         1  female       1  38.0\n2         1  female       3  26.0\n3         1  female       1  35.0\n4         0    male       3  35.0"
     },
     "execution_count": 78,
     "metadata": {},
     "output_type": "execute_result"
    }
   ],
   "source": [
    "# 역순으로 정렬하기\n",
    "df_reversed = df[reversed(columns_sorted)]\n",
    "df_reversed.head()"
   ]
  },
  {
   "cell_type": "code",
   "execution_count": 82,
   "metadata": {},
   "outputs": [
    {
     "data": {
      "text/html": "<div>\n<style scoped>\n    .dataframe tbody tr th:only-of-type {\n        vertical-align: middle;\n    }\n\n    .dataframe tbody tr th {\n        vertical-align: top;\n    }\n\n    .dataframe thead th {\n        text-align: right;\n    }\n</style>\n<table border=\"1\" class=\"dataframe\">\n  <thead>\n    <tr style=\"text-align: right;\">\n      <th></th>\n      <th>sex</th>\n      <th>pclass</th>\n      <th>survived</th>\n      <th>age</th>\n    </tr>\n  </thead>\n  <tbody>\n    <tr>\n      <th>0</th>\n      <td>male</td>\n      <td>3</td>\n      <td>0</td>\n      <td>22.0</td>\n    </tr>\n    <tr>\n      <th>1</th>\n      <td>female</td>\n      <td>1</td>\n      <td>1</td>\n      <td>38.0</td>\n    </tr>\n    <tr>\n      <th>2</th>\n      <td>female</td>\n      <td>3</td>\n      <td>1</td>\n      <td>26.0</td>\n    </tr>\n    <tr>\n      <th>3</th>\n      <td>female</td>\n      <td>1</td>\n      <td>1</td>\n      <td>35.0</td>\n    </tr>\n    <tr>\n      <th>4</th>\n      <td>male</td>\n      <td>3</td>\n      <td>0</td>\n      <td>35.0</td>\n    </tr>\n  </tbody>\n</table>\n</div>",
      "text/plain": "      sex  pclass  survived   age\n0    male       3         0  22.0\n1  female       1         1  38.0\n2  female       3         1  26.0\n3  female       1         1  35.0\n4    male       3         0  35.0"
     },
     "execution_count": 82,
     "metadata": {},
     "output_type": "execute_result"
    }
   ],
   "source": [
    "# 임의의 순서로 정렬하기\n",
    "df_customed = df[['sex', 'pclass', 'survived', 'age']]\n",
    "df_customed.head()"
   ]
  },
  {
   "cell_type": "markdown",
   "metadata": {},
   "source": [
    "중요한것은 열 순서를 바꾸기 위해서는 당연한 말이지만 해당 인덱스가 존재 해야 한다는 점."
   ]
  },
  {
   "cell_type": "markdown",
   "metadata": {},
   "source": [
    "### 2-2 열 분리"
   ]
  },
  {
   "cell_type": "code",
   "execution_count": 83,
   "metadata": {},
   "outputs": [
    {
     "data": {
      "text/html": "<div>\n<style scoped>\n    .dataframe tbody tr th:only-of-type {\n        vertical-align: middle;\n    }\n\n    .dataframe tbody tr th {\n        vertical-align: top;\n    }\n\n    .dataframe thead th {\n        text-align: right;\n    }\n</style>\n<table border=\"1\" class=\"dataframe\">\n  <thead>\n    <tr style=\"text-align: right;\">\n      <th></th>\n      <th>연월일</th>\n      <th>당일종가</th>\n      <th>전일종가</th>\n      <th>시가</th>\n      <th>고가</th>\n      <th>저가</th>\n      <th>거래량</th>\n    </tr>\n  </thead>\n  <tbody>\n    <tr>\n      <th>0</th>\n      <td>2018-07-02</td>\n      <td>10100</td>\n      <td>600</td>\n      <td>10850</td>\n      <td>10900</td>\n      <td>10000</td>\n      <td>137977</td>\n    </tr>\n    <tr>\n      <th>1</th>\n      <td>2018-06-29</td>\n      <td>10700</td>\n      <td>300</td>\n      <td>10550</td>\n      <td>10900</td>\n      <td>9990</td>\n      <td>170253</td>\n    </tr>\n    <tr>\n      <th>2</th>\n      <td>2018-06-28</td>\n      <td>10400</td>\n      <td>500</td>\n      <td>10900</td>\n      <td>10950</td>\n      <td>10150</td>\n      <td>155769</td>\n    </tr>\n    <tr>\n      <th>3</th>\n      <td>2018-06-27</td>\n      <td>10900</td>\n      <td>100</td>\n      <td>10800</td>\n      <td>11050</td>\n      <td>10500</td>\n      <td>133548</td>\n    </tr>\n    <tr>\n      <th>4</th>\n      <td>2018-06-26</td>\n      <td>10800</td>\n      <td>350</td>\n      <td>10900</td>\n      <td>11000</td>\n      <td>10700</td>\n      <td>63039</td>\n    </tr>\n  </tbody>\n</table>\n</div>",
      "text/plain": "         연월일   당일종가  전일종가     시가     고가     저가     거래량\n0 2018-07-02  10100   600  10850  10900  10000  137977\n1 2018-06-29  10700   300  10550  10900   9990  170253\n2 2018-06-28  10400   500  10900  10950  10150  155769\n3 2018-06-27  10900   100  10800  11050  10500  133548\n4 2018-06-26  10800   350  10900  11000  10700   63039"
     },
     "execution_count": 83,
     "metadata": {},
     "output_type": "execute_result"
    }
   ],
   "source": [
    "import pandas as pd\n",
    "\n",
    "df = pd.read_excel('../../data/part6/주가데이터.xlsx')\n",
    "df.head()"
   ]
  },
  {
   "cell_type": "code",
   "execution_count": 84,
   "metadata": {},
   "outputs": [
    {
     "name": "stdout",
     "output_type": "stream",
     "text": [
      "<class 'pandas.core.frame.DataFrame'>\n",
      "RangeIndex: 20 entries, 0 to 19\n",
      "Data columns (total 7 columns):\n",
      " #   Column  Non-Null Count  Dtype         \n",
      "---  ------  --------------  -----         \n",
      " 0   연월일     20 non-null     datetime64[ns]\n",
      " 1   당일종가    20 non-null     int64         \n",
      " 2   전일종가    20 non-null     int64         \n",
      " 3   시가      20 non-null     int64         \n",
      " 4   고가      20 non-null     int64         \n",
      " 5   저가      20 non-null     int64         \n",
      " 6   거래량     20 non-null     int64         \n",
      "dtypes: datetime64[ns](1), int64(6)\n",
      "memory usage: 1.2 KB\n"
     ]
    }
   ],
   "source": [
    "df.info()"
   ]
  },
  {
   "cell_type": "code",
   "execution_count": 89,
   "metadata": {},
   "outputs": [
    {
     "name": "stdout",
     "output_type": "stream",
     "text": [
      "0    [2018, 07, 02]\n",
      "1    [2018, 06, 29]\n",
      "2    [2018, 06, 28]\n",
      "3    [2018, 06, 27]\n",
      "4    [2018, 06, 26]\n",
      "Name: 연월일, dtype: object \n",
      " <class 'pandas.core.series.Series'>\n"
     ]
    }
   ],
   "source": [
    "# 연-월-일 을 연, 월 , 일로 쪼개기\n",
    "df['연월일'] = df['연월일'].astype(str)\n",
    "dates = df['연월일'].apply(lambda x: x.split('-'))\n",
    "# dates = df['연월일'].str.split('-')\n",
    "print(dates.head(), '\\n', type(dates))"
   ]
  },
  {
   "cell_type": "code",
   "execution_count": 90,
   "metadata": {},
   "outputs": [
    {
     "data": {
      "text/html": "<div>\n<style scoped>\n    .dataframe tbody tr th:only-of-type {\n        vertical-align: middle;\n    }\n\n    .dataframe tbody tr th {\n        vertical-align: top;\n    }\n\n    .dataframe thead th {\n        text-align: right;\n    }\n</style>\n<table border=\"1\" class=\"dataframe\">\n  <thead>\n    <tr style=\"text-align: right;\">\n      <th></th>\n      <th>연월일</th>\n      <th>당일종가</th>\n      <th>전일종가</th>\n      <th>시가</th>\n      <th>고가</th>\n      <th>저가</th>\n      <th>거래량</th>\n      <th>연</th>\n      <th>월</th>\n      <th>일</th>\n    </tr>\n  </thead>\n  <tbody>\n    <tr>\n      <th>0</th>\n      <td>2018-07-02</td>\n      <td>10100</td>\n      <td>600</td>\n      <td>10850</td>\n      <td>10900</td>\n      <td>10000</td>\n      <td>137977</td>\n      <td>2018</td>\n      <td>07</td>\n      <td>02</td>\n    </tr>\n    <tr>\n      <th>1</th>\n      <td>2018-06-29</td>\n      <td>10700</td>\n      <td>300</td>\n      <td>10550</td>\n      <td>10900</td>\n      <td>9990</td>\n      <td>170253</td>\n      <td>2018</td>\n      <td>06</td>\n      <td>29</td>\n    </tr>\n    <tr>\n      <th>2</th>\n      <td>2018-06-28</td>\n      <td>10400</td>\n      <td>500</td>\n      <td>10900</td>\n      <td>10950</td>\n      <td>10150</td>\n      <td>155769</td>\n      <td>2018</td>\n      <td>06</td>\n      <td>28</td>\n    </tr>\n    <tr>\n      <th>3</th>\n      <td>2018-06-27</td>\n      <td>10900</td>\n      <td>100</td>\n      <td>10800</td>\n      <td>11050</td>\n      <td>10500</td>\n      <td>133548</td>\n      <td>2018</td>\n      <td>06</td>\n      <td>27</td>\n    </tr>\n    <tr>\n      <th>4</th>\n      <td>2018-06-26</td>\n      <td>10800</td>\n      <td>350</td>\n      <td>10900</td>\n      <td>11000</td>\n      <td>10700</td>\n      <td>63039</td>\n      <td>2018</td>\n      <td>06</td>\n      <td>26</td>\n    </tr>\n  </tbody>\n</table>\n</div>",
      "text/plain": "          연월일   당일종가  전일종가     시가     고가     저가     거래량     연   월   일\n0  2018-07-02  10100   600  10850  10900  10000  137977  2018  07  02\n1  2018-06-29  10700   300  10550  10900   9990  170253  2018  06  29\n2  2018-06-28  10400   500  10900  10950  10150  155769  2018  06  28\n3  2018-06-27  10900   100  10800  11050  10500  133548  2018  06  27\n4  2018-06-26  10800   350  10900  11000  10700   63039  2018  06  26"
     },
     "execution_count": 90,
     "metadata": {},
     "output_type": "execute_result"
    }
   ],
   "source": [
    "# [연,월,일] 시리즈 객체에서 각 원소 별로 추출하기\n",
    "df['연'] = dates.str.get(0)\n",
    "df['월'] = dates.str.get(1)\n",
    "df['일'] = dates.str.get(2)\n",
    "\n",
    "df.head()"
   ]
  },
  {
   "cell_type": "markdown",
   "metadata": {},
   "source": [
    "여기서 df.str , series.str 이런게 나오는데  \n",
    "Python Pandas ```String Accessor``` 라고 한다.  \n",
    "dtype 이 string 인 시리즈에 대해 수행 하는 문자열 메소드들의 사용이 가능하다.   \n",
    "https://pandas.pydata.org/pandas-docs/stable/reference/series.html#api-series-str"
   ]
  },
  {
   "cell_type": "markdown",
   "metadata": {},
   "source": [
    "### 3-1 Bool 인덱싱"
   ]
  },
  {
   "cell_type": "code",
   "execution_count": 95,
   "metadata": {},
   "outputs": [
    {
     "data": {
      "text/html": "<div>\n<style scoped>\n    .dataframe tbody tr th:only-of-type {\n        vertical-align: middle;\n    }\n\n    .dataframe tbody tr th {\n        vertical-align: top;\n    }\n\n    .dataframe thead th {\n        text-align: right;\n    }\n</style>\n<table border=\"1\" class=\"dataframe\">\n  <thead>\n    <tr style=\"text-align: right;\">\n      <th></th>\n      <th>survived</th>\n      <th>pclass</th>\n      <th>sex</th>\n      <th>age</th>\n      <th>sibsp</th>\n      <th>parch</th>\n      <th>fare</th>\n      <th>embarked</th>\n      <th>class</th>\n      <th>who</th>\n      <th>adult_male</th>\n      <th>deck</th>\n      <th>embark_town</th>\n      <th>alive</th>\n      <th>alone</th>\n    </tr>\n  </thead>\n  <tbody>\n    <tr>\n      <th>9</th>\n      <td>1</td>\n      <td>2</td>\n      <td>female</td>\n      <td>14.0</td>\n      <td>1</td>\n      <td>0</td>\n      <td>30.0708</td>\n      <td>C</td>\n      <td>Second</td>\n      <td>child</td>\n      <td>False</td>\n      <td>NaN</td>\n      <td>Cherbourg</td>\n      <td>yes</td>\n      <td>False</td>\n    </tr>\n    <tr>\n      <th>14</th>\n      <td>0</td>\n      <td>3</td>\n      <td>female</td>\n      <td>14.0</td>\n      <td>0</td>\n      <td>0</td>\n      <td>7.8542</td>\n      <td>S</td>\n      <td>Third</td>\n      <td>child</td>\n      <td>False</td>\n      <td>NaN</td>\n      <td>Southampton</td>\n      <td>no</td>\n      <td>True</td>\n    </tr>\n    <tr>\n      <th>22</th>\n      <td>1</td>\n      <td>3</td>\n      <td>female</td>\n      <td>15.0</td>\n      <td>0</td>\n      <td>0</td>\n      <td>8.0292</td>\n      <td>Q</td>\n      <td>Third</td>\n      <td>child</td>\n      <td>False</td>\n      <td>NaN</td>\n      <td>Queenstown</td>\n      <td>yes</td>\n      <td>True</td>\n    </tr>\n    <tr>\n      <th>27</th>\n      <td>0</td>\n      <td>1</td>\n      <td>male</td>\n      <td>19.0</td>\n      <td>3</td>\n      <td>2</td>\n      <td>263.0000</td>\n      <td>S</td>\n      <td>First</td>\n      <td>man</td>\n      <td>True</td>\n      <td>C</td>\n      <td>Southampton</td>\n      <td>no</td>\n      <td>False</td>\n    </tr>\n    <tr>\n      <th>38</th>\n      <td>0</td>\n      <td>3</td>\n      <td>female</td>\n      <td>18.0</td>\n      <td>2</td>\n      <td>0</td>\n      <td>18.0000</td>\n      <td>S</td>\n      <td>Third</td>\n      <td>woman</td>\n      <td>False</td>\n      <td>NaN</td>\n      <td>Southampton</td>\n      <td>no</td>\n      <td>False</td>\n    </tr>\n  </tbody>\n</table>\n</div>",
      "text/plain": "    survived  pclass     sex   age  sibsp  parch      fare embarked   class  \\\n9          1       2  female  14.0      1      0   30.0708        C  Second   \n14         0       3  female  14.0      0      0    7.8542        S   Third   \n22         1       3  female  15.0      0      0    8.0292        Q   Third   \n27         0       1    male  19.0      3      2  263.0000        S   First   \n38         0       3  female  18.0      2      0   18.0000        S   Third   \n\n      who  adult_male deck  embark_town alive  alone  \n9   child       False  NaN    Cherbourg   yes  False  \n14  child       False  NaN  Southampton    no   True  \n22  child       False  NaN   Queenstown   yes   True  \n27    man        True    C  Southampton    no  False  \n38  woman       False  NaN  Southampton    no  False  "
     },
     "execution_count": 95,
     "metadata": {},
     "output_type": "execute_result"
    }
   ],
   "source": [
    "import seaborn as sns\n",
    "\n",
    "titanic = sns.load_dataset('titanic')\n",
    "\n",
    "mask1 = (titanic.age >= 10) & (titanic.age < 20)\n",
    "df_teenage = titanic.loc[mask1, :]\n",
    "df_teenage.head()"
   ]
  },
  {
   "cell_type": "markdown",
   "metadata": {},
   "source": [
    "이게 왜 **불린 인덱싱**인가?  \n",
    "mask1 을 보면, titanic 데이터프레임의 age 열 (시리즈) 를 선택하여 조건문을 걺으로써  \n",
    "mask1 에는 해당 조건을 만족하는 행 만 남게된다.(시리즈)  \n",
    "따라서 dataframe[**불린 시리즈**] 를 통해 해당 조건을 만족하는(mask1 의 조건) 행들을 선택 할 수 있다.  "
   ]
  },
  {
   "cell_type": "code",
   "execution_count": null,
   "metadata": {},
   "outputs": [],
   "source": [
    "print(mask1)\n",
    "print(type(mask1))"
   ]
  },
  {
   "cell_type": "code",
   "execution_count": 96,
   "metadata": {},
   "outputs": [
    {
     "data": {
      "text/html": "<div>\n<style scoped>\n    .dataframe tbody tr th:only-of-type {\n        vertical-align: middle;\n    }\n\n    .dataframe tbody tr th {\n        vertical-align: top;\n    }\n\n    .dataframe thead th {\n        text-align: right;\n    }\n</style>\n<table border=\"1\" class=\"dataframe\">\n  <thead>\n    <tr style=\"text-align: right;\">\n      <th></th>\n      <th>survived</th>\n      <th>pclass</th>\n      <th>sex</th>\n      <th>age</th>\n      <th>sibsp</th>\n      <th>parch</th>\n      <th>fare</th>\n      <th>embarked</th>\n      <th>class</th>\n      <th>who</th>\n      <th>adult_male</th>\n      <th>deck</th>\n      <th>embark_town</th>\n      <th>alive</th>\n      <th>alone</th>\n    </tr>\n  </thead>\n  <tbody>\n    <tr>\n      <th>10</th>\n      <td>1</td>\n      <td>3</td>\n      <td>female</td>\n      <td>4.0</td>\n      <td>1</td>\n      <td>1</td>\n      <td>16.7000</td>\n      <td>S</td>\n      <td>Third</td>\n      <td>child</td>\n      <td>False</td>\n      <td>G</td>\n      <td>Southampton</td>\n      <td>yes</td>\n      <td>False</td>\n    </tr>\n    <tr>\n      <th>24</th>\n      <td>0</td>\n      <td>3</td>\n      <td>female</td>\n      <td>8.0</td>\n      <td>3</td>\n      <td>1</td>\n      <td>21.0750</td>\n      <td>S</td>\n      <td>Third</td>\n      <td>child</td>\n      <td>False</td>\n      <td>NaN</td>\n      <td>Southampton</td>\n      <td>no</td>\n      <td>False</td>\n    </tr>\n    <tr>\n      <th>43</th>\n      <td>1</td>\n      <td>2</td>\n      <td>female</td>\n      <td>3.0</td>\n      <td>1</td>\n      <td>2</td>\n      <td>41.5792</td>\n      <td>C</td>\n      <td>Second</td>\n      <td>child</td>\n      <td>False</td>\n      <td>NaN</td>\n      <td>Cherbourg</td>\n      <td>yes</td>\n      <td>False</td>\n    </tr>\n    <tr>\n      <th>58</th>\n      <td>1</td>\n      <td>2</td>\n      <td>female</td>\n      <td>5.0</td>\n      <td>1</td>\n      <td>2</td>\n      <td>27.7500</td>\n      <td>S</td>\n      <td>Second</td>\n      <td>child</td>\n      <td>False</td>\n      <td>NaN</td>\n      <td>Southampton</td>\n      <td>yes</td>\n      <td>False</td>\n    </tr>\n    <tr>\n      <th>119</th>\n      <td>0</td>\n      <td>3</td>\n      <td>female</td>\n      <td>2.0</td>\n      <td>4</td>\n      <td>2</td>\n      <td>31.2750</td>\n      <td>S</td>\n      <td>Third</td>\n      <td>child</td>\n      <td>False</td>\n      <td>NaN</td>\n      <td>Southampton</td>\n      <td>no</td>\n      <td>False</td>\n    </tr>\n  </tbody>\n</table>\n</div>",
      "text/plain": "     survived  pclass     sex  age  sibsp  parch     fare embarked   class  \\\n10          1       3  female  4.0      1      1  16.7000        S   Third   \n24          0       3  female  8.0      3      1  21.0750        S   Third   \n43          1       2  female  3.0      1      2  41.5792        C  Second   \n58          1       2  female  5.0      1      2  27.7500        S  Second   \n119         0       3  female  2.0      4      2  31.2750        S   Third   \n\n       who  adult_male deck  embark_town alive  alone  \n10   child       False    G  Southampton   yes  False  \n24   child       False  NaN  Southampton    no  False  \n43   child       False  NaN    Cherbourg   yes  False  \n58   child       False  NaN  Southampton   yes  False  \n119  child       False  NaN  Southampton    no  False  "
     },
     "execution_count": 96,
     "metadata": {},
     "output_type": "execute_result"
    }
   ],
   "source": [
    "# 나이가 10세 미만이고 여성인 승객만 포함\n",
    "mask2 = (titanic.age < 10) & (titanic.sex == 'female')\n",
    "df_female_under10 = titanic[mask2]\n",
    "df_female_under10.head()"
   ]
  },
  {
   "cell_type": "code",
   "execution_count": 97,
   "metadata": {},
   "outputs": [
    {
     "name": "stdout",
     "output_type": "stream",
     "text": [
      "0      False\n",
      "1      False\n",
      "2      False\n",
      "3      False\n",
      "4      False\n",
      "       ...  \n",
      "886    False\n",
      "887    False\n",
      "888    False\n",
      "889    False\n",
      "890    False\n",
      "Length: 891, dtype: bool\n",
      "<class 'pandas.core.series.Series'>\n"
     ]
    }
   ],
   "source": [
    "print(mask2)\n",
    "print(type(mask2))"
   ]
  },
  {
   "cell_type": "markdown",
   "metadata": {},
   "source": [
    "### 3-2 isin() 메소드의 활용"
   ]
  },
  {
   "cell_type": "code",
   "execution_count": 98,
   "metadata": {},
   "outputs": [],
   "source": [
    "import seaborn as sns\n",
    "\n",
    "titanic = sns.load_dataset('titanic')\n",
    "pd.set_option('display.max_columns', 10)"
   ]
  },
  {
   "cell_type": "code",
   "execution_count": 99,
   "metadata": {},
   "outputs": [
    {
     "data": {
      "text/html": "<div>\n<style scoped>\n    .dataframe tbody tr th:only-of-type {\n        vertical-align: middle;\n    }\n\n    .dataframe tbody tr th {\n        vertical-align: top;\n    }\n\n    .dataframe thead th {\n        text-align: right;\n    }\n</style>\n<table border=\"1\" class=\"dataframe\">\n  <thead>\n    <tr style=\"text-align: right;\">\n      <th></th>\n      <th>survived</th>\n      <th>pclass</th>\n      <th>sex</th>\n      <th>age</th>\n      <th>sibsp</th>\n      <th>...</th>\n      <th>adult_male</th>\n      <th>deck</th>\n      <th>embark_town</th>\n      <th>alive</th>\n      <th>alone</th>\n    </tr>\n  </thead>\n  <tbody>\n    <tr>\n      <th>7</th>\n      <td>0</td>\n      <td>3</td>\n      <td>male</td>\n      <td>2.0</td>\n      <td>3</td>\n      <td>...</td>\n      <td>False</td>\n      <td>NaN</td>\n      <td>Southampton</td>\n      <td>no</td>\n      <td>False</td>\n    </tr>\n    <tr>\n      <th>16</th>\n      <td>0</td>\n      <td>3</td>\n      <td>male</td>\n      <td>2.0</td>\n      <td>4</td>\n      <td>...</td>\n      <td>False</td>\n      <td>NaN</td>\n      <td>Queenstown</td>\n      <td>no</td>\n      <td>False</td>\n    </tr>\n    <tr>\n      <th>24</th>\n      <td>0</td>\n      <td>3</td>\n      <td>female</td>\n      <td>8.0</td>\n      <td>3</td>\n      <td>...</td>\n      <td>False</td>\n      <td>NaN</td>\n      <td>Southampton</td>\n      <td>no</td>\n      <td>False</td>\n    </tr>\n    <tr>\n      <th>27</th>\n      <td>0</td>\n      <td>1</td>\n      <td>male</td>\n      <td>19.0</td>\n      <td>3</td>\n      <td>...</td>\n      <td>True</td>\n      <td>C</td>\n      <td>Southampton</td>\n      <td>no</td>\n      <td>False</td>\n    </tr>\n    <tr>\n      <th>50</th>\n      <td>0</td>\n      <td>3</td>\n      <td>male</td>\n      <td>7.0</td>\n      <td>4</td>\n      <td>...</td>\n      <td>False</td>\n      <td>NaN</td>\n      <td>Southampton</td>\n      <td>no</td>\n      <td>False</td>\n    </tr>\n  </tbody>\n</table>\n<p>5 rows × 15 columns</p>\n</div>",
      "text/plain": "    survived  pclass     sex   age  sibsp  ...  adult_male  deck  embark_town  \\\n7          0       3    male   2.0      3  ...       False   NaN  Southampton   \n16         0       3    male   2.0      4  ...       False   NaN   Queenstown   \n24         0       3  female   8.0      3  ...       False   NaN  Southampton   \n27         0       1    male  19.0      3  ...        True     C  Southampton   \n50         0       3    male   7.0      4  ...       False   NaN  Southampton   \n\n   alive  alone  \n7     no  False  \n16    no  False  \n24    no  False  \n27    no  False  \n50    no  False  \n\n[5 rows x 15 columns]"
     },
     "execution_count": 99,
     "metadata": {},
     "output_type": "execute_result"
    }
   ],
   "source": [
    "# 불린 인덱싱을 통해 특정 값을 만족하는 행만 추출하기\n",
    "mask3 = titanic['sibsp'] == 3\n",
    "mask4 = titanic['sibsp'] == 4\n",
    "mask5 = titanic['sibsp'] == 5\n",
    "\n",
    "df_boolean = titanic[mask3 | mask4 | mask5]\n",
    "df_boolean.head()"
   ]
  },
  {
   "cell_type": "code",
   "execution_count": 101,
   "metadata": {},
   "outputs": [
    {
     "data": {
      "text/html": "<div>\n<style scoped>\n    .dataframe tbody tr th:only-of-type {\n        vertical-align: middle;\n    }\n\n    .dataframe tbody tr th {\n        vertical-align: top;\n    }\n\n    .dataframe thead th {\n        text-align: right;\n    }\n</style>\n<table border=\"1\" class=\"dataframe\">\n  <thead>\n    <tr style=\"text-align: right;\">\n      <th></th>\n      <th>survived</th>\n      <th>pclass</th>\n      <th>sex</th>\n      <th>age</th>\n      <th>sibsp</th>\n      <th>...</th>\n      <th>adult_male</th>\n      <th>deck</th>\n      <th>embark_town</th>\n      <th>alive</th>\n      <th>alone</th>\n    </tr>\n  </thead>\n  <tbody>\n    <tr>\n      <th>7</th>\n      <td>0</td>\n      <td>3</td>\n      <td>male</td>\n      <td>2.0</td>\n      <td>3</td>\n      <td>...</td>\n      <td>False</td>\n      <td>NaN</td>\n      <td>Southampton</td>\n      <td>no</td>\n      <td>False</td>\n    </tr>\n    <tr>\n      <th>16</th>\n      <td>0</td>\n      <td>3</td>\n      <td>male</td>\n      <td>2.0</td>\n      <td>4</td>\n      <td>...</td>\n      <td>False</td>\n      <td>NaN</td>\n      <td>Queenstown</td>\n      <td>no</td>\n      <td>False</td>\n    </tr>\n    <tr>\n      <th>24</th>\n      <td>0</td>\n      <td>3</td>\n      <td>female</td>\n      <td>8.0</td>\n      <td>3</td>\n      <td>...</td>\n      <td>False</td>\n      <td>NaN</td>\n      <td>Southampton</td>\n      <td>no</td>\n      <td>False</td>\n    </tr>\n    <tr>\n      <th>27</th>\n      <td>0</td>\n      <td>1</td>\n      <td>male</td>\n      <td>19.0</td>\n      <td>3</td>\n      <td>...</td>\n      <td>True</td>\n      <td>C</td>\n      <td>Southampton</td>\n      <td>no</td>\n      <td>False</td>\n    </tr>\n    <tr>\n      <th>50</th>\n      <td>0</td>\n      <td>3</td>\n      <td>male</td>\n      <td>7.0</td>\n      <td>4</td>\n      <td>...</td>\n      <td>False</td>\n      <td>NaN</td>\n      <td>Southampton</td>\n      <td>no</td>\n      <td>False</td>\n    </tr>\n  </tbody>\n</table>\n<p>5 rows × 15 columns</p>\n</div>",
      "text/plain": "    survived  pclass     sex   age  sibsp  ...  adult_male  deck  embark_town  \\\n7          0       3    male   2.0      3  ...       False   NaN  Southampton   \n16         0       3    male   2.0      4  ...       False   NaN   Queenstown   \n24         0       3  female   8.0      3  ...       False   NaN  Southampton   \n27         0       1    male  19.0      3  ...        True     C  Southampton   \n50         0       3    male   7.0      4  ...       False   NaN  Southampton   \n\n   alive  alone  \n7     no  False  \n16    no  False  \n24    no  False  \n27    no  False  \n50    no  False  \n\n[5 rows x 15 columns]"
     },
     "execution_count": 101,
     "metadata": {},
     "output_type": "execute_result"
    }
   ],
   "source": [
    "# isin 메소드를 통해 위의 작업 동일하게 수행하기\n",
    "isin_filter = titanic['sibsp'].isin([3, 4, 5])\n",
    "df_isin = titanic[isin_filter]\n",
    "df_isin.head()"
   ]
  },
  {
   "cell_type": "code",
   "execution_count": 103,
   "metadata": {},
   "outputs": [
    {
     "name": "stdout",
     "output_type": "stream",
     "text": [
      "0      False\n",
      "1      False\n",
      "2      False\n",
      "3      False\n",
      "4      False\n",
      "       ...  \n",
      "886    False\n",
      "887    False\n",
      "888    False\n",
      "889    False\n",
      "890    False\n",
      "Name: sibsp, Length: 891, dtype: bool\n",
      "<class 'pandas.core.series.Series'>\n"
     ]
    }
   ],
   "source": [
    "print(isin_filter)\n",
    "print(type(isin_filter))"
   ]
  },
  {
   "cell_type": "markdown",
   "metadata": {},
   "source": [
    "### 4-1 데이터프레임 연결"
   ]
  },
  {
   "cell_type": "code",
   "execution_count": 128,
   "metadata": {},
   "outputs": [
    {
     "name": "stdout",
     "output_type": "stream",
     "text": [
      "a   b   c   d\n",
      "1  a1  b1  c1  d1\n",
      "2  a2  b2  c2  d2\n",
      "3  a3  b3  c3  d3\n",
      "4  a4  b4  c4  d4 \n",
      "      a    b\n",
      "3  aa1  bb1\n",
      "4  aa2  bb2\n",
      "5  aa3  bb3\n",
      "6  aa4  bb4\n"
     ]
    }
   ],
   "source": [
    "import pandas as pd\n",
    "\n",
    "df1 = pd.DataFrame({\n",
    "    'a': ['a1', 'a2', 'a3', 'a4'],\n",
    "    'b': ['b1', 'b2', 'b3', 'b4'],\n",
    "    'c': ['c1', 'c2', 'c3', 'c4'],\n",
    "    'd': ['d1', 'd2', 'd3', 'd4'],\n",
    "}, index=[1,2,3,4])\n",
    "\n",
    "df2 = pd.DataFrame({\n",
    "    'a': ['aa1', 'aa2', 'aa3', 'aa4'],\n",
    "    'b': ['bb1', 'bb2', 'bb3', 'bb4'],\n",
    "}, index=[3,4,5,6])\n",
    "\n",
    "print(df1.head(), '\\n', df2.head())"
   ]
  },
  {
   "cell_type": "code",
   "execution_count": 126,
   "metadata": {},
   "outputs": [
    {
     "data": {
      "text/html": "<div>\n<style scoped>\n    .dataframe tbody tr th:only-of-type {\n        vertical-align: middle;\n    }\n\n    .dataframe tbody tr th {\n        vertical-align: top;\n    }\n\n    .dataframe thead th {\n        text-align: right;\n    }\n</style>\n<table border=\"1\" class=\"dataframe\">\n  <thead>\n    <tr style=\"text-align: right;\">\n      <th></th>\n      <th>a</th>\n      <th>b</th>\n      <th>c</th>\n      <th>d</th>\n    </tr>\n  </thead>\n  <tbody>\n    <tr>\n      <th>0</th>\n      <td>a1</td>\n      <td>b1</td>\n      <td>c1</td>\n      <td>d1</td>\n    </tr>\n    <tr>\n      <th>1</th>\n      <td>a2</td>\n      <td>b2</td>\n      <td>c2</td>\n      <td>d2</td>\n    </tr>\n    <tr>\n      <th>2</th>\n      <td>a3</td>\n      <td>b3</td>\n      <td>c3</td>\n      <td>d3</td>\n    </tr>\n    <tr>\n      <th>3</th>\n      <td>a4</td>\n      <td>b4</td>\n      <td>c4</td>\n      <td>d4</td>\n    </tr>\n    <tr>\n      <th>4</th>\n      <td>aa1</td>\n      <td>bb1</td>\n      <td>NaN</td>\n      <td>NaN</td>\n    </tr>\n    <tr>\n      <th>5</th>\n      <td>aa2</td>\n      <td>bb2</td>\n      <td>NaN</td>\n      <td>NaN</td>\n    </tr>\n    <tr>\n      <th>6</th>\n      <td>aa3</td>\n      <td>bb3</td>\n      <td>NaN</td>\n      <td>NaN</td>\n    </tr>\n    <tr>\n      <th>7</th>\n      <td>aa4</td>\n      <td>bb4</td>\n      <td>NaN</td>\n      <td>NaN</td>\n    </tr>\n  </tbody>\n</table>\n</div>",
      "text/plain": "     a    b    c    d\n0   a1   b1   c1   d1\n1   a2   b2   c2   d2\n2   a3   b3   c3   d3\n3   a4   b4   c4   d4\n4  aa1  bb1  NaN  NaN\n5  aa2  bb2  NaN  NaN\n6  aa3  bb3  NaN  NaN\n7  aa4  bb4  NaN  NaN"
     },
     "execution_count": 126,
     "metadata": {},
     "output_type": "execute_result"
    }
   ],
   "source": [
    "result1 = pd.concat([df1, df2], axis=0, join='outer', ignore_index=True)\n",
    "result1.head(10)"
   ]
  },
  {
   "cell_type": "markdown",
   "metadata": {},
   "source": [
    "1. axis = 0 (default) : 열 방향 (아래위)로 합친다.\n",
    "2. join = 'outer' : 합칠 행/열 인덱스에 대해 합집합을 수행한다.\n",
    "3. ignore_index = False (default) : 기존 행 인덱스에 대한 무시 여부 (무시 할 경우 새로 정수형 생성) "
   ]
  },
  {
   "cell_type": "code",
   "execution_count": null,
   "metadata": {},
   "outputs": [
    {
     "data": {
      "text/html": "<div>\n<style scoped>\n    .dataframe tbody tr th:only-of-type {\n        vertical-align: middle;\n    }\n\n    .dataframe tbody tr th {\n        vertical-align: top;\n    }\n\n    .dataframe thead th {\n        text-align: right;\n    }\n</style>\n<table border=\"1\" class=\"dataframe\">\n  <thead>\n    <tr style=\"text-align: right;\">\n      <th></th>\n      <th>a</th>\n      <th>b</th>\n      <th>c</th>\n      <th>d</th>\n      <th>a</th>\n      <th>b</th>\n    </tr>\n  </thead>\n  <tbody>\n    <tr>\n      <th>3</th>\n      <td>a3</td>\n      <td>b3</td>\n      <td>c3</td>\n      <td>d3</td>\n      <td>aa1</td>\n      <td>bb1</td>\n    </tr>\n    <tr>\n      <th>4</th>\n      <td>a4</td>\n      <td>b4</td>\n      <td>c4</td>\n      <td>d4</td>\n      <td>aa2</td>\n      <td>bb2</td>\n    </tr>\n  </tbody>\n</table>\n</div>",
      "text/plain": "    a   b   c   d    a    b\n3  a3  b3  c3  d3  aa1  bb1\n4  a4  b4  c4  d4  aa2  bb2"
     },
     "execution_count": 130,
     "metadata": {},
     "output_type": "execute_result"
    }
   ],
   "source": [
    "result2 = pd.concat([df1, df2], axis=1, join='inner', ignore_index=False)\n",
    "result2.head(10)"
   ]
  },
  {
   "cell_type": "markdown",
   "metadata": {},
   "source": [
    "행 방향 (좌우) 로 합칠경우, join 옵션은 행인덱스에 대해 적용되는 것을 알 수 있다."
   ]
  },
  {
   "cell_type": "markdown",
   "metadata": {},
   "source": [
    "### 4-2 데이터프레임 병합"
   ]
  },
  {
   "cell_type": "code",
   "execution_count": 136,
   "metadata": {},
   "outputs": [
    {
     "data": {
      "text/html": "<div>\n<style scoped>\n    .dataframe tbody tr th:only-of-type {\n        vertical-align: middle;\n    }\n\n    .dataframe tbody tr th {\n        vertical-align: top;\n    }\n\n    .dataframe thead th {\n        text-align: right;\n    }\n</style>\n<table border=\"1\" class=\"dataframe\">\n  <thead>\n    <tr style=\"text-align: right;\">\n      <th></th>\n      <th>id</th>\n      <th>stock_name</th>\n      <th>value</th>\n      <th>price</th>\n    </tr>\n  </thead>\n  <tbody>\n    <tr>\n      <th>0</th>\n      <td>128940</td>\n      <td>한미약품</td>\n      <td>59385.666667</td>\n      <td>421000</td>\n    </tr>\n    <tr>\n      <th>1</th>\n      <td>130960</td>\n      <td>CJ E&amp;M</td>\n      <td>58540.666667</td>\n      <td>98900</td>\n    </tr>\n    <tr>\n      <th>2</th>\n      <td>138250</td>\n      <td>엔에스쇼핑</td>\n      <td>14558.666667</td>\n      <td>13200</td>\n    </tr>\n    <tr>\n      <th>3</th>\n      <td>139480</td>\n      <td>이마트</td>\n      <td>239230.833333</td>\n      <td>254500</td>\n    </tr>\n    <tr>\n      <th>4</th>\n      <td>142280</td>\n      <td>녹십자엠에스</td>\n      <td>468.833333</td>\n      <td>10200</td>\n    </tr>\n    <tr>\n      <th>5</th>\n      <td>145990</td>\n      <td>삼양사</td>\n      <td>82750.000000</td>\n      <td>82000</td>\n    </tr>\n    <tr>\n      <th>6</th>\n      <td>185750</td>\n      <td>종근당</td>\n      <td>40293.666667</td>\n      <td>100500</td>\n    </tr>\n    <tr>\n      <th>7</th>\n      <td>192400</td>\n      <td>쿠쿠홀딩스</td>\n      <td>179204.666667</td>\n      <td>177500</td>\n    </tr>\n    <tr>\n      <th>8</th>\n      <td>199800</td>\n      <td>툴젠</td>\n      <td>-2514.333333</td>\n      <td>115400</td>\n    </tr>\n    <tr>\n      <th>9</th>\n      <td>204210</td>\n      <td>모두투어리츠</td>\n      <td>3093.333333</td>\n      <td>3475</td>\n    </tr>\n  </tbody>\n</table>\n</div>",
      "text/plain": "       id    stock_name          value   price\n0  128940      한미약품   59385.666667  421000\n1  130960        CJ E&M   58540.666667   98900\n2  138250    엔에스쇼핑   14558.666667   13200\n3  139480        이마트  239230.833333  254500\n4  142280  녹십자엠에스     468.833333   10200\n5  145990        삼양사   82750.000000   82000\n6  185750        종근당   40293.666667  100500\n7  192400    쿠쿠홀딩스  179204.666667  177500\n8  199800          툴젠   -2514.333333  115400\n9  204210  모두투어리츠    3093.333333    3475"
     },
     "execution_count": 136,
     "metadata": {},
     "output_type": "execute_result"
    }
   ],
   "source": [
    "import pandas as pd\n",
    "\n",
    "pd.set_option('display.max_columns', 10)                    # 출력할 최대 열 개수\n",
    "pd.set_option('display.max_colwidth', 20)                   # 출력할 열의 너비\n",
    "pd.set_option('display.unicode.east_asian_width', True)     # 유니코드 사용 너비 조정\n",
    "\n",
    "df1 = pd.read_excel('../../data/part6/stock price.xlsx')\n",
    "df2 = pd.read_excel('../../data/part6/stock valuation.xlsx')\n",
    "\n",
    "df1.head(20)"
   ]
  },
  {
   "cell_type": "code",
   "execution_count": 137,
   "metadata": {},
   "outputs": [
    {
     "data": {
      "text/html": "<div>\n<style scoped>\n    .dataframe tbody tr th:only-of-type {\n        vertical-align: middle;\n    }\n\n    .dataframe tbody tr th {\n        vertical-align: top;\n    }\n\n    .dataframe thead th {\n        text-align: right;\n    }\n</style>\n<table border=\"1\" class=\"dataframe\">\n  <thead>\n    <tr style=\"text-align: right;\">\n      <th></th>\n      <th>id</th>\n      <th>name</th>\n      <th>eps</th>\n      <th>bps</th>\n      <th>per</th>\n      <th>pbr</th>\n    </tr>\n  </thead>\n  <tbody>\n    <tr>\n      <th>0</th>\n      <td>130960</td>\n      <td>CJ E&amp;M</td>\n      <td>6301.333333</td>\n      <td>54068</td>\n      <td>15.695091</td>\n      <td>1.829178</td>\n    </tr>\n    <tr>\n      <th>1</th>\n      <td>136480</td>\n      <td>하림</td>\n      <td>274.166667</td>\n      <td>3551</td>\n      <td>11.489362</td>\n      <td>0.887074</td>\n    </tr>\n    <tr>\n      <th>2</th>\n      <td>138040</td>\n      <td>메리츠금융지주</td>\n      <td>2122.333333</td>\n      <td>14894</td>\n      <td>6.313806</td>\n      <td>0.899691</td>\n    </tr>\n    <tr>\n      <th>3</th>\n      <td>139480</td>\n      <td>이마트</td>\n      <td>18268.166667</td>\n      <td>295780</td>\n      <td>13.931338</td>\n      <td>0.860437</td>\n    </tr>\n    <tr>\n      <th>4</th>\n      <td>145990</td>\n      <td>삼양사</td>\n      <td>5741.000000</td>\n      <td>108090</td>\n      <td>14.283226</td>\n      <td>0.758627</td>\n    </tr>\n    <tr>\n      <th>5</th>\n      <td>161390</td>\n      <td>한국타이어</td>\n      <td>5648.500000</td>\n      <td>51341</td>\n      <td>7.453306</td>\n      <td>0.820007</td>\n    </tr>\n    <tr>\n      <th>6</th>\n      <td>181710</td>\n      <td>NHN엔터테인먼트</td>\n      <td>2110.166667</td>\n      <td>78434</td>\n      <td>30.755864</td>\n      <td>0.827447</td>\n    </tr>\n    <tr>\n      <th>7</th>\n      <td>185750</td>\n      <td>종근당</td>\n      <td>3990.333333</td>\n      <td>40684</td>\n      <td>25.185866</td>\n      <td>2.470259</td>\n    </tr>\n    <tr>\n      <th>8</th>\n      <td>204210</td>\n      <td>모두투어리츠</td>\n      <td>85.166667</td>\n      <td>5335</td>\n      <td>40.802348</td>\n      <td>0.651359</td>\n    </tr>\n    <tr>\n      <th>9</th>\n      <td>207940</td>\n      <td>삼성바이오로직스</td>\n      <td>4644.166667</td>\n      <td>60099</td>\n      <td>89.790059</td>\n      <td>6.938551</td>\n    </tr>\n  </tbody>\n</table>\n</div>",
      "text/plain": "       id              name           eps     bps        per       pbr\n0  130960            CJ E&M   6301.333333   54068  15.695091  1.829178\n1  136480              하림    274.166667    3551  11.489362  0.887074\n2  138040    메리츠금융지주   2122.333333   14894   6.313806  0.899691\n3  139480            이마트  18268.166667  295780  13.931338  0.860437\n4  145990            삼양사   5741.000000  108090  14.283226  0.758627\n5  161390        한국타이어   5648.500000   51341   7.453306  0.820007\n6  181710   NHN엔터테인먼트   2110.166667   78434  30.755864  0.827447\n7  185750            종근당   3990.333333   40684  25.185866  2.470259\n8  204210      모두투어리츠     85.166667    5335  40.802348  0.651359\n9  207940  삼성바이오로직스   4644.166667   60099  89.790059  6.938551"
     },
     "execution_count": 137,
     "metadata": {},
     "output_type": "execute_result"
    }
   ],
   "source": [
    "df2.head(20)"
   ]
  },
  {
   "cell_type": "markdown",
   "metadata": {},
   "source": [
    "merge() 함수는 SQL 의 join 문과 비슷한 원리로 동작하는데, 어떤 기준에 의해 두 데이터프레임을 병합한다.  \n",
    "이때 기준이 되는 열 혹은 인덱스를 ```key``` 라고 부르고, 키가 되는 열 혹은 인덱스는 반드시 양쪽 데이터프레임에 존재해야한다."
   ]
  },
  {
   "cell_type": "code",
   "execution_count": 135,
   "metadata": {},
   "outputs": [
    {
     "data": {
      "text/html": "<div>\n<style scoped>\n    .dataframe tbody tr th:only-of-type {\n        vertical-align: middle;\n    }\n\n    .dataframe tbody tr th {\n        vertical-align: top;\n    }\n\n    .dataframe thead th {\n        text-align: right;\n    }\n</style>\n<table border=\"1\" class=\"dataframe\">\n  <thead>\n    <tr style=\"text-align: right;\">\n      <th></th>\n      <th>id</th>\n      <th>stock_name</th>\n      <th>value</th>\n      <th>price</th>\n      <th>name</th>\n      <th>eps</th>\n      <th>bps</th>\n      <th>per</th>\n      <th>pbr</th>\n    </tr>\n  </thead>\n  <tbody>\n    <tr>\n      <th>0</th>\n      <td>130960</td>\n      <td>CJ E&amp;M</td>\n      <td>58540.666667</td>\n      <td>98900</td>\n      <td>CJ E&amp;M</td>\n      <td>6301.333333</td>\n      <td>54068</td>\n      <td>15.695091</td>\n      <td>1.829178</td>\n    </tr>\n    <tr>\n      <th>1</th>\n      <td>139480</td>\n      <td>이마트</td>\n      <td>239230.833333</td>\n      <td>254500</td>\n      <td>이마트</td>\n      <td>18268.166667</td>\n      <td>295780</td>\n      <td>13.931338</td>\n      <td>0.860437</td>\n    </tr>\n    <tr>\n      <th>2</th>\n      <td>145990</td>\n      <td>삼양사</td>\n      <td>82750.000000</td>\n      <td>82000</td>\n      <td>삼양사</td>\n      <td>5741.000000</td>\n      <td>108090</td>\n      <td>14.283226</td>\n      <td>0.758627</td>\n    </tr>\n    <tr>\n      <th>3</th>\n      <td>185750</td>\n      <td>종근당</td>\n      <td>40293.666667</td>\n      <td>100500</td>\n      <td>종근당</td>\n      <td>3990.333333</td>\n      <td>40684</td>\n      <td>25.185866</td>\n      <td>2.470259</td>\n    </tr>\n    <tr>\n      <th>4</th>\n      <td>204210</td>\n      <td>모두투어리츠</td>\n      <td>3093.333333</td>\n      <td>3475</td>\n      <td>모두투어리츠</td>\n      <td>85.166667</td>\n      <td>5335</td>\n      <td>40.802348</td>\n      <td>0.651359</td>\n    </tr>\n  </tbody>\n</table>\n</div>",
      "text/plain": "       id    stock_name          value   price          name           eps  \\\n0  130960        CJ E&M   58540.666667   98900        CJ E&M   6301.333333   \n1  139480        이마트  239230.833333  254500        이마트  18268.166667   \n2  145990        삼양사   82750.000000   82000        삼양사   5741.000000   \n3  185750        종근당   40293.666667  100500        종근당   3990.333333   \n4  204210  모두투어리츠    3093.333333    3475  모두투어리츠     85.166667   \n\n      bps        per       pbr  \n0   54068  15.695091  1.829178  \n1  295780  13.931338  0.860437  \n2  108090  14.283226  0.758627  \n3   40684  25.185866  2.470259  \n4    5335  40.802348  0.651359  "
     },
     "execution_count": 135,
     "metadata": {},
     "output_type": "execute_result"
    }
   ],
   "source": [
    "# 데이터프레임 합치기 - 교집합\n",
    "merge_inner = pd.merge(df1, df2, on=None, how='inner')\n",
    "merge_inner"
   ]
  },
  {
   "cell_type": "markdown",
   "metadata": {},
   "source": [
    "위의 코드에서 merge 의 인자로,\n",
    "1. how (default = 'inner')  병합할 방법\n",
    "2. on (default = 'None')    병합을 할 기준 열/인덱스 선택  \n",
    "on 인자가 None 이므로, df1 과 df2 의 공통열인 id 를 자동으로 기준하여 병합한다.  "
   ]
  },
  {
   "cell_type": "code",
   "execution_count": 138,
   "metadata": {},
   "outputs": [
    {
     "data": {
      "text/html": "<div>\n<style scoped>\n    .dataframe tbody tr th:only-of-type {\n        vertical-align: middle;\n    }\n\n    .dataframe tbody tr th {\n        vertical-align: top;\n    }\n\n    .dataframe thead th {\n        text-align: right;\n    }\n</style>\n<table border=\"1\" class=\"dataframe\">\n  <thead>\n    <tr style=\"text-align: right;\">\n      <th></th>\n      <th>id</th>\n      <th>stock_name</th>\n      <th>value</th>\n      <th>price</th>\n      <th>name</th>\n      <th>eps</th>\n      <th>bps</th>\n      <th>per</th>\n      <th>pbr</th>\n    </tr>\n  </thead>\n  <tbody>\n    <tr>\n      <th>0</th>\n      <td>128940</td>\n      <td>한미약품</td>\n      <td>59385.666667</td>\n      <td>421000.0</td>\n      <td>NaN</td>\n      <td>NaN</td>\n      <td>NaN</td>\n      <td>NaN</td>\n      <td>NaN</td>\n    </tr>\n    <tr>\n      <th>1</th>\n      <td>130960</td>\n      <td>CJ E&amp;M</td>\n      <td>58540.666667</td>\n      <td>98900.0</td>\n      <td>CJ E&amp;M</td>\n      <td>6301.333333</td>\n      <td>54068.0</td>\n      <td>15.695091</td>\n      <td>1.829178</td>\n    </tr>\n    <tr>\n      <th>2</th>\n      <td>138250</td>\n      <td>엔에스쇼핑</td>\n      <td>14558.666667</td>\n      <td>13200.0</td>\n      <td>NaN</td>\n      <td>NaN</td>\n      <td>NaN</td>\n      <td>NaN</td>\n      <td>NaN</td>\n    </tr>\n    <tr>\n      <th>3</th>\n      <td>139480</td>\n      <td>이마트</td>\n      <td>239230.833333</td>\n      <td>254500.0</td>\n      <td>이마트</td>\n      <td>18268.166667</td>\n      <td>295780.0</td>\n      <td>13.931338</td>\n      <td>0.860437</td>\n    </tr>\n    <tr>\n      <th>4</th>\n      <td>142280</td>\n      <td>녹십자엠에스</td>\n      <td>468.833333</td>\n      <td>10200.0</td>\n      <td>NaN</td>\n      <td>NaN</td>\n      <td>NaN</td>\n      <td>NaN</td>\n      <td>NaN</td>\n    </tr>\n    <tr>\n      <th>5</th>\n      <td>145990</td>\n      <td>삼양사</td>\n      <td>82750.000000</td>\n      <td>82000.0</td>\n      <td>삼양사</td>\n      <td>5741.000000</td>\n      <td>108090.0</td>\n      <td>14.283226</td>\n      <td>0.758627</td>\n    </tr>\n    <tr>\n      <th>6</th>\n      <td>185750</td>\n      <td>종근당</td>\n      <td>40293.666667</td>\n      <td>100500.0</td>\n      <td>종근당</td>\n      <td>3990.333333</td>\n      <td>40684.0</td>\n      <td>25.185866</td>\n      <td>2.470259</td>\n    </tr>\n    <tr>\n      <th>7</th>\n      <td>192400</td>\n      <td>쿠쿠홀딩스</td>\n      <td>179204.666667</td>\n      <td>177500.0</td>\n      <td>NaN</td>\n      <td>NaN</td>\n      <td>NaN</td>\n      <td>NaN</td>\n      <td>NaN</td>\n    </tr>\n    <tr>\n      <th>8</th>\n      <td>199800</td>\n      <td>툴젠</td>\n      <td>-2514.333333</td>\n      <td>115400.0</td>\n      <td>NaN</td>\n      <td>NaN</td>\n      <td>NaN</td>\n      <td>NaN</td>\n      <td>NaN</td>\n    </tr>\n    <tr>\n      <th>9</th>\n      <td>204210</td>\n      <td>모두투어리츠</td>\n      <td>3093.333333</td>\n      <td>3475.0</td>\n      <td>모두투어리츠</td>\n      <td>85.166667</td>\n      <td>5335.0</td>\n      <td>40.802348</td>\n      <td>0.651359</td>\n    </tr>\n    <tr>\n      <th>10</th>\n      <td>136480</td>\n      <td>NaN</td>\n      <td>NaN</td>\n      <td>NaN</td>\n      <td>하림</td>\n      <td>274.166667</td>\n      <td>3551.0</td>\n      <td>11.489362</td>\n      <td>0.887074</td>\n    </tr>\n    <tr>\n      <th>11</th>\n      <td>138040</td>\n      <td>NaN</td>\n      <td>NaN</td>\n      <td>NaN</td>\n      <td>메리츠금융지주</td>\n      <td>2122.333333</td>\n      <td>14894.0</td>\n      <td>6.313806</td>\n      <td>0.899691</td>\n    </tr>\n    <tr>\n      <th>12</th>\n      <td>161390</td>\n      <td>NaN</td>\n      <td>NaN</td>\n      <td>NaN</td>\n      <td>한국타이어</td>\n      <td>5648.500000</td>\n      <td>51341.0</td>\n      <td>7.453306</td>\n      <td>0.820007</td>\n    </tr>\n    <tr>\n      <th>13</th>\n      <td>181710</td>\n      <td>NaN</td>\n      <td>NaN</td>\n      <td>NaN</td>\n      <td>NHN엔터테인먼트</td>\n      <td>2110.166667</td>\n      <td>78434.0</td>\n      <td>30.755864</td>\n      <td>0.827447</td>\n    </tr>\n    <tr>\n      <th>14</th>\n      <td>207940</td>\n      <td>NaN</td>\n      <td>NaN</td>\n      <td>NaN</td>\n      <td>삼성바이오로직스</td>\n      <td>4644.166667</td>\n      <td>60099.0</td>\n      <td>89.790059</td>\n      <td>6.938551</td>\n    </tr>\n  </tbody>\n</table>\n</div>",
      "text/plain": "        id    stock_name          value     price              name  \\\n0   128940      한미약품   59385.666667  421000.0               NaN   \n1   130960        CJ E&M   58540.666667   98900.0            CJ E&M   \n2   138250    엔에스쇼핑   14558.666667   13200.0               NaN   \n3   139480        이마트  239230.833333  254500.0            이마트   \n4   142280  녹십자엠에스     468.833333   10200.0               NaN   \n5   145990        삼양사   82750.000000   82000.0            삼양사   \n6   185750        종근당   40293.666667  100500.0            종근당   \n7   192400    쿠쿠홀딩스  179204.666667  177500.0               NaN   \n8   199800          툴젠   -2514.333333  115400.0               NaN   \n9   204210  모두투어리츠    3093.333333    3475.0      모두투어리츠   \n10  136480           NaN            NaN       NaN              하림   \n11  138040           NaN            NaN       NaN    메리츠금융지주   \n12  161390           NaN            NaN       NaN        한국타이어   \n13  181710           NaN            NaN       NaN   NHN엔터테인먼트   \n14  207940           NaN            NaN       NaN  삼성바이오로직스   \n\n             eps       bps        per       pbr  \n0            NaN       NaN        NaN       NaN  \n1    6301.333333   54068.0  15.695091  1.829178  \n2            NaN       NaN        NaN       NaN  \n3   18268.166667  295780.0  13.931338  0.860437  \n4            NaN       NaN        NaN       NaN  \n5    5741.000000  108090.0  14.283226  0.758627  \n6    3990.333333   40684.0  25.185866  2.470259  \n7            NaN       NaN        NaN       NaN  \n8            NaN       NaN        NaN       NaN  \n9      85.166667    5335.0  40.802348  0.651359  \n10    274.166667    3551.0  11.489362  0.887074  \n11   2122.333333   14894.0   6.313806  0.899691  \n12   5648.500000   51341.0   7.453306  0.820007  \n13   2110.166667   78434.0  30.755864  0.827447  \n14   4644.166667   60099.0  89.790059  6.938551  "
     },
     "execution_count": 138,
     "metadata": {},
     "output_type": "execute_result"
    }
   ],
   "source": [
    "# 데이터프레임 합치기 - 합집합\n",
    "merge_outer = pd.merge(df1, df2, how='outer', on='id')\n",
    "merge_outer"
   ]
  },
  {
   "cell_type": "markdown",
   "metadata": {},
   "source": [
    "id 열을 기준으로 합집합 병합을 하게되어 존재하지 않는 원소에 NaN 값이 자동으로 채워진다.(어느 한쪽이라도 데이터가 없을 경우)"
   ]
  },
  {
   "cell_type": "code",
   "execution_count": 139,
   "metadata": {},
   "outputs": [
    {
     "data": {
      "text/html": "<div>\n<style scoped>\n    .dataframe tbody tr th:only-of-type {\n        vertical-align: middle;\n    }\n\n    .dataframe tbody tr th {\n        vertical-align: top;\n    }\n\n    .dataframe thead th {\n        text-align: right;\n    }\n</style>\n<table border=\"1\" class=\"dataframe\">\n  <thead>\n    <tr style=\"text-align: right;\">\n      <th></th>\n      <th>id_x</th>\n      <th>stock_name</th>\n      <th>value</th>\n      <th>price</th>\n      <th>id_y</th>\n      <th>name</th>\n      <th>eps</th>\n      <th>bps</th>\n      <th>per</th>\n      <th>pbr</th>\n    </tr>\n  </thead>\n  <tbody>\n    <tr>\n      <th>0</th>\n      <td>128940</td>\n      <td>한미약품</td>\n      <td>59385.666667</td>\n      <td>421000</td>\n      <td>NaN</td>\n      <td>NaN</td>\n      <td>NaN</td>\n      <td>NaN</td>\n      <td>NaN</td>\n      <td>NaN</td>\n    </tr>\n    <tr>\n      <th>1</th>\n      <td>130960</td>\n      <td>CJ E&amp;M</td>\n      <td>58540.666667</td>\n      <td>98900</td>\n      <td>130960.0</td>\n      <td>CJ E&amp;M</td>\n      <td>6301.333333</td>\n      <td>54068.0</td>\n      <td>15.695091</td>\n      <td>1.829178</td>\n    </tr>\n    <tr>\n      <th>2</th>\n      <td>138250</td>\n      <td>엔에스쇼핑</td>\n      <td>14558.666667</td>\n      <td>13200</td>\n      <td>NaN</td>\n      <td>NaN</td>\n      <td>NaN</td>\n      <td>NaN</td>\n      <td>NaN</td>\n      <td>NaN</td>\n    </tr>\n    <tr>\n      <th>3</th>\n      <td>139480</td>\n      <td>이마트</td>\n      <td>239230.833333</td>\n      <td>254500</td>\n      <td>139480.0</td>\n      <td>이마트</td>\n      <td>18268.166667</td>\n      <td>295780.0</td>\n      <td>13.931338</td>\n      <td>0.860437</td>\n    </tr>\n    <tr>\n      <th>4</th>\n      <td>142280</td>\n      <td>녹십자엠에스</td>\n      <td>468.833333</td>\n      <td>10200</td>\n      <td>NaN</td>\n      <td>NaN</td>\n      <td>NaN</td>\n      <td>NaN</td>\n      <td>NaN</td>\n      <td>NaN</td>\n    </tr>\n    <tr>\n      <th>5</th>\n      <td>145990</td>\n      <td>삼양사</td>\n      <td>82750.000000</td>\n      <td>82000</td>\n      <td>145990.0</td>\n      <td>삼양사</td>\n      <td>5741.000000</td>\n      <td>108090.0</td>\n      <td>14.283226</td>\n      <td>0.758627</td>\n    </tr>\n    <tr>\n      <th>6</th>\n      <td>185750</td>\n      <td>종근당</td>\n      <td>40293.666667</td>\n      <td>100500</td>\n      <td>185750.0</td>\n      <td>종근당</td>\n      <td>3990.333333</td>\n      <td>40684.0</td>\n      <td>25.185866</td>\n      <td>2.470259</td>\n    </tr>\n    <tr>\n      <th>7</th>\n      <td>192400</td>\n      <td>쿠쿠홀딩스</td>\n      <td>179204.666667</td>\n      <td>177500</td>\n      <td>NaN</td>\n      <td>NaN</td>\n      <td>NaN</td>\n      <td>NaN</td>\n      <td>NaN</td>\n      <td>NaN</td>\n    </tr>\n    <tr>\n      <th>8</th>\n      <td>199800</td>\n      <td>툴젠</td>\n      <td>-2514.333333</td>\n      <td>115400</td>\n      <td>NaN</td>\n      <td>NaN</td>\n      <td>NaN</td>\n      <td>NaN</td>\n      <td>NaN</td>\n      <td>NaN</td>\n    </tr>\n    <tr>\n      <th>9</th>\n      <td>204210</td>\n      <td>모두투어리츠</td>\n      <td>3093.333333</td>\n      <td>3475</td>\n      <td>204210.0</td>\n      <td>모두투어리츠</td>\n      <td>85.166667</td>\n      <td>5335.0</td>\n      <td>40.802348</td>\n      <td>0.651359</td>\n    </tr>\n  </tbody>\n</table>\n</div>",
      "text/plain": "     id_x    stock_name          value   price      id_y          name  \\\n0  128940      한미약품   59385.666667  421000       NaN           NaN   \n1  130960        CJ E&M   58540.666667   98900  130960.0        CJ E&M   \n2  138250    엔에스쇼핑   14558.666667   13200       NaN           NaN   \n3  139480        이마트  239230.833333  254500  139480.0        이마트   \n4  142280  녹십자엠에스     468.833333   10200       NaN           NaN   \n5  145990        삼양사   82750.000000   82000  145990.0        삼양사   \n6  185750        종근당   40293.666667  100500  185750.0        종근당   \n7  192400    쿠쿠홀딩스  179204.666667  177500       NaN           NaN   \n8  199800          툴젠   -2514.333333  115400       NaN           NaN   \n9  204210  모두투어리츠    3093.333333    3475  204210.0  모두투어리츠   \n\n            eps       bps        per       pbr  \n0           NaN       NaN        NaN       NaN  \n1   6301.333333   54068.0  15.695091  1.829178  \n2           NaN       NaN        NaN       NaN  \n3  18268.166667  295780.0  13.931338  0.860437  \n4           NaN       NaN        NaN       NaN  \n5   5741.000000  108090.0  14.283226  0.758627  \n6   3990.333333   40684.0  25.185866  2.470259  \n7           NaN       NaN        NaN       NaN  \n8           NaN       NaN        NaN       NaN  \n9     85.166667    5335.0  40.802348  0.651359  "
     },
     "execution_count": 139,
     "metadata": {},
     "output_type": "execute_result"
    }
   ],
   "source": [
    "# 데이터프레임 합치기 - 왼쪽 데이터프레임 기준, 키 값 분리\n",
    "merge_left = pd.merge(df1, df2, how='left', left_on='stock_name', right_on='name')\n",
    "merge_left"
   ]
  },
  {
   "cell_type": "code",
   "execution_count": 142,
   "metadata": {},
   "outputs": [
    {
     "data": {
      "text/html": "<div>\n<style scoped>\n    .dataframe tbody tr th:only-of-type {\n        vertical-align: middle;\n    }\n\n    .dataframe tbody tr th {\n        vertical-align: top;\n    }\n\n    .dataframe thead th {\n        text-align: right;\n    }\n</style>\n<table border=\"1\" class=\"dataframe\">\n  <thead>\n    <tr style=\"text-align: right;\">\n      <th></th>\n      <th>id</th>\n      <th>stock_name</th>\n      <th>value</th>\n      <th>price</th>\n      <th>name</th>\n      <th>eps</th>\n      <th>bps</th>\n      <th>per</th>\n      <th>pbr</th>\n    </tr>\n  </thead>\n  <tbody>\n    <tr>\n      <th>0</th>\n      <td>204210</td>\n      <td>모두투어리츠</td>\n      <td>3093.333333</td>\n      <td>3475</td>\n      <td>모두투어리츠</td>\n      <td>85.166667</td>\n      <td>5335</td>\n      <td>40.802348</td>\n      <td>0.651359</td>\n    </tr>\n  </tbody>\n</table>\n</div>",
      "text/plain": "       id    stock_name        value  price          name        eps   bps  \\\n0  204210  모두투어리츠  3093.333333   3475  모두투어리츠  85.166667  5335   \n\n         per       pbr  \n0  40.802348  0.651359  "
     },
     "execution_count": 142,
     "metadata": {},
     "output_type": "execute_result"
    }
   ],
   "source": [
    "# 데이터프레임 합치기 - 불린 인덱싱을 통한 데이터 추출\n",
    "price = df1[df1['price'] < 50000]\n",
    "value = pd.merge(price, df2)\n",
    "value"
   ]
  },
  {
   "cell_type": "markdown",
   "metadata": {},
   "source": [
    "### 4-3 데이터프레임 결합 (join)"
   ]
  },
  {
   "cell_type": "code",
   "execution_count": 143,
   "metadata": {},
   "outputs": [
    {
     "data": {
      "text/html": "<div>\n<style scoped>\n    .dataframe tbody tr th:only-of-type {\n        vertical-align: middle;\n    }\n\n    .dataframe tbody tr th {\n        vertical-align: top;\n    }\n\n    .dataframe thead th {\n        text-align: right;\n    }\n</style>\n<table border=\"1\" class=\"dataframe\">\n  <thead>\n    <tr style=\"text-align: right;\">\n      <th></th>\n      <th>stock_name</th>\n      <th>value</th>\n      <th>price</th>\n    </tr>\n    <tr>\n      <th>id</th>\n      <th></th>\n      <th></th>\n      <th></th>\n    </tr>\n  </thead>\n  <tbody>\n    <tr>\n      <th>128940</th>\n      <td>한미약품</td>\n      <td>59385.666667</td>\n      <td>421000</td>\n    </tr>\n    <tr>\n      <th>130960</th>\n      <td>CJ E&amp;M</td>\n      <td>58540.666667</td>\n      <td>98900</td>\n    </tr>\n    <tr>\n      <th>138250</th>\n      <td>엔에스쇼핑</td>\n      <td>14558.666667</td>\n      <td>13200</td>\n    </tr>\n    <tr>\n      <th>139480</th>\n      <td>이마트</td>\n      <td>239230.833333</td>\n      <td>254500</td>\n    </tr>\n    <tr>\n      <th>142280</th>\n      <td>녹십자엠에스</td>\n      <td>468.833333</td>\n      <td>10200</td>\n    </tr>\n    <tr>\n      <th>145990</th>\n      <td>삼양사</td>\n      <td>82750.000000</td>\n      <td>82000</td>\n    </tr>\n    <tr>\n      <th>185750</th>\n      <td>종근당</td>\n      <td>40293.666667</td>\n      <td>100500</td>\n    </tr>\n    <tr>\n      <th>192400</th>\n      <td>쿠쿠홀딩스</td>\n      <td>179204.666667</td>\n      <td>177500</td>\n    </tr>\n    <tr>\n      <th>199800</th>\n      <td>툴젠</td>\n      <td>-2514.333333</td>\n      <td>115400</td>\n    </tr>\n    <tr>\n      <th>204210</th>\n      <td>모두투어리츠</td>\n      <td>3093.333333</td>\n      <td>3475</td>\n    </tr>\n  </tbody>\n</table>\n</div>",
      "text/plain": "          stock_name          value   price\nid                                         \n128940      한미약품   59385.666667  421000\n130960        CJ E&M   58540.666667   98900\n138250    엔에스쇼핑   14558.666667   13200\n139480        이마트  239230.833333  254500\n142280  녹십자엠에스     468.833333   10200\n145990        삼양사   82750.000000   82000\n185750        종근당   40293.666667  100500\n192400    쿠쿠홀딩스  179204.666667  177500\n199800          툴젠   -2514.333333  115400\n204210  모두투어리츠    3093.333333    3475"
     },
     "execution_count": 143,
     "metadata": {},
     "output_type": "execute_result"
    }
   ],
   "source": [
    "import pandas as pd\n",
    "\n",
    "pd.set_option('display.max_columns', 10)                    # 출력할 최대 열 개수\n",
    "pd.set_option('display.max_colwidth', 20)                   # 출력할 열의 너비\n",
    "pd.set_option('display.unicode.east_asian_width', True)     # 유니코드 사용 너비 조정\n",
    "\n",
    "df1 = pd.read_excel('../../data/part6/stock price.xlsx', index_col='id')\n",
    "df2 = pd.read_excel('../../data/part6/stock valuation.xlsx', index_col='id')\n",
    "\n",
    "df1.head(20)"
   ]
  },
  {
   "cell_type": "code",
   "execution_count": 144,
   "metadata": {},
   "outputs": [
    {
     "data": {
      "text/html": "<div>\n<style scoped>\n    .dataframe tbody tr th:only-of-type {\n        vertical-align: middle;\n    }\n\n    .dataframe tbody tr th {\n        vertical-align: top;\n    }\n\n    .dataframe thead th {\n        text-align: right;\n    }\n</style>\n<table border=\"1\" class=\"dataframe\">\n  <thead>\n    <tr style=\"text-align: right;\">\n      <th></th>\n      <th>name</th>\n      <th>eps</th>\n      <th>bps</th>\n      <th>per</th>\n      <th>pbr</th>\n    </tr>\n    <tr>\n      <th>id</th>\n      <th></th>\n      <th></th>\n      <th></th>\n      <th></th>\n      <th></th>\n    </tr>\n  </thead>\n  <tbody>\n    <tr>\n      <th>130960</th>\n      <td>CJ E&amp;M</td>\n      <td>6301.333333</td>\n      <td>54068</td>\n      <td>15.695091</td>\n      <td>1.829178</td>\n    </tr>\n    <tr>\n      <th>136480</th>\n      <td>하림</td>\n      <td>274.166667</td>\n      <td>3551</td>\n      <td>11.489362</td>\n      <td>0.887074</td>\n    </tr>\n    <tr>\n      <th>138040</th>\n      <td>메리츠금융지주</td>\n      <td>2122.333333</td>\n      <td>14894</td>\n      <td>6.313806</td>\n      <td>0.899691</td>\n    </tr>\n    <tr>\n      <th>139480</th>\n      <td>이마트</td>\n      <td>18268.166667</td>\n      <td>295780</td>\n      <td>13.931338</td>\n      <td>0.860437</td>\n    </tr>\n    <tr>\n      <th>145990</th>\n      <td>삼양사</td>\n      <td>5741.000000</td>\n      <td>108090</td>\n      <td>14.283226</td>\n      <td>0.758627</td>\n    </tr>\n    <tr>\n      <th>161390</th>\n      <td>한국타이어</td>\n      <td>5648.500000</td>\n      <td>51341</td>\n      <td>7.453306</td>\n      <td>0.820007</td>\n    </tr>\n    <tr>\n      <th>181710</th>\n      <td>NHN엔터테인먼트</td>\n      <td>2110.166667</td>\n      <td>78434</td>\n      <td>30.755864</td>\n      <td>0.827447</td>\n    </tr>\n    <tr>\n      <th>185750</th>\n      <td>종근당</td>\n      <td>3990.333333</td>\n      <td>40684</td>\n      <td>25.185866</td>\n      <td>2.470259</td>\n    </tr>\n    <tr>\n      <th>204210</th>\n      <td>모두투어리츠</td>\n      <td>85.166667</td>\n      <td>5335</td>\n      <td>40.802348</td>\n      <td>0.651359</td>\n    </tr>\n    <tr>\n      <th>207940</th>\n      <td>삼성바이오로직스</td>\n      <td>4644.166667</td>\n      <td>60099</td>\n      <td>89.790059</td>\n      <td>6.938551</td>\n    </tr>\n  </tbody>\n</table>\n</div>",
      "text/plain": "                    name           eps     bps        per       pbr\nid                                                                 \n130960            CJ E&M   6301.333333   54068  15.695091  1.829178\n136480              하림    274.166667    3551  11.489362  0.887074\n138040    메리츠금융지주   2122.333333   14894   6.313806  0.899691\n139480            이마트  18268.166667  295780  13.931338  0.860437\n145990            삼양사   5741.000000  108090  14.283226  0.758627\n161390        한국타이어   5648.500000   51341   7.453306  0.820007\n181710   NHN엔터테인먼트   2110.166667   78434  30.755864  0.827447\n185750            종근당   3990.333333   40684  25.185866  2.470259\n204210      모두투어리츠     85.166667    5335  40.802348  0.651359\n207940  삼성바이오로직스   4644.166667   60099  89.790059  6.938551"
     },
     "execution_count": 144,
     "metadata": {},
     "output_type": "execute_result"
    }
   ],
   "source": [
    "df2.head(20)"
   ]
  },
  {
   "cell_type": "markdown",
   "metadata": {},
   "source": [
    "join 함수는 내부적으로 merge 함수로 구성되어있어 작동 방식은 매우 유사하다.  \n",
    "하지만, join 은 ```행 인덱스를``` 기준으로 병합한다는 점에서 차이가 있다.  \n",
    "(on=keys 옵션으로 열 기준도 가능)"
   ]
  },
  {
   "cell_type": "code",
   "execution_count": 146,
   "metadata": {},
   "outputs": [
    {
     "data": {
      "text/html": "<div>\n<style scoped>\n    .dataframe tbody tr th:only-of-type {\n        vertical-align: middle;\n    }\n\n    .dataframe tbody tr th {\n        vertical-align: top;\n    }\n\n    .dataframe thead th {\n        text-align: right;\n    }\n</style>\n<table border=\"1\" class=\"dataframe\">\n  <thead>\n    <tr style=\"text-align: right;\">\n      <th></th>\n      <th>stock_name</th>\n      <th>value</th>\n      <th>price</th>\n      <th>name</th>\n      <th>eps</th>\n      <th>bps</th>\n      <th>per</th>\n      <th>pbr</th>\n    </tr>\n    <tr>\n      <th>id</th>\n      <th></th>\n      <th></th>\n      <th></th>\n      <th></th>\n      <th></th>\n      <th></th>\n      <th></th>\n      <th></th>\n    </tr>\n  </thead>\n  <tbody>\n    <tr>\n      <th>128940</th>\n      <td>한미약품</td>\n      <td>59385.666667</td>\n      <td>421000</td>\n      <td>NaN</td>\n      <td>NaN</td>\n      <td>NaN</td>\n      <td>NaN</td>\n      <td>NaN</td>\n    </tr>\n    <tr>\n      <th>130960</th>\n      <td>CJ E&amp;M</td>\n      <td>58540.666667</td>\n      <td>98900</td>\n      <td>CJ E&amp;M</td>\n      <td>6301.333333</td>\n      <td>54068.0</td>\n      <td>15.695091</td>\n      <td>1.829178</td>\n    </tr>\n    <tr>\n      <th>138250</th>\n      <td>엔에스쇼핑</td>\n      <td>14558.666667</td>\n      <td>13200</td>\n      <td>NaN</td>\n      <td>NaN</td>\n      <td>NaN</td>\n      <td>NaN</td>\n      <td>NaN</td>\n    </tr>\n    <tr>\n      <th>139480</th>\n      <td>이마트</td>\n      <td>239230.833333</td>\n      <td>254500</td>\n      <td>이마트</td>\n      <td>18268.166667</td>\n      <td>295780.0</td>\n      <td>13.931338</td>\n      <td>0.860437</td>\n    </tr>\n    <tr>\n      <th>142280</th>\n      <td>녹십자엠에스</td>\n      <td>468.833333</td>\n      <td>10200</td>\n      <td>NaN</td>\n      <td>NaN</td>\n      <td>NaN</td>\n      <td>NaN</td>\n      <td>NaN</td>\n    </tr>\n    <tr>\n      <th>145990</th>\n      <td>삼양사</td>\n      <td>82750.000000</td>\n      <td>82000</td>\n      <td>삼양사</td>\n      <td>5741.000000</td>\n      <td>108090.0</td>\n      <td>14.283226</td>\n      <td>0.758627</td>\n    </tr>\n    <tr>\n      <th>185750</th>\n      <td>종근당</td>\n      <td>40293.666667</td>\n      <td>100500</td>\n      <td>종근당</td>\n      <td>3990.333333</td>\n      <td>40684.0</td>\n      <td>25.185866</td>\n      <td>2.470259</td>\n    </tr>\n    <tr>\n      <th>192400</th>\n      <td>쿠쿠홀딩스</td>\n      <td>179204.666667</td>\n      <td>177500</td>\n      <td>NaN</td>\n      <td>NaN</td>\n      <td>NaN</td>\n      <td>NaN</td>\n      <td>NaN</td>\n    </tr>\n    <tr>\n      <th>199800</th>\n      <td>툴젠</td>\n      <td>-2514.333333</td>\n      <td>115400</td>\n      <td>NaN</td>\n      <td>NaN</td>\n      <td>NaN</td>\n      <td>NaN</td>\n      <td>NaN</td>\n    </tr>\n    <tr>\n      <th>204210</th>\n      <td>모두투어리츠</td>\n      <td>3093.333333</td>\n      <td>3475</td>\n      <td>모두투어리츠</td>\n      <td>85.166667</td>\n      <td>5335.0</td>\n      <td>40.802348</td>\n      <td>0.651359</td>\n    </tr>\n  </tbody>\n</table>\n</div>",
      "text/plain": "          stock_name          value   price          name           eps  \\\nid                                                                        \n128940      한미약품   59385.666667  421000           NaN           NaN   \n130960        CJ E&M   58540.666667   98900        CJ E&M   6301.333333   \n138250    엔에스쇼핑   14558.666667   13200           NaN           NaN   \n139480        이마트  239230.833333  254500        이마트  18268.166667   \n142280  녹십자엠에스     468.833333   10200           NaN           NaN   \n145990        삼양사   82750.000000   82000        삼양사   5741.000000   \n185750        종근당   40293.666667  100500        종근당   3990.333333   \n192400    쿠쿠홀딩스  179204.666667  177500           NaN           NaN   \n199800          툴젠   -2514.333333  115400           NaN           NaN   \n204210  모두투어리츠    3093.333333    3475  모두투어리츠     85.166667   \n\n             bps        per       pbr  \nid                                     \n128940       NaN        NaN       NaN  \n130960   54068.0  15.695091  1.829178  \n138250       NaN        NaN       NaN  \n139480  295780.0  13.931338  0.860437  \n142280       NaN        NaN       NaN  \n145990  108090.0  14.283226  0.758627  \n185750   40684.0  25.185866  2.470259  \n192400       NaN        NaN       NaN  \n199800       NaN        NaN       NaN  \n204210    5335.0  40.802348  0.651359  "
     },
     "execution_count": 146,
     "metadata": {},
     "output_type": "execute_result"
    }
   ],
   "source": [
    "# 데이터프레임 결합 - join\n",
    "df3 = df1.join(df2, how='left')\n",
    "df3"
   ]
  },
  {
   "cell_type": "markdown",
   "metadata": {},
   "source": [
    "기본적으로 how 는 왼쪽 데이터프레임 기준이다.  "
   ]
  },
  {
   "cell_type": "code",
   "execution_count": 147,
   "metadata": {},
   "outputs": [
    {
     "data": {
      "text/html": "<div>\n<style scoped>\n    .dataframe tbody tr th:only-of-type {\n        vertical-align: middle;\n    }\n\n    .dataframe tbody tr th {\n        vertical-align: top;\n    }\n\n    .dataframe thead th {\n        text-align: right;\n    }\n</style>\n<table border=\"1\" class=\"dataframe\">\n  <thead>\n    <tr style=\"text-align: right;\">\n      <th></th>\n      <th>stock_name</th>\n      <th>value</th>\n      <th>price</th>\n      <th>name</th>\n      <th>eps</th>\n      <th>bps</th>\n      <th>per</th>\n      <th>pbr</th>\n    </tr>\n    <tr>\n      <th>id</th>\n      <th></th>\n      <th></th>\n      <th></th>\n      <th></th>\n      <th></th>\n      <th></th>\n      <th></th>\n      <th></th>\n    </tr>\n  </thead>\n  <tbody>\n    <tr>\n      <th>130960</th>\n      <td>CJ E&amp;M</td>\n      <td>58540.666667</td>\n      <td>98900</td>\n      <td>CJ E&amp;M</td>\n      <td>6301.333333</td>\n      <td>54068</td>\n      <td>15.695091</td>\n      <td>1.829178</td>\n    </tr>\n    <tr>\n      <th>139480</th>\n      <td>이마트</td>\n      <td>239230.833333</td>\n      <td>254500</td>\n      <td>이마트</td>\n      <td>18268.166667</td>\n      <td>295780</td>\n      <td>13.931338</td>\n      <td>0.860437</td>\n    </tr>\n    <tr>\n      <th>145990</th>\n      <td>삼양사</td>\n      <td>82750.000000</td>\n      <td>82000</td>\n      <td>삼양사</td>\n      <td>5741.000000</td>\n      <td>108090</td>\n      <td>14.283226</td>\n      <td>0.758627</td>\n    </tr>\n    <tr>\n      <th>185750</th>\n      <td>종근당</td>\n      <td>40293.666667</td>\n      <td>100500</td>\n      <td>종근당</td>\n      <td>3990.333333</td>\n      <td>40684</td>\n      <td>25.185866</td>\n      <td>2.470259</td>\n    </tr>\n    <tr>\n      <th>204210</th>\n      <td>모두투어리츠</td>\n      <td>3093.333333</td>\n      <td>3475</td>\n      <td>모두투어리츠</td>\n      <td>85.166667</td>\n      <td>5335</td>\n      <td>40.802348</td>\n      <td>0.651359</td>\n    </tr>\n  </tbody>\n</table>\n</div>",
      "text/plain": "          stock_name          value   price          name           eps  \\\nid                                                                        \n130960        CJ E&M   58540.666667   98900        CJ E&M   6301.333333   \n139480        이마트  239230.833333  254500        이마트  18268.166667   \n145990        삼양사   82750.000000   82000        삼양사   5741.000000   \n185750        종근당   40293.666667  100500        종근당   3990.333333   \n204210  모두투어리츠    3093.333333    3475  모두투어리츠     85.166667   \n\n           bps        per       pbr  \nid                                   \n130960   54068  15.695091  1.829178  \n139480  295780  13.931338  0.860437  \n145990  108090  14.283226  0.758627  \n185750   40684  25.185866  2.470259  \n204210    5335  40.802348  0.651359  "
     },
     "execution_count": 147,
     "metadata": {},
     "output_type": "execute_result"
    }
   ],
   "source": [
    "df4 = df1.join(df2, how='inner')\n",
    "df4"
   ]
  },
  {
   "cell_type": "markdown",
   "metadata": {},
   "source": [
    "### 5-1 그룹 객체 만들기 (분할 단계)"
   ]
  },
  {
   "cell_type": "markdown",
   "metadata": {},
   "source": [
    "복잡한 데이터를 어떤 기준에 따라 여러 그룹으로 분할하여 관찰하는 거은 매우 좋다.  \n",
    "특정 기준을 적용해 하나의 데이터를 여러 그룹으로 분할하여 처리하는 것을 ```그룹 연산``` 이라고 한다.  \n",
    "1. ```분할 (split)```     : 데이터를 특정 조건에 의해 분할\n",
    "2. ```적용 (apply)```     : 데이터를 집계, 변환, 필터링하는 메소드 적용\n",
    "3. ```결합 (combine)```   : 2단계의 처리 결과를 하나로 병합"
   ]
  },
  {
   "cell_type": "markdown",
   "metadata": {},
   "source": [
    "###### 1개 열을 기준으로 그룹화"
   ]
  },
  {
   "cell_type": "code",
   "execution_count": 151,
   "metadata": {},
   "outputs": [
    {
     "name": "stdout",
     "output_type": "stream",
     "text": [
      "승객 수 :  891\n",
      "    age     sex  class     fare  survived\n",
      "0  22.0    male  Third   7.2500         0\n",
      "1  38.0  female  First  71.2833         1\n",
      "2  26.0  female  Third   7.9250         1\n",
      "3  35.0  female  First  53.1000         1\n",
      "4  35.0    male  Third   8.0500         0\n"
     ]
    }
   ],
   "source": [
    "import seaborn as sns\n",
    "import pandas as pd\n",
    "\n",
    "titanic = sns.load_dataset('titanic')\n",
    "df = titanic.loc[:, ['age', 'sex', 'class', 'fare', 'survived']]\n",
    "\n",
    "print('승객 수 : ', len(df))\n",
    "print(df.head())"
   ]
  },
  {
   "cell_type": "code",
   "execution_count": 155,
   "metadata": {},
   "outputs": [
    {
     "name": "stdout",
     "output_type": "stream",
     "text": [
      "<pandas.core.groupby.generic.DataFrameGroupBy object at 0x7f8adb4b8250>\n",
      "<class 'pandas.core.groupby.generic.DataFrameGroupBy'>\n",
      "* key : First\n",
      "* number : 216\n",
      "     age     sex  class     fare  survived\n",
      "1   38.0  female  First  71.2833         1\n",
      "3   35.0  female  First  53.1000         1\n",
      "6   54.0    male  First  51.8625         0\n",
      "11  58.0  female  First  26.5500         1\n",
      "23  28.0    male  First  35.5000         1\n",
      "\n",
      "\n",
      "* key : Second\n",
      "* number : 184\n",
      "     age     sex   class     fare  survived\n",
      "9   14.0  female  Second  30.0708         1\n",
      "15  55.0  female  Second  16.0000         1\n",
      "17   NaN    male  Second  13.0000         1\n",
      "20  35.0    male  Second  26.0000         0\n",
      "21  34.0    male  Second  13.0000         1\n",
      "\n",
      "\n",
      "* key : Third\n",
      "* number : 491\n",
      "    age     sex  class     fare  survived\n",
      "0  22.0    male  Third   7.2500         0\n",
      "2  26.0  female  Third   7.9250         1\n",
      "4  35.0    male  Third   8.0500         0\n",
      "5   NaN    male  Third   8.4583         0\n",
      "7   2.0    male  Third  21.0750         0\n",
      "\n",
      "\n"
     ]
    }
   ],
   "source": [
    "# class 열을 기준으로 분할\n",
    "grouped = df.groupby(['class'])\n",
    "print(grouped)\n",
    "print(type(grouped))\n",
    "\n",
    "# 그룹 분할된 객체를 iteration 으로 출력\n",
    "for key, group in grouped:\n",
    "    print('* key :', key)\n",
    "    print('* number :', len(group))\n",
    "    print(group.head())\n",
    "    print('\\n')"
   ]
  },
  {
   "cell_type": "markdown",
   "metadata": {},
   "source": [
    "열 class 와 같은 카테고리형 열을 기준으로 그룹화 한 결과이다.  \n",
    "grouped (pandas.core.groupby.generic.DataFrameGroupBy) 는 그룹화 한 key 와 해당 데이터인 group 이 포함되어 있다.  \n",
    "중요한점은, 그룹화 된 이후에도 ```각 행 인덱스가 그대로 유지된다는 점``` 이다 "
   ]
  },
  {
   "cell_type": "code",
   "execution_count": 156,
   "metadata": {},
   "outputs": [
    {
     "data": {
      "text/html": "<div>\n<style scoped>\n    .dataframe tbody tr th:only-of-type {\n        vertical-align: middle;\n    }\n\n    .dataframe tbody tr th {\n        vertical-align: top;\n    }\n\n    .dataframe thead th {\n        text-align: right;\n    }\n</style>\n<table border=\"1\" class=\"dataframe\">\n  <thead>\n    <tr style=\"text-align: right;\">\n      <th></th>\n      <th>age</th>\n      <th>fare</th>\n      <th>survived</th>\n    </tr>\n    <tr>\n      <th>class</th>\n      <th></th>\n      <th></th>\n      <th></th>\n    </tr>\n  </thead>\n  <tbody>\n    <tr>\n      <th>First</th>\n      <td>38.233441</td>\n      <td>84.154687</td>\n      <td>0.629630</td>\n    </tr>\n    <tr>\n      <th>Second</th>\n      <td>29.877630</td>\n      <td>20.662183</td>\n      <td>0.472826</td>\n    </tr>\n    <tr>\n      <th>Third</th>\n      <td>25.140620</td>\n      <td>13.675550</td>\n      <td>0.242363</td>\n    </tr>\n  </tbody>\n</table>\n</div>",
      "text/plain": "              age       fare  survived\nclass                                 \nFirst   38.233441  84.154687  0.629630\nSecond  29.877630  20.662183  0.472826\nThird   25.140620  13.675550  0.242363"
     },
     "execution_count": 156,
     "metadata": {},
     "output_type": "execute_result"
    }
   ],
   "source": [
    "# 연산 메소드 적용\n",
    "avg = grouped.mean()\n",
    "avg"
   ]
  },
  {
   "cell_type": "markdown",
   "metadata": {},
   "source": [
    "각각의 그룹 first, second, third 에 대해 각각 산술연산이 가능한 열들에 대해 (age, fare ..) 평균값을 구한  \n",
    "데이터프레임을 반환한다."
   ]
  },
  {
   "cell_type": "code",
   "execution_count": 158,
   "metadata": {},
   "outputs": [
    {
     "name": "stdout",
     "output_type": "stream",
     "text": [
      "<class 'pandas.core.frame.DataFrame'>\n",
      "Index(['age', 'fare', 'survived'], dtype='object')\n"
     ]
    }
   ],
   "source": [
    "print(type(avg))\n",
    "print(avg.columns)"
   ]
  },
  {
   "cell_type": "code",
   "execution_count": 160,
   "metadata": {},
   "outputs": [
    {
     "data": {
      "text/html": "<div>\n<style scoped>\n    .dataframe tbody tr th:only-of-type {\n        vertical-align: middle;\n    }\n\n    .dataframe tbody tr th {\n        vertical-align: top;\n    }\n\n    .dataframe thead th {\n        text-align: right;\n    }\n</style>\n<table border=\"1\" class=\"dataframe\">\n  <thead>\n    <tr style=\"text-align: right;\">\n      <th></th>\n      <th>age</th>\n      <th>sex</th>\n      <th>class</th>\n      <th>fare</th>\n      <th>survived</th>\n    </tr>\n  </thead>\n  <tbody>\n    <tr>\n      <th>0</th>\n      <td>22.0</td>\n      <td>male</td>\n      <td>Third</td>\n      <td>7.2500</td>\n      <td>0</td>\n    </tr>\n    <tr>\n      <th>2</th>\n      <td>26.0</td>\n      <td>female</td>\n      <td>Third</td>\n      <td>7.9250</td>\n      <td>1</td>\n    </tr>\n    <tr>\n      <th>4</th>\n      <td>35.0</td>\n      <td>male</td>\n      <td>Third</td>\n      <td>8.0500</td>\n      <td>0</td>\n    </tr>\n    <tr>\n      <th>5</th>\n      <td>NaN</td>\n      <td>male</td>\n      <td>Third</td>\n      <td>8.4583</td>\n      <td>0</td>\n    </tr>\n    <tr>\n      <th>7</th>\n      <td>2.0</td>\n      <td>male</td>\n      <td>Third</td>\n      <td>21.0750</td>\n      <td>0</td>\n    </tr>\n  </tbody>\n</table>\n</div>",
      "text/plain": "    age     sex  class     fare  survived\n0  22.0    male  Third   7.2500         0\n2  26.0  female  Third   7.9250         1\n4  35.0    male  Third   8.0500         0\n5   NaN    male  Third   8.4583         0\n7   2.0    male  Third  21.0750         0"
     },
     "execution_count": 160,
     "metadata": {},
     "output_type": "execute_result"
    }
   ],
   "source": [
    "# 특정 그룹 선택하기\n",
    "group3 = grouped.get_group('Third')\n",
    "group3.head()"
   ]
  },
  {
   "cell_type": "markdown",
   "metadata": {},
   "source": [
    "###### 여러 열을 기준으로 그룹화"
   ]
  },
  {
   "cell_type": "code",
   "execution_count": 162,
   "metadata": {},
   "outputs": [
    {
     "name": "stdout",
     "output_type": "stream",
     "text": [
      "('First', 'female')\n",
      "     age     sex  class      fare  survived\n",
      "1   38.0  female  First   71.2833         1\n",
      "3   35.0  female  First   53.1000         1\n",
      "11  58.0  female  First   26.5500         1\n",
      "31   NaN  female  First  146.5208         1\n",
      "52  49.0  female  First   76.7292         1\n",
      "\n",
      "\n",
      "('First', 'male')\n",
      "     age   sex  class      fare  survived\n",
      "6   54.0  male  First   51.8625         0\n",
      "23  28.0  male  First   35.5000         1\n",
      "27  19.0  male  First  263.0000         0\n",
      "30  40.0  male  First   27.7208         0\n",
      "34  28.0  male  First   82.1708         0\n",
      "\n",
      "\n",
      "('Second', 'female')\n",
      "     age     sex   class     fare  survived\n",
      "9   14.0  female  Second  30.0708         1\n",
      "15  55.0  female  Second  16.0000         1\n",
      "41  27.0  female  Second  21.0000         0\n",
      "43   3.0  female  Second  41.5792         1\n",
      "53  29.0  female  Second  26.0000         1\n",
      "\n",
      "\n",
      "('Second', 'male')\n",
      "     age   sex   class  fare  survived\n",
      "17   NaN  male  Second  13.0         1\n",
      "20  35.0  male  Second  26.0         0\n",
      "21  34.0  male  Second  13.0         1\n",
      "33  66.0  male  Second  10.5         0\n",
      "70  32.0  male  Second  10.5         0\n",
      "\n",
      "\n",
      "('Third', 'female')\n",
      "     age     sex  class     fare  survived\n",
      "2   26.0  female  Third   7.9250         1\n",
      "8   27.0  female  Third  11.1333         1\n",
      "10   4.0  female  Third  16.7000         1\n",
      "14  14.0  female  Third   7.8542         0\n",
      "18  31.0  female  Third  18.0000         0\n",
      "\n",
      "\n",
      "('Third', 'male')\n",
      "     age   sex  class     fare  survived\n",
      "0   22.0  male  Third   7.2500         0\n",
      "4   35.0  male  Third   8.0500         0\n",
      "5    NaN  male  Third   8.4583         0\n",
      "7    2.0  male  Third  21.0750         0\n",
      "12  20.0  male  Third   8.0500         0\n",
      "\n",
      "\n"
     ]
    }
   ],
   "source": [
    "# class 열, sex 열을 기준으로 분할\n",
    "grouped_two = df.groupby(['class', 'sex'])\n",
    "\n",
    "# group_two 그룹 객체를 iteration 으로 출력\n",
    "for key, group in grouped_two:\n",
    "    print(key)\n",
    "    print(group.head())\n",
    "    print('\\n')"
   ]
  },
  {
   "cell_type": "markdown",
   "metadata": {},
   "source": [
    "여기서 재밌는건 내가 그룹화 할 기준 열을 2개로 지정했기 때문에,  \n",
    "class 에서 3개, sex 에서 2개의 열을 조합한 튜플  \n",
    "즉, 총 6개의 경우에 대해 모두 그룹화 한 것을 알 수 있다.  \n"
   ]
  },
  {
   "cell_type": "code",
   "execution_count": 174,
   "metadata": {},
   "outputs": [
    {
     "data": {
      "text/html": "<div>\n<style scoped>\n    .dataframe tbody tr th:only-of-type {\n        vertical-align: middle;\n    }\n\n    .dataframe tbody tr th {\n        vertical-align: top;\n    }\n\n    .dataframe thead th {\n        text-align: right;\n    }\n</style>\n<table border=\"1\" class=\"dataframe\">\n  <thead>\n    <tr style=\"text-align: right;\">\n      <th></th>\n      <th></th>\n      <th>age</th>\n      <th>fare</th>\n      <th>survived</th>\n    </tr>\n    <tr>\n      <th>class</th>\n      <th>sex</th>\n      <th></th>\n      <th></th>\n      <th></th>\n    </tr>\n  </thead>\n  <tbody>\n    <tr>\n      <th rowspan=\"2\" valign=\"top\">First</th>\n      <th>female</th>\n      <td>34.611765</td>\n      <td>106.125798</td>\n      <td>0.968085</td>\n    </tr>\n    <tr>\n      <th>male</th>\n      <td>41.281386</td>\n      <td>67.226127</td>\n      <td>0.368852</td>\n    </tr>\n    <tr>\n      <th rowspan=\"2\" valign=\"top\">Second</th>\n      <th>female</th>\n      <td>28.722973</td>\n      <td>21.970121</td>\n      <td>0.921053</td>\n    </tr>\n    <tr>\n      <th>male</th>\n      <td>30.740707</td>\n      <td>19.741782</td>\n      <td>0.157407</td>\n    </tr>\n    <tr>\n      <th rowspan=\"2\" valign=\"top\">Third</th>\n      <th>female</th>\n      <td>21.750000</td>\n      <td>16.118810</td>\n      <td>0.500000</td>\n    </tr>\n    <tr>\n      <th>male</th>\n      <td>26.507589</td>\n      <td>12.661633</td>\n      <td>0.135447</td>\n    </tr>\n  </tbody>\n</table>\n</div>",
      "text/plain": "                     age        fare  survived\nclass  sex                                    \nFirst  female  34.611765  106.125798  0.968085\n       male    41.281386   67.226127  0.368852\nSecond female  28.722973   21.970121  0.921053\n       male    30.740707   19.741782  0.157407\nThird  female  21.750000   16.118810  0.500000\n       male    26.507589   12.661633  0.135447"
     },
     "execution_count": 174,
     "metadata": {},
     "output_type": "execute_result"
    }
   ],
   "source": [
    "# 그룹 객체에 대해 산술 연산 적용\n",
    "avg_two = grouped_two.mean()\n",
    "avg_two"
   ]
  },
  {
   "cell_type": "markdown",
   "metadata": {},
   "source": [
    "주의할 점은, 당연하지만 내가 2개의 열을 기준으로 그룹화 했기 떄문에  \n",
    "인덱스 또한 멀티 인덱스 (2개) 를 가진다는 점이다."
   ]
  },
  {
   "cell_type": "markdown",
   "metadata": {},
   "source": [
    "### 5-2 그룹 연산 메소드 (적용-결합 단계)"
   ]
  },
  {
   "cell_type": "markdown",
   "metadata": {},
   "source": [
    "###### 데이터 집계"
   ]
  },
  {
   "cell_type": "code",
   "execution_count": 176,
   "metadata": {},
   "outputs": [
    {
     "name": "stdout",
     "output_type": "stream",
     "text": [
      "승객 수 :  891\n",
      "    age     sex  class     fare  survived\n",
      "0  22.0    male  Third   7.2500         0\n",
      "1  38.0  female  First  71.2833         1\n",
      "2  26.0  female  Third   7.9250         1\n",
      "3  35.0  female  First  53.1000         1\n",
      "4  35.0    male  Third   8.0500         0\n"
     ]
    }
   ],
   "source": [
    "import seaborn as sns\n",
    "import pandas as pd\n",
    "\n",
    "titanic = sns.load_dataset('titanic')\n",
    "df = titanic.loc[:, ['age', 'sex', 'class', 'fare', 'survived']]\n",
    "\n",
    "print('승객 수 : ', len(df))\n",
    "print(df.head())\n",
    "\n",
    "# class 열 기준 분할\n",
    "group = df.groupby(['class'])"
   ]
  },
  {
   "cell_type": "code",
   "execution_count": 177,
   "metadata": {},
   "outputs": [
    {
     "data": {
      "text/html": "<div>\n<style scoped>\n    .dataframe tbody tr th:only-of-type {\n        vertical-align: middle;\n    }\n\n    .dataframe tbody tr th {\n        vertical-align: top;\n    }\n\n    .dataframe thead th {\n        text-align: right;\n    }\n</style>\n<table border=\"1\" class=\"dataframe\">\n  <thead>\n    <tr style=\"text-align: right;\">\n      <th></th>\n      <th>age</th>\n      <th>fare</th>\n      <th>survived</th>\n    </tr>\n    <tr>\n      <th>class</th>\n      <th></th>\n      <th></th>\n      <th></th>\n    </tr>\n  </thead>\n  <tbody>\n    <tr>\n      <th>First</th>\n      <td>14.802856</td>\n      <td>78.380373</td>\n      <td>0.484026</td>\n    </tr>\n    <tr>\n      <th>Second</th>\n      <td>14.001077</td>\n      <td>13.417399</td>\n      <td>0.500623</td>\n    </tr>\n    <tr>\n      <th>Third</th>\n      <td>12.495398</td>\n      <td>11.778142</td>\n      <td>0.428949</td>\n    </tr>\n  </tbody>\n</table>\n</div>",
      "text/plain": "              age       fare  survived\nclass                                 \nFirst   14.802856  78.380373  0.484026\nSecond  14.001077  13.417399  0.500623\nThird   12.495398  11.778142  0.428949"
     },
     "execution_count": 177,
     "metadata": {},
     "output_type": "execute_result"
    }
   ],
   "source": [
    "# 각 그룹에 대한 모든 열의 표준편차를 집계하여 데이터프레임으로 반환\n",
    "std_all = grouped.std()\n",
    "std_all"
   ]
  },
  {
   "cell_type": "code",
   "execution_count": 179,
   "metadata": {},
   "outputs": [
    {
     "data": {
      "text/plain": "class\nFirst     78.380373\nSecond    13.417399\nThird     11.778142\nName: fare, dtype: float64"
     },
     "execution_count": 179,
     "metadata": {},
     "output_type": "execute_result"
    }
   ],
   "source": [
    "# 각 그룹에 대한 fare 열에 대한 표준편차를 집계하여 시리즈로 반환\n",
    "std_fare = grouped.fare.std()\n",
    "std_fare"
   ]
  },
  {
   "cell_type": "code",
   "execution_count": 181,
   "metadata": {},
   "outputs": [
    {
     "data": {
      "text/html": "<div>\n<style scoped>\n    .dataframe tbody tr th:only-of-type {\n        vertical-align: middle;\n    }\n\n    .dataframe tbody tr th {\n        vertical-align: top;\n    }\n\n    .dataframe thead th {\n        text-align: right;\n    }\n</style>\n<table border=\"1\" class=\"dataframe\">\n  <thead>\n    <tr style=\"text-align: right;\">\n      <th></th>\n      <th>age</th>\n      <th>fare</th>\n      <th>survived</th>\n    </tr>\n    <tr>\n      <th>class</th>\n      <th></th>\n      <th></th>\n      <th></th>\n    </tr>\n  </thead>\n  <tbody>\n    <tr>\n      <th>First</th>\n      <td>79.08</td>\n      <td>512.3292</td>\n      <td>1</td>\n    </tr>\n    <tr>\n      <th>Second</th>\n      <td>69.33</td>\n      <td>73.5000</td>\n      <td>1</td>\n    </tr>\n    <tr>\n      <th>Third</th>\n      <td>73.58</td>\n      <td>69.5500</td>\n      <td>1</td>\n    </tr>\n  </tbody>\n</table>\n</div>",
      "text/plain": "          age      fare  survived\nclass                            \nFirst   79.08  512.3292         1\nSecond  69.33   73.5000         1\nThird   73.58   69.5500         1"
     },
     "execution_count": 181,
     "metadata": {},
     "output_type": "execute_result"
    }
   ],
   "source": [
    "# 집계 연산을 처리하는 사용자 정의 함수를 그룹 객체에 적용하기 - agg() 메소드\n",
    "def min_max(x):\n",
    "    return x.max() - x.min()\n",
    "\n",
    "# 각 그룹의 최대값과 최소값의 차이를 계산하여 그룹별로 집계\n",
    "agg_minmax = grouped.agg(min_max)\n",
    "agg_minmax"
   ]
  },
  {
   "cell_type": "markdown",
   "metadata": {},
   "source": [
    "apply 와 비슷하다.  \n",
    "apply 는 하나의 데이터프레임에 대해 사욪자 정의 함수를 적용하고자 했던것이고  \n",
    "agg 는 ```분할된 각각의 데이터프레임```에 대해 사용자 정의 함수를 적용하는 것이다.  \n",
    "  \n",
    "결과를 확인해 보면, 각각의 데이터프레임에 대해 산술연산이 가능한 열 age, fare, survived 에 대해 사용자 정의 함수를 집계하고  \n",
    "그것을 3개의 그룹 first, second, third 에 각각 적용하여 총 3x3 의 데이터프레임이 반환된 것을 알 수 있다.  \n"
   ]
  },
  {
   "cell_type": "code",
   "execution_count": 182,
   "metadata": {},
   "outputs": [
    {
     "data": {
      "text/html": "<div>\n<style scoped>\n    .dataframe tbody tr th:only-of-type {\n        vertical-align: middle;\n    }\n\n    .dataframe tbody tr th {\n        vertical-align: top;\n    }\n\n    .dataframe thead tr th {\n        text-align: left;\n    }\n\n    .dataframe thead tr:last-of-type th {\n        text-align: right;\n    }\n</style>\n<table border=\"1\" class=\"dataframe\">\n  <thead>\n    <tr>\n      <th></th>\n      <th colspan=\"2\" halign=\"left\">age</th>\n      <th colspan=\"2\" halign=\"left\">sex</th>\n      <th colspan=\"2\" halign=\"left\">fare</th>\n      <th colspan=\"2\" halign=\"left\">survived</th>\n    </tr>\n    <tr>\n      <th></th>\n      <th>min</th>\n      <th>max</th>\n      <th>min</th>\n      <th>max</th>\n      <th>min</th>\n      <th>max</th>\n      <th>min</th>\n      <th>max</th>\n    </tr>\n    <tr>\n      <th>class</th>\n      <th></th>\n      <th></th>\n      <th></th>\n      <th></th>\n      <th></th>\n      <th></th>\n      <th></th>\n      <th></th>\n    </tr>\n  </thead>\n  <tbody>\n    <tr>\n      <th>First</th>\n      <td>0.92</td>\n      <td>80.0</td>\n      <td>female</td>\n      <td>male</td>\n      <td>0.0</td>\n      <td>512.3292</td>\n      <td>0</td>\n      <td>1</td>\n    </tr>\n    <tr>\n      <th>Second</th>\n      <td>0.67</td>\n      <td>70.0</td>\n      <td>female</td>\n      <td>male</td>\n      <td>0.0</td>\n      <td>73.5000</td>\n      <td>0</td>\n      <td>1</td>\n    </tr>\n    <tr>\n      <th>Third</th>\n      <td>0.42</td>\n      <td>74.0</td>\n      <td>female</td>\n      <td>male</td>\n      <td>0.0</td>\n      <td>69.5500</td>\n      <td>0</td>\n      <td>1</td>\n    </tr>\n  </tbody>\n</table>\n</div>",
      "text/plain": "         age           sex       fare           survived    \n         min   max     min   max  min       max      min max\nclass                                                       \nFirst   0.92  80.0  female  male  0.0  512.3292        0   1\nSecond  0.67  70.0  female  male  0.0   73.5000        0   1\nThird   0.42  74.0  female  male  0.0   69.5500        0   1"
     },
     "execution_count": 182,
     "metadata": {},
     "output_type": "execute_result"
    }
   ],
   "source": [
    "# 여러 함수를 각 열에 동일하게 적용하여 집계\n",
    "agg_all = grouped.agg(['min', 'max'])\n",
    "agg_all"
   ]
  },
  {
   "cell_type": "code",
   "execution_count": 183,
   "metadata": {},
   "outputs": [
    {
     "data": {
      "text/html": "<div>\n<style scoped>\n    .dataframe tbody tr th:only-of-type {\n        vertical-align: middle;\n    }\n\n    .dataframe tbody tr th {\n        vertical-align: top;\n    }\n\n    .dataframe thead tr th {\n        text-align: left;\n    }\n\n    .dataframe thead tr:last-of-type th {\n        text-align: right;\n    }\n</style>\n<table border=\"1\" class=\"dataframe\">\n  <thead>\n    <tr>\n      <th></th>\n      <th colspan=\"2\" halign=\"left\">fare</th>\n      <th>age</th>\n    </tr>\n    <tr>\n      <th></th>\n      <th>min</th>\n      <th>max</th>\n      <th>mean</th>\n    </tr>\n    <tr>\n      <th>class</th>\n      <th></th>\n      <th></th>\n      <th></th>\n    </tr>\n  </thead>\n  <tbody>\n    <tr>\n      <th>First</th>\n      <td>0.0</td>\n      <td>512.3292</td>\n      <td>38.233441</td>\n    </tr>\n    <tr>\n      <th>Second</th>\n      <td>0.0</td>\n      <td>73.5000</td>\n      <td>29.877630</td>\n    </tr>\n    <tr>\n      <th>Third</th>\n      <td>0.0</td>\n      <td>69.5500</td>\n      <td>25.140620</td>\n    </tr>\n  </tbody>\n</table>\n</div>",
      "text/plain": "       fare                  age\n        min       max       mean\nclass                           \nFirst   0.0  512.3292  38.233441\nSecond  0.0   73.5000  29.877630\nThird   0.0   69.5500  25.140620"
     },
     "execution_count": 183,
     "metadata": {},
     "output_type": "execute_result"
    }
   ],
   "source": [
    "# 서로 다른 함수를 각 열에 적용하여 집계\n",
    "agg_sep = grouped.agg({\n",
    "    'fare': ['min', 'max'],\n",
    "    'age': 'mean'\n",
    "})\n",
    "agg_sep"
   ]
  },
  {
   "cell_type": "markdown",
   "metadata": {},
   "source": [
    "재밋는 점은, 여기서 내가 특정열인 survived 는 지정하지 않았기 때문에,  \n",
    "당연하지만 결과에서 제거된다는 점이다.  \n",
    "  \n",
    "또한, 내가 fare 열에는 함수 min, max 2개를 지정했기 때문에 결과도 2개로 나온것을 알 수 있다.  \n",
    "여기서 2개의 함수가 적용된 2개의 결과는 ```Series``` 로 반환된다.  "
   ]
  },
  {
   "cell_type": "code",
   "execution_count": 187,
   "metadata": {},
   "outputs": [
    {
     "name": "stdout",
     "output_type": "stream",
     "text": [
      "min      0.0000\n",
      "max    512.3292\n",
      "Name: First, dtype: float64\n"
     ]
    }
   ],
   "source": [
    "type(agg_sep.loc['First','fare'])\n",
    "print(agg_sep.loc['First','fare'])"
   ]
  },
  {
   "cell_type": "markdown",
   "metadata": {},
   "source": [
    "###### 그룹 연산 데이터 변환"
   ]
  },
  {
   "cell_type": "code",
   "execution_count": 192,
   "metadata": {},
   "outputs": [
    {
     "name": "stdout",
     "output_type": "stream",
     "text": [
      "* origin : First\n",
      "1   -0.015770\n",
      "3   -0.218434\n",
      "6    1.065103\n",
      "Name: age, dtype: float64\n",
      "\n",
      "\n",
      "* origin : Second\n",
      "9    -1.134029\n",
      "15    1.794317\n",
      "17         NaN\n",
      "Name: age, dtype: float64\n",
      "\n",
      "\n",
      "* origin : Third\n",
      "0   -0.251342\n",
      "2    0.068776\n",
      "4    0.789041\n",
      "Name: age, dtype: float64\n",
      "\n",
      "\n"
     ]
    }
   ],
   "source": [
    "# 그룹별 age 집계 연산\n",
    "age_mean = grouped.age.mean()\n",
    "age_std = grouped.age.std()\n",
    "\n",
    "# 그룹 객체의 age 열을 iteration 으로 z-score 를 계산하여 출력\n",
    "for key, group in grouped.age:\n",
    "    group_zscore = (group - age_mean.loc[key])/age_std.loc[key]\n",
    "    print('* origin :', key)\n",
    "    print(group_zscore.head(3))\n",
    "    print('\\n')"
   ]
  },
  {
   "cell_type": "code",
   "execution_count": 193,
   "metadata": {},
   "outputs": [
    {
     "data": {
      "text/plain": "class\nFirst     38.233441\nSecond    29.877630\nThird     25.140620\nName: age, dtype: float64"
     },
     "execution_count": 193,
     "metadata": {},
     "output_type": "execute_result"
    }
   ],
   "source": [
    "age_mean"
   ]
  },
  {
   "cell_type": "code",
   "execution_count": 194,
   "metadata": {},
   "outputs": [
    {
     "data": {
      "text/plain": "class\nFirst     14.802856\nSecond    14.001077\nThird     12.495398\nName: age, dtype: float64"
     },
     "execution_count": 194,
     "metadata": {},
     "output_type": "execute_result"
    }
   ],
   "source": [
    "age_std"
   ]
  },
  {
   "cell_type": "code",
   "execution_count": 196,
   "metadata": {},
   "outputs": [
    {
     "data": {
      "text/plain": "0     -0.251342\n1     -0.015770\n2      0.068776\n3     -0.218434\n4      0.789041\n         ...   \n886   -0.205529\n887   -1.299306\n888         NaN\n889   -0.826424\n890    0.548953\nName: age, Length: 891, dtype: float64"
     },
     "execution_count": 196,
     "metadata": {},
     "output_type": "execute_result"
    }
   ],
   "source": [
    "# z-score 사용자 정의 함수\n",
    "def z_score(x):\n",
    "    return (x-x.mean())/x.std()\n",
    "\n",
    "# transform 메소드를 통해 age 열의 데이터를 z-score 로 변환\n",
    "age_zscore = grouped.age.transform(z_score)\n",
    "age_zscore"
   ]
  },
  {
   "cell_type": "markdown",
   "metadata": {},
   "source": [
    "이전 group 연산 메소드 적용시에는 각 그룹별로 연산을 적용하고 ```집계 결과를 분할된채로``` 반환하였다.  \n",
    "하지만 transform() 메소드 사용시, 각 그룹별로 연산을 적용하고 ```집계 결과를 원본 형태로``` 반환한다."
   ]
  },
  {
   "cell_type": "markdown",
   "metadata": {},
   "source": [
    "###### 그룹 객체 필터링"
   ]
  },
  {
   "cell_type": "code",
   "execution_count": 197,
   "metadata": {},
   "outputs": [
    {
     "data": {
      "text/html": "<div>\n<style scoped>\n    .dataframe tbody tr th:only-of-type {\n        vertical-align: middle;\n    }\n\n    .dataframe tbody tr th {\n        vertical-align: top;\n    }\n\n    .dataframe thead th {\n        text-align: right;\n    }\n</style>\n<table border=\"1\" class=\"dataframe\">\n  <thead>\n    <tr style=\"text-align: right;\">\n      <th></th>\n      <th>age</th>\n      <th>sex</th>\n      <th>class</th>\n      <th>fare</th>\n      <th>survived</th>\n    </tr>\n  </thead>\n  <tbody>\n    <tr>\n      <th>0</th>\n      <td>22.0</td>\n      <td>male</td>\n      <td>Third</td>\n      <td>7.2500</td>\n      <td>0</td>\n    </tr>\n    <tr>\n      <th>1</th>\n      <td>38.0</td>\n      <td>female</td>\n      <td>First</td>\n      <td>71.2833</td>\n      <td>1</td>\n    </tr>\n    <tr>\n      <th>2</th>\n      <td>26.0</td>\n      <td>female</td>\n      <td>Third</td>\n      <td>7.9250</td>\n      <td>1</td>\n    </tr>\n    <tr>\n      <th>3</th>\n      <td>35.0</td>\n      <td>female</td>\n      <td>First</td>\n      <td>53.1000</td>\n      <td>1</td>\n    </tr>\n    <tr>\n      <th>4</th>\n      <td>35.0</td>\n      <td>male</td>\n      <td>Third</td>\n      <td>8.0500</td>\n      <td>0</td>\n    </tr>\n  </tbody>\n</table>\n</div>",
      "text/plain": "    age     sex  class     fare  survived\n0  22.0    male  Third   7.2500         0\n1  38.0  female  First  71.2833         1\n2  26.0  female  Third   7.9250         1\n3  35.0  female  First  53.1000         1\n4  35.0    male  Third   8.0500         0"
     },
     "execution_count": 197,
     "metadata": {},
     "output_type": "execute_result"
    }
   ],
   "source": [
    "# 데이터 개수가 200 개 이상인 그룹만 필터링 후 데이터프레임으로 변환\n",
    "grouped_filter = grouped.filter(lambda x: len(x) > 200)\n",
    "grouped_filter.head()"
   ]
  },
  {
   "cell_type": "code",
   "execution_count": 198,
   "metadata": {},
   "outputs": [
    {
     "data": {
      "text/plain": "['Third', 'First']\nCategories (2, object): ['Third', 'First']"
     },
     "execution_count": 198,
     "metadata": {},
     "output_type": "execute_result"
    }
   ],
   "source": [
    "# 필터링 결과\n",
    "grouped_filter['class'].unique()"
   ]
  },
  {
   "cell_type": "markdown",
   "metadata": {},
   "source": [
    "분할된 각 그룹에 대해 사용자 정의 필터링 함수를 적용한다.  \n",
    "(인자는 그룹(데이터프레임) 자체)  \n",
    "필터링된 결과가 합쳐져 데이터프레임으로 반환된다."
   ]
  },
  {
   "cell_type": "markdown",
   "metadata": {},
   "source": [
    "###### 그룹 객체에 함수 맵핑"
   ]
  },
  {
   "cell_type": "code",
   "execution_count": 199,
   "metadata": {},
   "outputs": [
    {
     "data": {
      "text/html": "<div>\n<style scoped>\n    .dataframe tbody tr th:only-of-type {\n        vertical-align: middle;\n    }\n\n    .dataframe tbody tr th {\n        vertical-align: top;\n    }\n\n    .dataframe thead th {\n        text-align: right;\n    }\n</style>\n<table border=\"1\" class=\"dataframe\">\n  <thead>\n    <tr style=\"text-align: right;\">\n      <th></th>\n      <th></th>\n      <th>age</th>\n      <th>fare</th>\n      <th>survived</th>\n    </tr>\n    <tr>\n      <th>class</th>\n      <th></th>\n      <th></th>\n      <th></th>\n      <th></th>\n    </tr>\n  </thead>\n  <tbody>\n    <tr>\n      <th rowspan=\"8\" valign=\"top\">First</th>\n      <th>count</th>\n      <td>186.000000</td>\n      <td>216.000000</td>\n      <td>216.000000</td>\n    </tr>\n    <tr>\n      <th>mean</th>\n      <td>38.233441</td>\n      <td>84.154687</td>\n      <td>0.629630</td>\n    </tr>\n    <tr>\n      <th>std</th>\n      <td>14.802856</td>\n      <td>78.380373</td>\n      <td>0.484026</td>\n    </tr>\n    <tr>\n      <th>min</th>\n      <td>0.920000</td>\n      <td>0.000000</td>\n      <td>0.000000</td>\n    </tr>\n    <tr>\n      <th>25%</th>\n      <td>27.000000</td>\n      <td>30.923950</td>\n      <td>0.000000</td>\n    </tr>\n    <tr>\n      <th>50%</th>\n      <td>37.000000</td>\n      <td>60.287500</td>\n      <td>1.000000</td>\n    </tr>\n    <tr>\n      <th>75%</th>\n      <td>49.000000</td>\n      <td>93.500000</td>\n      <td>1.000000</td>\n    </tr>\n    <tr>\n      <th>max</th>\n      <td>80.000000</td>\n      <td>512.329200</td>\n      <td>1.000000</td>\n    </tr>\n    <tr>\n      <th rowspan=\"8\" valign=\"top\">Second</th>\n      <th>count</th>\n      <td>173.000000</td>\n      <td>184.000000</td>\n      <td>184.000000</td>\n    </tr>\n    <tr>\n      <th>mean</th>\n      <td>29.877630</td>\n      <td>20.662183</td>\n      <td>0.472826</td>\n    </tr>\n    <tr>\n      <th>std</th>\n      <td>14.001077</td>\n      <td>13.417399</td>\n      <td>0.500623</td>\n    </tr>\n    <tr>\n      <th>min</th>\n      <td>0.670000</td>\n      <td>0.000000</td>\n      <td>0.000000</td>\n    </tr>\n    <tr>\n      <th>25%</th>\n      <td>23.000000</td>\n      <td>13.000000</td>\n      <td>0.000000</td>\n    </tr>\n    <tr>\n      <th>50%</th>\n      <td>29.000000</td>\n      <td>14.250000</td>\n      <td>0.000000</td>\n    </tr>\n    <tr>\n      <th>75%</th>\n      <td>36.000000</td>\n      <td>26.000000</td>\n      <td>1.000000</td>\n    </tr>\n    <tr>\n      <th>max</th>\n      <td>70.000000</td>\n      <td>73.500000</td>\n      <td>1.000000</td>\n    </tr>\n    <tr>\n      <th rowspan=\"8\" valign=\"top\">Third</th>\n      <th>count</th>\n      <td>355.000000</td>\n      <td>491.000000</td>\n      <td>491.000000</td>\n    </tr>\n    <tr>\n      <th>mean</th>\n      <td>25.140620</td>\n      <td>13.675550</td>\n      <td>0.242363</td>\n    </tr>\n    <tr>\n      <th>std</th>\n      <td>12.495398</td>\n      <td>11.778142</td>\n      <td>0.428949</td>\n    </tr>\n    <tr>\n      <th>min</th>\n      <td>0.420000</td>\n      <td>0.000000</td>\n      <td>0.000000</td>\n    </tr>\n    <tr>\n      <th>25%</th>\n      <td>18.000000</td>\n      <td>7.750000</td>\n      <td>0.000000</td>\n    </tr>\n    <tr>\n      <th>50%</th>\n      <td>24.000000</td>\n      <td>8.050000</td>\n      <td>0.000000</td>\n    </tr>\n    <tr>\n      <th>75%</th>\n      <td>32.000000</td>\n      <td>15.500000</td>\n      <td>0.000000</td>\n    </tr>\n    <tr>\n      <th>max</th>\n      <td>74.000000</td>\n      <td>69.550000</td>\n      <td>1.000000</td>\n    </tr>\n  </tbody>\n</table>\n</div>",
      "text/plain": "                     age        fare    survived\nclass                                           \nFirst  count  186.000000  216.000000  216.000000\n       mean    38.233441   84.154687    0.629630\n       std     14.802856   78.380373    0.484026\n       min      0.920000    0.000000    0.000000\n       25%     27.000000   30.923950    0.000000\n       50%     37.000000   60.287500    1.000000\n       75%     49.000000   93.500000    1.000000\n       max     80.000000  512.329200    1.000000\nSecond count  173.000000  184.000000  184.000000\n       mean    29.877630   20.662183    0.472826\n       std     14.001077   13.417399    0.500623\n       min      0.670000    0.000000    0.000000\n       25%     23.000000   13.000000    0.000000\n       50%     29.000000   14.250000    0.000000\n       75%     36.000000   26.000000    1.000000\n       max     70.000000   73.500000    1.000000\nThird  count  355.000000  491.000000  491.000000\n       mean    25.140620   13.675550    0.242363\n       std     12.495398   11.778142    0.428949\n       min      0.420000    0.000000    0.000000\n       25%     18.000000    7.750000    0.000000\n       50%     24.000000    8.050000    0.000000\n       75%     32.000000   15.500000    0.000000\n       max     74.000000   69.550000    1.000000"
     },
     "execution_count": 199,
     "metadata": {},
     "output_type": "execute_result"
    }
   ],
   "source": [
    "# 집계: 각 그룹별 요약 통계 정보 집계\n",
    "agg_grouped = grouped.apply(lambda x: x.describe())\n",
    "agg_grouped"
   ]
  },
  {
   "cell_type": "markdown",
   "metadata": {},
   "source": [
    "위의 코드는 인상깊다.  \n",
    "데이터프레임 메소드인 describe, info 등의 메소드를 agg 메소드를 통해 분할된 각 그룹에 적용한 정보를  \n",
    "집계하여 한눈에 볼 수 있다."
   ]
  },
  {
   "cell_type": "code",
   "execution_count": 201,
   "metadata": {},
   "outputs": [
    {
     "data": {
      "text/plain": "0     -0.251342\n1     -0.015770\n2      0.068776\n3     -0.218434\n4      0.789041\n         ...   \n886   -0.205529\n887   -1.299306\n888         NaN\n889   -0.826424\n890    0.548953\nName: age, Length: 891, dtype: float64"
     },
     "execution_count": 201,
     "metadata": {},
     "output_type": "execute_result"
    }
   ],
   "source": [
    "# z-score 계산 함수 정의\n",
    "def z_score(x):\n",
    "    return (x-x.mean())/x.std()\n",
    "\n",
    "age_zscore = grouped.age.apply(z_score)     # axis = 0 (default)\n",
    "age_zscore"
   ]
  },
  {
   "cell_type": "code",
   "execution_count": 203,
   "metadata": {},
   "outputs": [
    {
     "data": {
      "text/plain": "class\nFirst     False\nSecond     True\nThird      True\ndtype: bool"
     },
     "execution_count": 203,
     "metadata": {},
     "output_type": "execute_result"
    }
   ],
   "source": [
    "# 필터링: age 열의 데이터평균이 30 보다 작은 그룹만을 필터링하여 출력\n",
    "age_filter = grouped.apply(lambda x: x.age.mean() < 30)\n",
    "age_filter"
   ]
  },
  {
   "cell_type": "markdown",
   "metadata": {},
   "source": [
    "이부분도 당연하지만 재밌다.  \n",
    "grouped 라는 그룹 객체에 apply 메소드를 각 그룹의 age 열에 적용한 결과가 각 그룹의 key 와   \n",
    "사용자 정의 함수의 결과인 진위값이 쌍으로 되어 저장되는점."
   ]
  },
  {
   "cell_type": "code",
   "execution_count": 205,
   "metadata": {},
   "outputs": [
    {
     "name": "stdout",
     "output_type": "stream",
     "text": [
      "age     sex   class     fare  survived\n",
      "9   14.0  female  Second  30.0708         1\n",
      "15  55.0  female  Second  16.0000         1\n",
      "17   NaN    male  Second  13.0000         1\n",
      "20  35.0    male  Second  26.0000         0\n",
      "21  34.0    male  Second  13.0000         1\n",
      "\n",
      "\n",
      "    age     sex  class     fare  survived\n",
      "0  22.0    male  Third   7.2500         0\n",
      "2  26.0  female  Third   7.9250         1\n",
      "4  35.0    male  Third   8.0500         0\n",
      "5   NaN    male  Third   8.4583         0\n",
      "7   2.0    male  Third  21.0750         0\n",
      "\n",
      "\n"
     ]
    }
   ],
   "source": [
    "for x in age_filter.index:\n",
    "    if age_filter[x] == True:\n",
    "        age_filter_df = grouped.get_group(x)\n",
    "        print(age_filter_df.head())\n",
    "        print('\\n')\n",
    "        "
   ]
  },
  {
   "cell_type": "code",
   "execution_count": 207,
   "metadata": {},
   "outputs": [
    {
     "data": {
      "text/plain": "False"
     },
     "execution_count": 207,
     "metadata": {},
     "output_type": "execute_result"
    }
   ],
   "source": [
    "age_filter['First']"
   ]
  },
  {
   "cell_type": "markdown",
   "metadata": {},
   "source": [
    "### 6-1 멀티 인덱스"
   ]
  },
  {
   "cell_type": "code",
   "execution_count": 208,
   "metadata": {},
   "outputs": [],
   "source": [
    "import seaborn as sns\n",
    "import pandas as pd\n",
    "\n",
    "titanic = sns.load_dataset('titanic')\n",
    "df = titanic.loc[:, ['age', 'sex', 'class', 'fare', 'survived']]\n",
    "\n",
    "grouped = df.groupby(['class', 'sex'])"
   ]
  },
  {
   "cell_type": "code",
   "execution_count": 210,
   "metadata": {},
   "outputs": [
    {
     "data": {
      "text/html": "<div>\n<style scoped>\n    .dataframe tbody tr th:only-of-type {\n        vertical-align: middle;\n    }\n\n    .dataframe tbody tr th {\n        vertical-align: top;\n    }\n\n    .dataframe thead th {\n        text-align: right;\n    }\n</style>\n<table border=\"1\" class=\"dataframe\">\n  <thead>\n    <tr style=\"text-align: right;\">\n      <th></th>\n      <th></th>\n      <th>age</th>\n      <th>fare</th>\n      <th>survived</th>\n    </tr>\n    <tr>\n      <th>class</th>\n      <th>sex</th>\n      <th></th>\n      <th></th>\n      <th></th>\n    </tr>\n  </thead>\n  <tbody>\n    <tr>\n      <th rowspan=\"2\" valign=\"top\">First</th>\n      <th>female</th>\n      <td>34.611765</td>\n      <td>106.125798</td>\n      <td>0.968085</td>\n    </tr>\n    <tr>\n      <th>male</th>\n      <td>41.281386</td>\n      <td>67.226127</td>\n      <td>0.368852</td>\n    </tr>\n    <tr>\n      <th rowspan=\"2\" valign=\"top\">Second</th>\n      <th>female</th>\n      <td>28.722973</td>\n      <td>21.970121</td>\n      <td>0.921053</td>\n    </tr>\n    <tr>\n      <th>male</th>\n      <td>30.740707</td>\n      <td>19.741782</td>\n      <td>0.157407</td>\n    </tr>\n    <tr>\n      <th rowspan=\"2\" valign=\"top\">Third</th>\n      <th>female</th>\n      <td>21.750000</td>\n      <td>16.118810</td>\n      <td>0.500000</td>\n    </tr>\n    <tr>\n      <th>male</th>\n      <td>26.507589</td>\n      <td>12.661633</td>\n      <td>0.135447</td>\n    </tr>\n  </tbody>\n</table>\n</div>",
      "text/plain": "                     age        fare  survived\nclass  sex                                    \nFirst  female  34.611765  106.125798  0.968085\n       male    41.281386   67.226127  0.368852\nSecond female  28.722973   21.970121  0.921053\n       male    30.740707   19.741782  0.157407\nThird  female  21.750000   16.118810  0.500000\n       male    26.507589   12.661633  0.135447"
     },
     "execution_count": 210,
     "metadata": {},
     "output_type": "execute_result"
    }
   ],
   "source": [
    "gdf = grouped.mean()\n",
    "gdf"
   ]
  },
  {
   "cell_type": "code",
   "execution_count": 211,
   "metadata": {},
   "outputs": [
    {
     "name": "stdout",
     "output_type": "stream",
     "text": [
      "<class 'pandas.core.frame.DataFrame'>\n"
     ]
    }
   ],
   "source": [
    "print(type(gdf))"
   ]
  },
  {
   "cell_type": "markdown",
   "metadata": {},
   "source": [
    "위에서 해봤던것처럼 그룹 객체가 총 6개의 경우에 대해 (멀티 인덱스) 모두 산술 연산 mean() 이 적용된 데이터프레임이 반환되었다."
   ]
  },
  {
   "cell_type": "code",
   "execution_count": 212,
   "metadata": {},
   "outputs": [
    {
     "data": {
      "text/html": "<div>\n<style scoped>\n    .dataframe tbody tr th:only-of-type {\n        vertical-align: middle;\n    }\n\n    .dataframe tbody tr th {\n        vertical-align: top;\n    }\n\n    .dataframe thead th {\n        text-align: right;\n    }\n</style>\n<table border=\"1\" class=\"dataframe\">\n  <thead>\n    <tr style=\"text-align: right;\">\n      <th></th>\n      <th>age</th>\n      <th>fare</th>\n      <th>survived</th>\n    </tr>\n    <tr>\n      <th>sex</th>\n      <th></th>\n      <th></th>\n      <th></th>\n    </tr>\n  </thead>\n  <tbody>\n    <tr>\n      <th>female</th>\n      <td>34.611765</td>\n      <td>106.125798</td>\n      <td>0.968085</td>\n    </tr>\n    <tr>\n      <th>male</th>\n      <td>41.281386</td>\n      <td>67.226127</td>\n      <td>0.368852</td>\n    </tr>\n  </tbody>\n</table>\n</div>",
      "text/plain": "              age        fare  survived\nsex                                    \nfemale  34.611765  106.125798  0.968085\nmale    41.281386   67.226127  0.368852"
     },
     "execution_count": 212,
     "metadata": {},
     "output_type": "execute_result"
    }
   ],
   "source": [
    "# 특정 class 인덱스 행 출력\n",
    "gdf.loc['First']"
   ]
  },
  {
   "cell_type": "code",
   "execution_count": 214,
   "metadata": {},
   "outputs": [
    {
     "data": {
      "text/plain": "pandas.core.frame.DataFrame"
     },
     "execution_count": 214,
     "metadata": {},
     "output_type": "execute_result"
    }
   ],
   "source": [
    "type(gdf.loc['First'])"
   ]
  },
  {
   "cell_type": "markdown",
   "metadata": {},
   "source": [
    "여기서 멀티인덱스 이기 때문에, 멀티 인덱서중 하나로 선택한 결과는 시리즈가 아닌 데이터프레임이다.  "
   ]
  },
  {
   "cell_type": "code",
   "execution_count": 213,
   "metadata": {},
   "outputs": [
    {
     "data": {
      "text/plain": "age          34.611765\nfare        106.125798\nsurvived      0.968085\nName: (First, female), dtype: float64"
     },
     "execution_count": 213,
     "metadata": {},
     "output_type": "execute_result"
    }
   ],
   "source": [
    "# 멀티 인덱서로 선택\n",
    "gdf.loc[('First', 'female')]"
   ]
  },
  {
   "cell_type": "code",
   "execution_count": 215,
   "metadata": {},
   "outputs": [
    {
     "data": {
      "text/plain": "pandas.core.series.Series"
     },
     "execution_count": 215,
     "metadata": {},
     "output_type": "execute_result"
    }
   ],
   "source": [
    "type(gdf.loc[('First', 'female')])"
   ]
  },
  {
   "cell_type": "markdown",
   "metadata": {},
   "source": [
    "여기서 멀티 인덱서를 통해 특정 행을 특정햇기 떄문에 결과는 시리즈가 반환된다."
   ]
  },
  {
   "cell_type": "code",
   "execution_count": 216,
   "metadata": {},
   "outputs": [
    {
     "data": {
      "text/html": "<div>\n<style scoped>\n    .dataframe tbody tr th:only-of-type {\n        vertical-align: middle;\n    }\n\n    .dataframe tbody tr th {\n        vertical-align: top;\n    }\n\n    .dataframe thead th {\n        text-align: right;\n    }\n</style>\n<table border=\"1\" class=\"dataframe\">\n  <thead>\n    <tr style=\"text-align: right;\">\n      <th></th>\n      <th>age</th>\n      <th>fare</th>\n      <th>survived</th>\n    </tr>\n    <tr>\n      <th>class</th>\n      <th></th>\n      <th></th>\n      <th></th>\n    </tr>\n  </thead>\n  <tbody>\n    <tr>\n      <th>First</th>\n      <td>41.281386</td>\n      <td>67.226127</td>\n      <td>0.368852</td>\n    </tr>\n    <tr>\n      <th>Second</th>\n      <td>30.740707</td>\n      <td>19.741782</td>\n      <td>0.157407</td>\n    </tr>\n    <tr>\n      <th>Third</th>\n      <td>26.507589</td>\n      <td>12.661633</td>\n      <td>0.135447</td>\n    </tr>\n  </tbody>\n</table>\n</div>",
      "text/plain": "              age       fare  survived\nclass                                 \nFirst   41.281386  67.226127  0.368852\nSecond  30.740707  19.741782  0.157407\nThird   26.507589  12.661633  0.135447"
     },
     "execution_count": 216,
     "metadata": {},
     "output_type": "execute_result"
    }
   ],
   "source": [
    "# xs 인덱서를 통해 행 추출\n",
    "gdf.xs('male', level='sex')"
   ]
  },
  {
   "cell_type": "code",
   "execution_count": 217,
   "metadata": {},
   "outputs": [
    {
     "data": {
      "text/plain": "pandas.core.frame.DataFrame"
     },
     "execution_count": 217,
     "metadata": {},
     "output_type": "execute_result"
    }
   ],
   "source": [
    "type(gdf.xs('male', level='sex'))"
   ]
  },
  {
   "cell_type": "markdown",
   "metadata": {},
   "source": [
    "### 7-1 피벗"
   ]
  },
  {
   "cell_type": "code",
   "execution_count": null,
   "metadata": {},
   "outputs": [],
   "source": [
    "import seaborn as sns\n",
    "import pandas as pd\n",
    "\n",
    "titanic = sns.load_dataset('titanic')\n",
    "df = titanic.loc[:, ['age', 'sex', 'class', 'fare', 'survived']]"
   ]
  }
 ],
 "metadata": {
  "kernelspec": {
   "display_name": "Python 3",
   "name": "python3"
  },
  "language_info": {
   "name": "python",
   "nbconvert_exporter": "python",
   "version": "3.9.1-final"
  },
  "orig_nbformat": 2
 },
 "nbformat": 4,
 "nbformat_minor": 2
}